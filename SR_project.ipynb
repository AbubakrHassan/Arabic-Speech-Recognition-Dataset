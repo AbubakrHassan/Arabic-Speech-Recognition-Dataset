{
  "nbformat": 4,
  "nbformat_minor": 0,
  "metadata": {
    "colab": {
      "name": "SR project.ipynb",
      "provenance": [],
      "collapsed_sections": [],
      "include_colab_link": true
    },
    "kernelspec": {
      "name": "python3",
      "display_name": "Python 3"
    },
    "accelerator": "GPU"
  },
  "cells": [
    {
      "cell_type": "markdown",
      "metadata": {
        "id": "view-in-github",
        "colab_type": "text"
      },
      "source": [
        "<a href=\"https://colab.research.google.com/github/AbubakrHassan/Arabic-Speech-Recognition-Dataset/blob/master/SR_project.ipynb\" target=\"_parent\"><img src=\"https://colab.research.google.com/assets/colab-badge.svg\" alt=\"Open In Colab\"/></a>"
      ]
    },
    {
      "cell_type": "code",
      "metadata": {
        "id": "GzOepD_JUPcg",
        "colab_type": "code",
        "colab": {
          "base_uri": "https://localhost:8080/",
          "height": 122
        },
        "outputId": "a205d6a1-04c3-4f78-fae7-07671ca5bbca"
      },
      "source": [
        "from google.colab import drive\n",
        "drive.mount('/content/gdrive')"
      ],
      "execution_count": null,
      "outputs": [
        {
          "output_type": "stream",
          "text": [
            "Go to this URL in a browser: https://accounts.google.com/o/oauth2/auth?client_id=947318989803-6bn6qk8qdgf4n4g3pfee6491hc0brc4i.apps.googleusercontent.com&redirect_uri=urn%3aietf%3awg%3aoauth%3a2.0%3aoob&response_type=code&scope=email%20https%3a%2f%2fwww.googleapis.com%2fauth%2fdocs.test%20https%3a%2f%2fwww.googleapis.com%2fauth%2fdrive%20https%3a%2f%2fwww.googleapis.com%2fauth%2fdrive.photos.readonly%20https%3a%2f%2fwww.googleapis.com%2fauth%2fpeopleapi.readonly\n",
            "\n",
            "Enter your authorization code:\n",
            "··········\n",
            "Mounted at /content/gdrive\n"
          ],
          "name": "stdout"
        }
      ]
    },
    {
      "cell_type": "code",
      "metadata": {
        "id": "9j4DX8O5Y-jF",
        "colab_type": "code",
        "colab": {}
      },
      "source": [
        "!pip install torchaudio > .null.txt\n",
        "!pip install PyDrive > .null.txt\n",
        "!pip install soundfile > .null.txt"
      ],
      "execution_count": null,
      "outputs": []
    },
    {
      "cell_type": "code",
      "metadata": {
        "id": "3nNhuceJZCyL",
        "colab_type": "code",
        "colab": {
          "base_uri": "https://localhost:8080/",
          "height": 119
        },
        "outputId": "70a365d5-cf70-4d1b-fabc-3263316d4ad7"
      },
      "source": [
        "! git clone https://github.com/facebookresearch/CPC_audio.git "
      ],
      "execution_count": null,
      "outputs": [
        {
          "output_type": "stream",
          "text": [
            "Cloning into 'CPC_audio'...\n",
            "remote: Enumerating objects: 84, done.\u001b[K\n",
            "remote: Counting objects: 100% (84/84), done.\u001b[K\n",
            "remote: Compressing objects: 100% (65/65), done.\u001b[K\n",
            "remote: Total 84 (delta 13), reused 75 (delta 6), pack-reused 0\u001b[K\n",
            "Unpacking objects: 100% (84/84), done.\n"
          ],
          "name": "stdout"
        }
      ]
    },
    {
      "cell_type": "code",
      "metadata": {
        "id": "gTOABLpdaHyi",
        "colab_type": "code",
        "colab": {
          "base_uri": "https://localhost:8080/",
          "height": 173
        },
        "outputId": "1fd3a4c6-76c4-4dc4-f97b-e51cbe9c2758"
      },
      "source": [
        "%cd /content/CPC_audio\n",
        "!python setup.py develop > .null.txt"
      ],
      "execution_count": null,
      "outputs": [
        {
          "output_type": "stream",
          "text": [
            "/content/CPC_audio\n",
            "In file included from \u001b[01m\u001b[K/usr/local/lib/python3.6/dist-packages/numpy/core/include/numpy/ndarraytypes.h:1832:0\u001b[m\u001b[K,\n",
            "                 from \u001b[01m\u001b[K/usr/local/lib/python3.6/dist-packages/numpy/core/include/numpy/ndarrayobject.h:12\u001b[m\u001b[K,\n",
            "                 from \u001b[01m\u001b[K/usr/local/lib/python3.6/dist-packages/numpy/core/include/numpy/arrayobject.h:4\u001b[m\u001b[K,\n",
            "                 from \u001b[01m\u001b[Kcpc/eval/ABX/dtw.c:625\u001b[m\u001b[K:\n",
            "\u001b[01m\u001b[K/usr/local/lib/python3.6/dist-packages/numpy/core/include/numpy/npy_1_7_deprecated_api.h:17:2:\u001b[m\u001b[K \u001b[01;35m\u001b[Kwarning: \u001b[m\u001b[K#warning \"Using deprecated NumPy API, disable it with \" \"#define NPY_NO_DEPRECATED_API NPY_1_7_API_VERSION\" [\u001b[01;35m\u001b[K-Wcpp\u001b[m\u001b[K]\n",
            " #\u001b[01;35m\u001b[Kwarning\u001b[m\u001b[K \"Using deprecated NumPy API, disable it with \" \\\n",
            "  \u001b[01;35m\u001b[K^~~~~~~\u001b[m\u001b[K\n"
          ],
          "name": "stdout"
        }
      ]
    },
    {
      "cell_type": "markdown",
      "metadata": {
        "id": "MliUqlQSfUHm",
        "colab_type": "text"
      },
      "source": [
        "## Getting data and language model"
      ]
    },
    {
      "cell_type": "code",
      "metadata": {
        "id": "u3IePbvoHHiD",
        "colab_type": "code",
        "colab": {}
      },
      "source": [
        "!cp -R /content/gdrive/My\\ Drive/speech_recognition/data.zip /content\n",
        "!unzip /content/data.zip -d /content/data > .null.txt"
      ],
      "execution_count": null,
      "outputs": []
    },
    {
      "cell_type": "code",
      "metadata": {
        "id": "jBbMfv30caSQ",
        "colab_type": "code",
        "colab": {}
      },
      "source": [
        "!cp -R /content/gdrive/My\\ Drive/speech_recognition/wiki_* /content\n"
      ],
      "execution_count": null,
      "outputs": []
    },
    {
      "cell_type": "code",
      "metadata": {
        "id": "qlhsCSOoHhJd",
        "colab_type": "code",
        "colab": {}
      },
      "source": [
        "# get the code\n",
        "!git clone --recursive https://github.com/parlance/ctcdecode.git\n",
        "%cd ctcdecode\n",
        "\n",
        "# install dependencies (PyTorch and CFFI)\n",
        "!pip install -r requirements.txt\n",
        "\n",
        "!python setup.py install > .null.txt\n",
        "# If you do NOT require kenlm, the `--recursive` flag is not required on git clone\n",
        "# and `--exclude-kenlm` should be appended to the `python setup.py install` command"
      ],
      "execution_count": null,
      "outputs": []
    },
    {
      "cell_type": "code",
      "metadata": {
        "id": "EZOPO1QS9y2l",
        "colab_type": "code",
        "colab": {}
      },
      "source": [
        ""
      ],
      "execution_count": null,
      "outputs": []
    },
    {
      "cell_type": "code",
      "metadata": {
        "id": "ppRP3ZqP8vZP",
        "colab_type": "code",
        "colab": {}
      },
      "source": [
        "import torch\n",
        "import torchaudio\n",
        "from ctcdecode import CTCBeamDecoder\n",
        "from torch.optim.lr_scheduler import ReduceLROnPlateau\n"
      ],
      "execution_count": null,
      "outputs": []
    },
    {
      "cell_type": "markdown",
      "metadata": {
        "id": "YZ1Wywx3BNGS",
        "colab_type": "text"
      },
      "source": [
        "# Part 1 : contrastive predictive coding\n",
        "\n",
        "Contrastive Predictive Coding (CPC) is a method of unsupervised training for speech models. The idea behind it is pretty simple:\n",
        "\n",
        "\n",
        "1.   The raw audio wave is passed through a convolutional network: the ```encoder```\n",
        "2.   Then, the encoder's output is given to a recurrent network the ```context```\n",
        "3. A third party network, the ```prediction_network``` will try to predict the  future embeddings of the encoder using the output of the context network.\n",
        "\n",
        "In order to avoid a collapse to trivial solutions, the prediction_network doesn't try to reconstruct the future features. Instead, using the context output $c_t$ at time $t$ it is trained to discriminate the real  encoder representatioin $g_{t+k}$ at time $t+k$ from several other features $(g_n)_n$ taken elsewhere in the batch. Thus the loss becomes:\n",
        "\n",
        "\\\\[ \\mathcal{L}_c = - \\frac{1}{K} \\sum_{k=1}^K \\text{Cross_entropy}(\\phi_k(c_t), g_{t+k}) \\\\]\n",
        "\n",
        "Or:\n",
        "\n",
        "\\\\[ \\mathcal{L}_c = - \\frac{1}{K} \\sum_{k=1}^K \\log \\frac{ \\exp\\left(\\phi_k(c_t)^\\top g_{t+k}\\right) }{  \\sum_{\\mathbf{n}\\in\\mathcal{N}_t} \\exp\\left(\\phi_k(c_t)^\\top g_n\\right)} \\\\]\n",
        "\n",
        "Where:\n",
        "\n",
        "\n",
        "*   $\\phi_k$ is the prediction network for the kth timestep\n",
        "*   $\\mathcal{N}_t$ is the set of all negative examples sampled for timestep $t$\n",
        "\n",
        "\n"
      ]
    },
    {
      "cell_type": "markdown",
      "metadata": {
        "id": "frPFYXuPfNPs",
        "colab_type": "text"
      },
      "source": [
        "## Exercice 1 : Building the model\n",
        "\n",
        "In this exercise, we will build and train a small CPC model using the repository CPC_audio.\n",
        "\n",
        "The code below loads a context and an encoder newtorks."
      ]
    },
    {
      "cell_type": "code",
      "metadata": {
        "id": "8g-xPSdLRdui",
        "colab_type": "code",
        "colab": {
          "base_uri": "https://localhost:8080/",
          "height": 34
        },
        "outputId": "d6ae8e31-92c5-4e21-ee38-19ab22a6d838"
      },
      "source": [
        "%cd /content/CPC_audio\n",
        "from cpc.model import CPCEncoder, CPCAR\n",
        "device = torch.device(\"cuda:0\" if torch.cuda.is_available() else \"cpu\")\n",
        "\n",
        "DIM_ENCODER=256\n",
        "DIM_CONTEXT=256\n",
        "KEEP_HIDDEN_VECTOR=False\n",
        "N_LEVELS_CONTEXT=1\n",
        "CONTEXT_RNN=\"LSTM\"\n",
        "N_PREDICTIONS=12\n",
        "LEARNING_RATE=2e-4\n",
        "N_NEGATIVE_SAMPLE =128"
      ],
      "execution_count": null,
      "outputs": [
        {
          "output_type": "stream",
          "text": [
            "/content/CPC_audio\n"
          ],
          "name": "stdout"
        }
      ]
    },
    {
      "cell_type": "code",
      "metadata": {
        "id": "eT2kmTvoqAfa",
        "colab_type": "code",
        "colab": {}
      },
      "source": [
        ""
      ],
      "execution_count": null,
      "outputs": []
    },
    {
      "cell_type": "code",
      "metadata": {
        "id": "7Wx8WkrQk9bQ",
        "colab_type": "code",
        "colab": {}
      },
      "source": [
        "encoder = CPCEncoder(DIM_ENCODER).to(device)\n",
        "context = CPCAR(DIM_ENCODER, DIM_CONTEXT, KEEP_HIDDEN_VECTOR, 1, mode=CONTEXT_RNN).to(device)"
      ],
      "execution_count": null,
      "outputs": []
    },
    {
      "cell_type": "code",
      "metadata": {
        "id": "f9BrweAIla4J",
        "colab_type": "code",
        "colab": {}
      },
      "source": [
        "# Several functions that will be necessary to load the data later\n",
        "from cpc.dataset import findAllSeqs, AudioBatchData, parseSeqLabels\n",
        "SIZE_WINDOW = 20480\n",
        "BATCH_SIZE=8\n",
        "def load_dataset(path_dataset, file_extension='.wav', phone_label_dict=None):\n",
        "  data_list, speakers = findAllSeqs(path_dataset, extension=file_extension)\n",
        "  dataset = AudioBatchData(path_dataset, SIZE_WINDOW, data_list, phone_label_dict, len(speakers))\n",
        "  return dataset"
      ],
      "execution_count": null,
      "outputs": []
    },
    {
      "cell_type": "markdown",
      "metadata": {
        "id": "58pQ7ysXk9ZO",
        "colab_type": "text"
      },
      "source": [
        "Now build a new class, ```CPCModel``` which will"
      ]
    },
    {
      "cell_type": "code",
      "metadata": {
        "id": "rR5IYRTpRF8T",
        "colab_type": "code",
        "colab": {}
      },
      "source": [
        "class CPCModel(torch.nn.Module):\n",
        "\n",
        "    def __init__(self,\n",
        "                 encoder,\n",
        "                 AR):\n",
        "\n",
        "        super(CPCModel, self).__init__()\n",
        "        self.gEncoder = encoder\n",
        "        self.gAR = AR\n",
        "\n",
        "    def forward(self, batch_data):\n",
        "\n",
        "        encoder_output = self.gEncoder(batch_data)\n",
        "        \n",
        "\n",
        "        #print(encoder_output.shape)\n",
        "        # The output of the encoder data does not have the good format \n",
        "        # indeed it is Batch_size x Hidden_size x temp size\n",
        "        # while the context requires Batch_size  x temp size x Hidden_size\n",
        "        # thus you need to permute\n",
        "        context_input = encoder_output.permute(0, 2, 1)\n",
        "        \n",
        "\n",
        "        context_output = self.gAR(context_input)\n",
        "        \n",
        "        #print(context_output.shape)\n",
        "        return context_output, encoder_output"
      ],
      "execution_count": null,
      "outputs": []
    },
    {
      "cell_type": "markdown",
      "metadata": {
        "id": "XUJgm6Rl4vS4",
        "colab_type": "text"
      },
      "source": [
        "Let's test your code !\n"
      ]
    },
    {
      "cell_type": "code",
      "metadata": {
        "id": "D1x1n4mv4y03",
        "colab_type": "code",
        "colab": {}
      },
      "source": [
        "DATA_PATH = \"/content/data/data/\"\n",
        "audio = torchaudio.load(\"/content/data/data/records/train/200624-134444_ara_c90_elicit_448.wav\")[0]\n",
        "audio = audio.view(1, 1, -1)\n",
        "cpc_model = CPCModel(encoder, context).to(device)\n",
        "context_output, encoder_output = cpc_model(audio.to(device))"
      ],
      "execution_count": null,
      "outputs": []
    },
    {
      "cell_type": "markdown",
      "metadata": {
        "id": "srPM5r_LB9v-",
        "colab_type": "text"
      },
      "source": [
        "# Part 2 : Fine tuning"
      ]
    },
    {
      "cell_type": "code",
      "metadata": {
        "id": "N-scDMAasXxc",
        "colab_type": "code",
        "colab": {}
      },
      "source": [
        "!mkdir checkpoint_data\n",
        "!wget https://dl.fbaipublicfiles.com/librilight/CPC_checkpoints/not_hub/2levels_6k_top_ctc/checkpoint_30.pt -P checkpoint_data > .null.txt\n",
        "!wget https://dl.fbaipublicfiles.com/librilight/CPC_checkpoints/not_hub/2levels_6k_top_ctc/checkpoint_logs.json -P checkpoint_data > .null.txt\n",
        "!wget https://dl.fbaipublicfiles.com/librilight/CPC_checkpoints/not_hub/2levels_6k_top_ctc/checkpoint_args.json -P checkpoint_data > .null.txt\n",
        "!ls checkpoint_data"
      ],
      "execution_count": null,
      "outputs": []
    },
    {
      "cell_type": "markdown",
      "metadata": {
        "id": "xkKi-qfosng2",
        "colab_type": "text"
      },
      "source": [
        "Then we will use a simple linear classifier to recognize the phonemes from the features produced by ```cpc_model```. \n",
        "\n",
        "### a) Build the character classifier \n",
        "\n",
        "Design a class of linear classifiers, ```CharacterClassifier``` that will take as input a batch of sequences of CPC features and output a score vector for each phoneme"
      ]
    },
    {
      "cell_type": "code",
      "metadata": {
        "id": "4RpAbz-0CXJJ",
        "colab_type": "code",
        "colab": {}
      },
      "source": [
        "class CharacterClassifier(torch.nn.Module):\n",
        "\n",
        "  def __init__(self,\n",
        "               input_dim : int,\n",
        "               n_characters : int):\n",
        "    super(CharacterClassifier, self).__init__()\n",
        "    self.linear = torch.nn.Linear(input_dim, n_characters)\n",
        "    \n",
        "\n",
        "  def forward(self, x):\n",
        "    return self.linear(x)"
      ],
      "execution_count": null,
      "outputs": []
    },
    {
      "cell_type": "markdown",
      "metadata": {
        "id": "Zt5oa_nqtH-d",
        "colab_type": "text"
      },
      "source": [
        "Our phone classifier will then be:"
      ]
    },
    {
      "cell_type": "markdown",
      "metadata": {
        "id": "TdfWDiFnylMT",
        "colab_type": "text"
      },
      "source": [
        "## Exercise 2 : Characters separability without alignment (CER)\n",
        "\n",
        "Aligned data are very practical, but un real life they are rarely available. That's why in this excercise we will consider a fine-tuning with non-aligned phonemes.\n",
        "\n",
        "The model, the optimizer and the phone classifier will stay the same. However, we will replace our phone criterion with a [CTC loss](https://pytorch.org/docs/master/generated/torch.nn.CTCLoss.html). "
      ]
    },
    {
      "cell_type": "code",
      "metadata": {
        "id": "_9BpM_Lpzgx8",
        "colab_type": "code",
        "colab": {}
      },
      "source": [
        "loss_ctc = torch.nn.CTCLoss()"
      ],
      "execution_count": null,
      "outputs": []
    },
    {
      "cell_type": "markdown",
      "metadata": {
        "id": "AQpYgTyfzsrq",
        "colab_type": "text"
      },
      "source": [
        "Besides, we will use a siglthy different dataset class."
      ]
    },
    {
      "cell_type": "markdown",
      "metadata": {
        "id": "GwAckY62z7s9",
        "colab_type": "text"
      },
      "source": [
        "### a- Training\n",
        "\n",
        "Since the phonemes are not aligned, there is no simple direct way to get the classification acuracy of a model. Write and test the three functions ```train_one_epoch_ctc```, ```validation_step_ctc``` and ```run_ctc``` as before but without considering the average acuracy of the model. "
      ]
    },
    {
      "cell_type": "code",
      "metadata": {
        "id": "Zsgjv3cD0oqD",
        "colab_type": "code",
        "colab": {}
      },
      "source": [
        "import torch.nn.functional as F\n",
        "\n",
        "def train_one_epoch_ctc(cpc_model, \n",
        "                        character_classifier, \n",
        "                        loss_criterion, \n",
        "                        data_loader, \n",
        "                        optimizer):\n",
        "  \n",
        "  cpc_model.train()\n",
        "  loss_criterion.train()\n",
        "\n",
        "  avg_loss = 0\n",
        "  avg_accuracy = 0\n",
        "  n_items = 0\n",
        "  for step, full_data in enumerate(data_loader):\n",
        "\n",
        "    x, x_len, y, y_len = full_data\n",
        "\n",
        "    x_batch_len = x.shape[-1]\n",
        "    x, y = x.to(device), y.to(device)\n",
        "\n",
        "    bs=x.size(0)\n",
        "    optimizer.zero_grad()\n",
        "    context_out, enc_out, _ = cpc_model(x.to(device),y.to(device))\n",
        "  \n",
        "    scores = character_classifier(context_out)\n",
        "    scores = scores.permute(1,0,2)\n",
        "    scores = F.log_softmax(scores,2)\n",
        "    yhat_len = torch.tensor([int(scores.shape[0]*x_len[i]/(x_batch_len)) for i in range(scores.shape[1])]) # this is an approximation, should be good enough\n",
        "    #print(yhat_len)\n",
        "    loss = loss_criterion(scores,y.to(device),yhat_len,y_len)\n",
        "    loss.backward()\n",
        "    optimizer.step()\n",
        "    avg_loss+=loss.item()*bs\n",
        "    n_items+=bs\n",
        "  avg_loss/=n_items\n",
        "  return avg_loss\n",
        "\n",
        "def validation_step(cpc_model, \n",
        "                    character_classifier, \n",
        "                    loss_criterion, \n",
        "                    data_loader):\n",
        "\n",
        "  cpc_model.eval()\n",
        "  character_classifier.eval()\n",
        "  avg_loss = 0\n",
        "  avg_accuracy = 0\n",
        "  n_items = 0\n",
        "  with torch.no_grad():\n",
        "    for step, full_data in enumerate(data_loader):\n",
        "\n",
        "      x, x_len, y, y_len = full_data\n",
        "\n",
        "      x_batch_len = x.shape[-1]\n",
        "      x, y = x.to(device), y.to(device)\n",
        "\n",
        "      bs=x.size(0)\n",
        "      context_out, enc_out, _ = cpc_model(x.to(device),y.to(device))\n",
        "    \n",
        "      scores = character_classifier(context_out)\n",
        "      scores = scores.permute(1,0,2)\n",
        "      scores = F.log_softmax(scores,2)\n",
        "      yhat_len = torch.tensor([int(scores.shape[0]*x_len[i]/x_batch_len) for i in range(scores.shape[1])]) # this is an approximation, should be good enough\n",
        "      loss = loss_criterion(scores,y.to(device),yhat_len,y_len)\n",
        "      avg_loss+=loss.item()*bs\n",
        "      n_items+=bs\n",
        "  avg_loss/=n_items\n",
        "\n",
        "  return avg_loss\n",
        "\n",
        "def run_ctc(cpc_model, \n",
        "            character_classifier, \n",
        "            loss_criterion, \n",
        "            data_loader_train, \n",
        "            data_loader_val, \n",
        "            optimizer,\n",
        "            lr_sch,\n",
        "            n_epoch):\n",
        "  losses_train = []\n",
        "  losses_val = []\n",
        "  per_val = []\n",
        "  best_cer = float(\"inf\")\n",
        "  for epoch in range(n_epoch):\n",
        "\n",
        "    print(f\"Running epoch {epoch + 1} / {n_epoch}\")\n",
        "    loss_train = train_one_epoch_ctc(cpc_model, character_classifier, loss_criterion, data_loader_train, optimizer)\n",
        "    losses_train.append(loss_train)\n",
        "    print(\"-------------------\")\n",
        "    print(f\"Training dataset :\")\n",
        "    print(f\"Average loss : {loss_train}.\")\n",
        "\n",
        "    print(\"-------------------\")\n",
        "    print(\"Validation dataset\")\n",
        "    loss_val = validation_step(cpc_model, character_classifier, loss_criterion, data_loader_val)\n",
        "    losses_val.append(loss_val)\n",
        "    lr_sch.step(loss_val)\n",
        "    cer = get_per(data_loader_val_letters,cpc_model,character_classifier)\n",
        "    per_val.append(cer)\n",
        "\n",
        "    if cer<best_cer:\n",
        "      best_cer=cer\n",
        "      save_checkpoint(cpc_model,character_classifier)\n",
        "\n",
        "    print(f\"Average loss : {loss_val}\")\n",
        "    print(\"-------------------\")\n",
        "    print()\n",
        "    if optimizer.param_groups[0]['lr']<1e-7:\n",
        "      print(\"Learning rate reached critical point, Aborting\")\n",
        "      break\n",
        "  print(\"loading best model with CER \",best_cer)\n",
        "  load_checkpoint(cpc_model,character_classifier)\n",
        "  return losses_train,losses_val, per_val\n",
        "\n",
        "def save_checkpoint(model,classifier,path=\"/content/checkpoint.ckpt\"):\n",
        "  torch.save(model.state_dict(), path)\n",
        "  torch.save(classifier.state_dict(), path+\".classifier\")\n",
        "\n",
        "\n",
        "def load_checkpoint(model,classifier,path=\"/content/checkpoint.ckpt\"):\n",
        "  model.load_state_dict(torch.load(path))\n",
        "  classifier.load_state_dict(torch.load(path+\".classifier\"))"
      ],
      "execution_count": null,
      "outputs": []
    },
    {
      "cell_type": "markdown",
      "metadata": {
        "id": "TKrYW4gK1BBF",
        "colab_type": "text"
      },
      "source": [
        "### b- Evaluation: the Character Error Rate (CER)\n",
        "\n",
        "In order to compute the similarity between two sequences, we can use the [Levenshtein distance](https://en.wikipedia.org/wiki/Levenshtein_distance). This distance estimates the minimum number of insertion, deletion and addition to move from one sequence to another. If we normalize this distance by the number of characters in the reference sequence we get the Character Error Rate (CER).\n",
        "\n",
        "This value can be interpreted as :\n",
        "\\\\[  CER = \\frac{S + D + I}{N} \\\\]\n",
        "\n",
        "Where:\n",
        "\n",
        "\n",
        "*   N is the number of characters in the reference\n",
        "*   S is the number of substitutiion\n",
        "*   I in the number of insertion\n",
        "*   D in the number of deletion\n",
        "\n",
        "For the best possible alignment of the two sequences.\n",
        "\n"
      ]
    },
    {
      "cell_type": "code",
      "metadata": {
        "id": "RoBhsx7GNqI_",
        "colab_type": "code",
        "colab": {}
      },
      "source": [
        "import numpy as np\n",
        "\n",
        "def get_CER_sequence(ref_seq, target_seq):\n",
        "\n",
        "  # re = g.split()\n",
        "  # h = h.split()\n",
        "  n = len(ref_seq)\n",
        "  m = len(target_seq)\n",
        "\n",
        "  D = np.zeros((n+1,m+1))\n",
        "  for i in range(1,n+1):\n",
        "    D[i,0] = D[i-1,0]+1\n",
        "  for j in range(1,m+1):\n",
        "    D[0,j] = D[0,j-1]+1\n",
        "  \n",
        "  ### TODO compute the alignment\n",
        "\n",
        "  for i in range(1,n+1):\n",
        "    for j in range(1,m+1):\n",
        "      D[i,j] = min(\n",
        "          D[i-1,j]+1,\n",
        "          D[i-1,j-1]+1,\n",
        "          D[i,j-1]+1,\n",
        "          D[i-1,j-1]+ 0 if ref_seq[i-1]==target_seq[j-1] else float(\"inf\")\n",
        "      )\n",
        "  return D[n,m]/len(ref_seq)\n",
        "  "
      ],
      "execution_count": null,
      "outputs": []
    },
    {
      "cell_type": "markdown",
      "metadata": {
        "id": "r-hr0KK0mgcR",
        "colab_type": "text"
      },
      "source": [
        "You can test your function below:"
      ]
    },
    {
      "cell_type": "code",
      "metadata": {
        "id": "AfTb3yOQmvey",
        "colab_type": "code",
        "colab": {
          "base_uri": "https://localhost:8080/",
          "height": 34
        },
        "outputId": "a03c21b7-09cb-4aa7-ef41-f5b321d78f1e"
      },
      "source": [
        "ref_seq = [0, 1, 1, 2, 0, 2, 2]\n",
        "pred_seq = [1, 1, 2, 2, 0, 0]\n",
        "\n",
        "expected_CER = 4. / 7.\n",
        "print(get_CER_sequence(ref_seq, pred_seq) == expected_CER)"
      ],
      "execution_count": null,
      "outputs": [
        {
          "output_type": "stream",
          "text": [
            "True\n"
          ],
          "name": "stdout"
        }
      ]
    },
    {
      "cell_type": "markdown",
      "metadata": {
        "id": "nHiyChl-m_k7",
        "colab_type": "text"
      },
      "source": [
        "### c- Evaluating the PER of your model on the test dataset\n",
        "\n",
        "Evaluate the PER on the validation dataset. Please notice that you should usually use a separate dataset, called the dev dataset, to perform this operation. However for the sake of simplicity we will work with validation data in this exercise."
      ]
    },
    {
      "cell_type": "code",
      "metadata": {
        "id": "DMkX0PoFnclg",
        "colab_type": "code",
        "colab": {}
      },
      "source": [
        "import progressbar\n",
        "from multiprocessing import Pool\n",
        "\n",
        "def cut_data(seq, sizeSeq):\n",
        "    maxSeq = sizeSeq.max()\n",
        "    return seq[:, :maxSeq]\n",
        "\n",
        "\n",
        "def prepare_data(data):\n",
        "    seq, sizeSeq, phone, sizePhone = data\n",
        "    seq = seq.cuda()\n",
        "    phone = phone.cuda()\n",
        "    sizeSeq = sizeSeq.cuda().view(-1)\n",
        "    sizePhone = sizePhone.cuda().view(-1)\n",
        "\n",
        "    seq = cut_data(seq.permute(0, 2, 1), sizeSeq).permute(0, 2, 1)\n",
        "    return seq, sizeSeq, phone, sizePhone\n",
        "\n",
        "\n",
        "def get_cer(test_dataloader,\n",
        "            cpc_model,\n",
        "            character_classifier):\n",
        "\n",
        "  downsampling_factor = 1\n",
        "  cpc_model.eval()\n",
        "  character_classifier.eval()\n",
        "\n",
        "  avgCER = 0\n",
        "  nItems = 0\n",
        "\n",
        "  print(\"Starting the CER computation through beam search\")\n",
        "  bar = progressbar.ProgressBar(maxval=len(test_dataloader))\n",
        "  bar.start()\n",
        "\n",
        "  for index, data in enumerate(test_dataloader):\n",
        "\n",
        "    bar.update(index)\n",
        "    with torch.no_grad():\n",
        "        seq, sizeSeq, phone, sizePhone = prepare_data(data)\n",
        "        x_batch_len = seq.shape[-1]\n",
        "        c_feature, _, _ = cpc_model(seq.to(device),phone.to(device))\n",
        "        bs = c_feature.size(0)\n",
        "        sizeSeq = sizeSeq / downsampling_factor\n",
        "        predictions = torch.nn.functional.softmax(\n",
        "            character_classifier(c_feature), dim=2\n",
        "            ).cpu()\n",
        "        phone = phone.cpu()\n",
        "        sizeSeq = sizeSeq.cpu()\n",
        "        sizePhone = sizePhone.cpu()\n",
        "        # print(\"predictions\",predictions.argmax(2)[0])\n",
        "        # print(phone[0])\n",
        "        \n",
        "        seq_len = torch.tensor([int(predictions.shape[1]*sizeSeq[i]/(x_batch_len)) for i in range(predictions.shape[0])]) # this is an approximation, should be good enough\n",
        "        #print(seq_len)\n",
        "        decoder = CTCBeamDecoder(chars, log_probs_input=False,blank_id=0,beam_width=20,cutoff_top_n=20,model_path=\"/content/wiki_00.lm.arpa\")\n",
        "        output, scores, timesteps, out_seq_len = decoder.decode(predictions, seq_lens=seq_len)\n",
        "        \n",
        "        output=output[torch.arange(bs),scores.argmax(1),:]\n",
        "        out_seq_len= out_seq_len[torch.arange(bs),scores.argmax(1)]\n",
        "        data_cer = []\n",
        "        for b in range(bs):\n",
        "          #print(sizePhone[b],out_seq_len[b])\n",
        "          data_cer.append((phone[b][:sizePhone[b].item()],output[b][:out_seq_len[b].item()]))\n",
        "          \n",
        "        #data_cer = [(predictions[b].argmax(1),  phone[b]) for b in range(bs)]\n",
        "        # data_cer = [(predictions[b], sizeSeq[b], phone[b], sizePhone[b],\n",
        "        #               \"criterion.module.BLANK_LABEL\") for b in range(bs)]\n",
        "        with Pool(bs) as p:\n",
        "            poolData = p.starmap(get_CER_sequence, data_cer)\n",
        "        avgCER += sum([x for x in poolData])\n",
        "        nItems += len(poolData)\n",
        "\n",
        "  bar.finish()\n",
        "\n",
        "  avgCER /= nItems\n",
        "\n",
        "  print(f\"Average CER {avgCER}\")\n",
        "  return avgCER\n"
      ],
      "execution_count": null,
      "outputs": []
    },
    {
      "cell_type": "code",
      "metadata": {
        "id": "QpISYMT2E9Mu",
        "colab_type": "code",
        "colab": {}
      },
      "source": [
        "with open(\"/content/data/data/charset.json\") as js:\n",
        "  characters = eval(js.read())"
      ],
      "execution_count": null,
      "outputs": []
    },
    {
      "cell_type": "code",
      "metadata": {
        "id": "hMFM0jvWFFuh",
        "colab_type": "code",
        "colab": {
          "base_uri": "https://localhost:8080/",
          "height": 54
        },
        "outputId": "87a25c97-c260-489b-ff9c-7ce666ccd981"
      },
      "source": [
        "chars = [0]*len(characters)\n",
        "for k,v in characters.items():\n",
        "  chars[v]=k\n",
        "print(chars)"
      ],
      "execution_count": null,
      "outputs": [
        {
          "output_type": "stream",
          "text": [
            "['ε', ' ', 'ت', 'ل', 'ه', 'ب', 'ة', 'ح', 'إ', 'ر', 'ث', 'غ', 'م', 'ء', 'ز', 'ئ', 'ط', 'و', 'س', 'ف', 'أ', 'ع', 'ك', 'ا', 'ن', 'ي', 'ج', 'ذ', 'ظ', 'ض', 'ق', 'د', 'خ', 'ص', 'ى', 'ش', 'آ', 'ً', 'ؤ', 'ِ', 'ْ', 'ڤ', 'ُ', 'ّ', 'ٌ', 'َ', 'ʿ', 'ٍ']\n"
          ],
          "name": "stdout"
        }
      ]
    },
    {
      "cell_type": "code",
      "metadata": {
        "id": "B_WEZLDgKwVo",
        "colab_type": "code",
        "colab": {
          "base_uri": "https://localhost:8080/",
          "height": 34
        },
        "outputId": "29e2ae3c-3444-4d8b-9aa5-ad2eef328172"
      },
      "source": [
        "len(chars)"
      ],
      "execution_count": null,
      "outputs": [
        {
          "output_type": "execute_result",
          "data": {
            "text/plain": [
              "48"
            ]
          },
          "metadata": {
            "tags": []
          },
          "execution_count": 17
        }
      ]
    },
    {
      "cell_type": "code",
      "metadata": {
        "id": "cXONmKQOuFSn",
        "colab_type": "code",
        "colab": {
          "base_uri": "https://localhost:8080/",
          "height": 272
        },
        "outputId": "fd89d34f-39fa-403e-d154-99a9dc199ba0"
      },
      "source": [
        "# Load a dataset labelled with the letters of each sequence.\n",
        "%cd /content/CPC_audio\n",
        "from cpc.eval.common_voices_eval import SingleSequenceDataset, parseSeqLabels, findAllSeqs\n",
        "path_train_data_cer = '/content/data/data/records/train/'\n",
        "path_val_data_cer = '/content/data/data/records/val'\n",
        "path_letter_data_cer = '/content/data/data/chars.txt'\n",
        "BATCH_SIZE=2\n",
        "\n",
        "letters_labels, N_LETTERS = parseSeqLabels(path_letter_data_cer)\n",
        "N_LETTERS=len(chars) # for the blank token\n",
        "data_train_cer, _ = findAllSeqs(path_train_data_cer, extension='.wav')\n",
        "dataset_train_non_aligned = SingleSequenceDataset(path_train_data_cer, data_train_cer, letters_labels)\n",
        "\n",
        "\n",
        "data_val_cer, _ = findAllSeqs(path_val_data_cer, extension='.wav')\n",
        "dataset_val_non_aligned = SingleSequenceDataset(path_val_data_cer, data_val_cer, letters_labels)\n",
        "path_letter_data_cer\n",
        "\n",
        "# The data loader will generate a tuple of tensors data, labels for each batch\n",
        "# data : size N x T1 x 1 : the audio sequence\n",
        "# label : size N x T2 the sequence of letters corresponding to the audio data\n",
        "# IMPORTANT NOTE: just like the PER the CER is computed with non-aligned phone data.\n",
        "torch.manual_seed(0)\n",
        "data_loader_train_letters = torch.utils.data.DataLoader(dataset_train_non_aligned, batch_size=BATCH_SIZE,\n",
        "                                                shuffle=True)\n",
        "data_loader_val_letters = torch.utils.data.DataLoader(dataset_val_non_aligned, batch_size=BATCH_SIZE,\n",
        "                                              shuffle=False)"
      ],
      "execution_count": null,
      "outputs": [
        {
          "output_type": "stream",
          "text": [
            "/content/CPC_audio\n"
          ],
          "name": "stdout"
        },
        {
          "output_type": "stream",
          "text": [
            "1it [00:00, 386.43it/s]"
          ],
          "name": "stderr"
        },
        {
          "output_type": "stream",
          "text": [
            "Saved cache file at /content/data/data/records/train/_seqs_cache.txt\n"
          ],
          "name": "stdout"
        },
        {
          "output_type": "stream",
          "text": [
            "\n",
            "1it [00:00, 303.82it/s]"
          ],
          "name": "stderr"
        },
        {
          "output_type": "stream",
          "text": [
            "Loaded 394 sequences in 2.17 seconds\n",
            "maxSizeSeq : 217074\n",
            "maxSizePhone : 146\n",
            "minSizePhone : 17\n",
            "Total size dataset 0.8123794097222222 hours\n",
            "Saved cache file at /content/data/data/records/val/_seqs_cache.txt\n"
          ],
          "name": "stdout"
        },
        {
          "output_type": "stream",
          "text": [
            "\n"
          ],
          "name": "stderr"
        },
        {
          "output_type": "stream",
          "text": [
            "Loaded 99 sequences in 1.65 seconds\n",
            "maxSizeSeq : 209451\n",
            "maxSizePhone : 146\n",
            "minSizePhone : 27\n",
            "Total size dataset 0.21497227430555554 hours\n"
          ],
          "name": "stdout"
        }
      ]
    },
    {
      "cell_type": "code",
      "metadata": {
        "id": "EQZUwKl9_yzr",
        "colab_type": "code",
        "colab": {
          "base_uri": "https://localhost:8080/",
          "height": 136
        },
        "outputId": "0ec1c692-e052-4adb-a240-94843fe80670"
      },
      "source": [
        "path_test_data_cer = '/content/data/data/records/test/'\n",
        "data_test_cer, _ = findAllSeqs(path_test_data_cer, extension='.wav')\n",
        "dataset_test_non_aligned = SingleSequenceDataset(path_test_data_cer, data_test_cer, letters_labels)\n",
        "data_loader_test_letters = torch.utils.data.DataLoader(dataset_test_non_aligned, batch_size=BATCH_SIZE,\n",
        "                                              shuffle=False)"
      ],
      "execution_count": null,
      "outputs": [
        {
          "output_type": "stream",
          "text": [
            "1it [00:00, 417.14it/s]"
          ],
          "name": "stderr"
        },
        {
          "output_type": "stream",
          "text": [
            "Saved cache file at /content/data/data/records/test/_seqs_cache.txt\n"
          ],
          "name": "stdout"
        },
        {
          "output_type": "stream",
          "text": [
            "\n"
          ],
          "name": "stderr"
        },
        {
          "output_type": "stream",
          "text": [
            "Loaded 492 sequences in 2.45 seconds\n",
            "maxSizeSeq : 232320\n",
            "maxSizePhone : 147\n",
            "minSizePhone : 18\n",
            "Total size dataset 1.0119576041666667 hours\n"
          ],
          "name": "stdout"
        }
      ]
    },
    {
      "cell_type": "code",
      "metadata": {
        "id": "9h07zI2LjzAU",
        "colab_type": "code",
        "colab": {
          "base_uri": "https://localhost:8080/",
          "height": 51
        },
        "outputId": "5ced6d26-14b7-4f85-d474-f9f87b0701d0"
      },
      "source": [
        "from cpc.feature_loader import loadModel\n",
        "torch.manual_seed(0)\n",
        "\n",
        "checkpoint_path = 'checkpoint_data/checkpoint_30.pt'\n",
        "cpc_model, HIDDEN_CONTEXT_MODEL, HIDDEN_ENCODER_MODEL = loadModel([checkpoint_path])\n",
        "cpc_model = cpc_model.cuda()\n",
        "character_classifier = CharacterClassifier(HIDDEN_CONTEXT_MODEL, N_LETTERS).to(device)"
      ],
      "execution_count": null,
      "outputs": [
        {
          "output_type": "stream",
          "text": [
            "Loading checkpoint checkpoint_data/checkpoint_30.pt\n",
            "Loading the state dict at checkpoint_data/checkpoint_30.pt\n"
          ],
          "name": "stdout"
        }
      ]
    },
    {
      "cell_type": "code",
      "metadata": {
        "id": "rHCNg1E7lW1L",
        "colab_type": "code",
        "colab": {}
      },
      "source": [
        "parameters = list(character_classifier.parameters()) + list(cpc_model.parameters())\n",
        "LEARNING_RATE = 2e-4\n",
        "optimizer = torch.optim.Adam(parameters, lr=LEARNING_RATE)\n",
        "lr_sch = ReduceLROnPlateau(optimizer,factor=0.2,patience=5,verbose=True)\n",
        "\n",
        "optimizer_frozen = torch.optim.Adam(list(character_classifier.parameters()), lr=LEARNING_RATE)\n",
        "lr_sch_frozen = ReduceLROnPlateau(optimizer_frozen,factor=0.2,patience=5,verbose=True)\n"
      ],
      "execution_count": null,
      "outputs": []
    },
    {
      "cell_type": "code",
      "metadata": {
        "id": "engpkljbk9hj",
        "colab_type": "code",
        "colab": {}
      },
      "source": [
        "loss_ctc = torch.nn.CTCLoss()"
      ],
      "execution_count": null,
      "outputs": []
    },
    {
      "cell_type": "code",
      "metadata": {
        "id": "9NBHd2s2kxld",
        "colab_type": "code",
        "colab": {
          "base_uri": "https://localhost:8080/",
          "height": 1000
        },
        "outputId": "7a0ca0f1-1a1f-4159-9132-d413bf1afa13"
      },
      "source": [
        "torch.manual_seed(0)\n",
        "losses_train, losses_val, cer_val = run_ctc(cpc_model,character_classifier,loss_ctc,data_loader_train_letters,data_loader_val_letters,optimizer,lr_sch,n_epoch=80)"
      ],
      "execution_count": null,
      "outputs": [
        {
          "output_type": "stream",
          "text": [
            "Running epoch 1 / 80\n"
          ],
          "name": "stdout"
        },
        {
          "output_type": "stream",
          "text": [
            "/pytorch/aten/src/ATen/native/BinaryOps.cpp:81: UserWarning: Integer division of tensors using div or / is deprecated, and in a future release div will perform true division as in Python 3. Use true_divide or floor_divide (// in Python) instead.\n"
          ],
          "name": "stderr"
        },
        {
          "output_type": "stream",
          "text": [
            "-------------------\n",
            "Training dataset :\n",
            "Average loss : 6.086711924191346.\n",
            "-------------------\n",
            "Validation dataset\n"
          ],
          "name": "stdout"
        },
        {
          "output_type": "stream",
          "text": [
            "\r                                                                               \r\rN/A% (0 of 49) |                         | Elapsed Time: 0:00:00 ETA:  --:--:--"
          ],
          "name": "stderr"
        },
        {
          "output_type": "stream",
          "text": [
            "Starting the PER computation through beam search\n"
          ],
          "name": "stdout"
        },
        {
          "output_type": "stream",
          "text": [
            "100% (49 of 49) |########################| Elapsed Time: 0:00:39 Time:  0:00:39\n"
          ],
          "name": "stderr"
        },
        {
          "output_type": "stream",
          "text": [
            "Average PER 0.7289315346377141\n",
            "Average loss : 3.8793061606738033\n",
            "-------------------\n",
            "\n",
            "Running epoch 2 / 80\n",
            "-------------------\n",
            "Training dataset :\n",
            "Average loss : 3.767614036419313.\n",
            "-------------------\n",
            "Validation dataset\n"
          ],
          "name": "stdout"
        },
        {
          "output_type": "stream",
          "text": [
            "\r                                                                               \r\rN/A% (0 of 49) |                         | Elapsed Time: 0:00:00 ETA:  --:--:--"
          ],
          "name": "stderr"
        },
        {
          "output_type": "stream",
          "text": [
            "Starting the PER computation through beam search\n"
          ],
          "name": "stdout"
        },
        {
          "output_type": "stream",
          "text": [
            "100% (49 of 49) |########################| Elapsed Time: 0:00:40 Time:  0:00:40\n"
          ],
          "name": "stderr"
        },
        {
          "output_type": "stream",
          "text": [
            "Average PER 0.7289151303061037\n",
            "Average loss : 3.748851474450559\n",
            "-------------------\n",
            "\n",
            "Running epoch 3 / 80\n",
            "-------------------\n",
            "Training dataset :\n",
            "Average loss : 3.6568659425691794.\n",
            "-------------------\n",
            "Validation dataset\n"
          ],
          "name": "stdout"
        },
        {
          "output_type": "stream",
          "text": [
            "\r                                                                               \r\rN/A% (0 of 49) |                         | Elapsed Time: 0:00:00 ETA:  --:--:--"
          ],
          "name": "stderr"
        },
        {
          "output_type": "stream",
          "text": [
            "Starting the PER computation through beam search\n"
          ],
          "name": "stdout"
        },
        {
          "output_type": "stream",
          "text": [
            "100% (49 of 49) |########################| Elapsed Time: 0:00:38 Time:  0:00:38\n"
          ],
          "name": "stderr"
        },
        {
          "output_type": "stream",
          "text": [
            "Average PER 0.7301072373045775\n",
            "Average loss : 3.629896708897182\n",
            "-------------------\n",
            "\n",
            "Running epoch 4 / 80\n",
            "-------------------\n",
            "Training dataset :\n",
            "Average loss : 3.5878940150331298.\n",
            "-------------------\n",
            "Validation dataset\n"
          ],
          "name": "stdout"
        },
        {
          "output_type": "stream",
          "text": [
            "\r                                                                               \r\rN/A% (0 of 49) |                         | Elapsed Time: 0:00:00 ETA:  --:--:--"
          ],
          "name": "stderr"
        },
        {
          "output_type": "stream",
          "text": [
            "Starting the PER computation through beam search\n"
          ],
          "name": "stdout"
        },
        {
          "output_type": "stream",
          "text": [
            "100% (49 of 49) |########################| Elapsed Time: 0:00:39 Time:  0:00:39\n"
          ],
          "name": "stderr"
        },
        {
          "output_type": "stream",
          "text": [
            "Average PER 0.7227641425717456\n",
            "Average loss : 3.6478054523468018\n",
            "-------------------\n",
            "\n",
            "Running epoch 5 / 80\n",
            "-------------------\n",
            "Training dataset :\n",
            "Average loss : 3.538319517334606.\n",
            "-------------------\n",
            "Validation dataset\n"
          ],
          "name": "stdout"
        },
        {
          "output_type": "stream",
          "text": [
            "\r                                                                               \r\rN/A% (0 of 49) |                         | Elapsed Time: 0:00:00 ETA:  --:--:--"
          ],
          "name": "stderr"
        },
        {
          "output_type": "stream",
          "text": [
            "Starting the PER computation through beam search\n"
          ],
          "name": "stdout"
        },
        {
          "output_type": "stream",
          "text": [
            "100% (49 of 49) |########################| Elapsed Time: 0:00:32 Time:  0:00:32\n"
          ],
          "name": "stderr"
        },
        {
          "output_type": "stream",
          "text": [
            "Average PER 0.8334310256913827\n",
            "Average loss : 3.574317912666165\n",
            "-------------------\n",
            "\n",
            "Running epoch 6 / 80\n",
            "-------------------\n",
            "Training dataset :\n",
            "Average loss : 3.4560885411182434.\n",
            "-------------------\n",
            "Validation dataset\n"
          ],
          "name": "stdout"
        },
        {
          "output_type": "stream",
          "text": [
            "\r                                                                               \r\rN/A% (0 of 49) |                         | Elapsed Time: 0:00:00 ETA:  --:--:--"
          ],
          "name": "stderr"
        },
        {
          "output_type": "stream",
          "text": [
            "Starting the PER computation through beam search\n"
          ],
          "name": "stdout"
        },
        {
          "output_type": "stream",
          "text": [
            "100% (49 of 49) |########################| Elapsed Time: 0:00:31 Time:  0:00:31\n"
          ],
          "name": "stderr"
        },
        {
          "output_type": "stream",
          "text": [
            "Average PER 0.9169754912190989\n",
            "Average loss : 3.7135704926082065\n",
            "-------------------\n",
            "\n",
            "Running epoch 7 / 80\n",
            "-------------------\n",
            "Training dataset :\n",
            "Average loss : 3.7773356929080175.\n",
            "-------------------\n",
            "Validation dataset\n"
          ],
          "name": "stdout"
        },
        {
          "output_type": "stream",
          "text": [
            "\r                                                                               \r\rN/A% (0 of 49) |                         | Elapsed Time: 0:00:00 ETA:  --:--:--"
          ],
          "name": "stderr"
        },
        {
          "output_type": "stream",
          "text": [
            "Starting the PER computation through beam search\n"
          ],
          "name": "stdout"
        },
        {
          "output_type": "stream",
          "text": [
            "100% (49 of 49) |########################| Elapsed Time: 0:00:29 Time:  0:00:29\n"
          ],
          "name": "stderr"
        },
        {
          "output_type": "stream",
          "text": [
            "Average PER 0.9245294082707679\n",
            "Average loss : 3.534288703178873\n",
            "-------------------\n",
            "\n",
            "Running epoch 8 / 80\n",
            "-------------------\n",
            "Training dataset :\n",
            "Average loss : 3.2013401602970735.\n",
            "-------------------\n",
            "Validation dataset\n"
          ],
          "name": "stdout"
        },
        {
          "output_type": "stream",
          "text": [
            "\r                                                                               \r\rN/A% (0 of 49) |                         | Elapsed Time: 0:00:00 ETA:  --:--:--"
          ],
          "name": "stderr"
        },
        {
          "output_type": "stream",
          "text": [
            "Starting the PER computation through beam search\n"
          ],
          "name": "stdout"
        },
        {
          "output_type": "stream",
          "text": [
            "100% (49 of 49) |########################| Elapsed Time: 0:00:17 Time:  0:00:17\n"
          ],
          "name": "stderr"
        },
        {
          "output_type": "stream",
          "text": [
            "Average PER 0.9942570333820132\n",
            "Average loss : 3.0751123039089903\n",
            "-------------------\n",
            "\n",
            "Running epoch 9 / 80\n",
            "-------------------\n",
            "Training dataset :\n",
            "Average loss : 3.077548532388896.\n",
            "-------------------\n",
            "Validation dataset\n"
          ],
          "name": "stdout"
        },
        {
          "output_type": "stream",
          "text": [
            "\r                                                                               \r\rN/A% (0 of 49) |                         | Elapsed Time: 0:00:00 ETA:  --:--:--"
          ],
          "name": "stderr"
        },
        {
          "output_type": "stream",
          "text": [
            "Starting the PER computation through beam search\n"
          ],
          "name": "stdout"
        },
        {
          "output_type": "stream",
          "text": [
            "100% (49 of 49) |########################| Elapsed Time: 0:00:17 Time:  0:00:17\n"
          ],
          "name": "stderr"
        },
        {
          "output_type": "stream",
          "text": [
            "Average PER 0.9927544742628535\n",
            "Average loss : 3.073828380935046\n",
            "-------------------\n",
            "\n",
            "Running epoch 10 / 80\n",
            "-------------------\n",
            "Training dataset :\n",
            "Average loss : 3.0744784120991637.\n",
            "-------------------\n",
            "Validation dataset\n"
          ],
          "name": "stdout"
        },
        {
          "output_type": "stream",
          "text": [
            "\r                                                                               \r\rN/A% (0 of 49) |                         | Elapsed Time: 0:00:00 ETA:  --:--:--"
          ],
          "name": "stderr"
        },
        {
          "output_type": "stream",
          "text": [
            "Starting the PER computation through beam search\n"
          ],
          "name": "stdout"
        },
        {
          "output_type": "stream",
          "text": [
            "100% (49 of 49) |########################| Elapsed Time: 0:00:17 Time:  0:00:17\n"
          ],
          "name": "stderr"
        },
        {
          "output_type": "stream",
          "text": [
            "Average PER 0.9899653876817335\n",
            "Average loss : 3.0710689194348393\n",
            "-------------------\n",
            "\n",
            "Running epoch 11 / 80\n",
            "-------------------\n",
            "Training dataset :\n",
            "Average loss : 3.072354962200912.\n",
            "-------------------\n",
            "Validation dataset\n"
          ],
          "name": "stdout"
        },
        {
          "output_type": "stream",
          "text": [
            "\r                                                                               \r\rN/A% (0 of 49) |                         | Elapsed Time: 0:00:00 ETA:  --:--:--"
          ],
          "name": "stderr"
        },
        {
          "output_type": "stream",
          "text": [
            "Starting the PER computation through beam search\n"
          ],
          "name": "stdout"
        },
        {
          "output_type": "stream",
          "text": [
            "100% (49 of 49) |########################| Elapsed Time: 0:00:17 Time:  0:00:17\n"
          ],
          "name": "stderr"
        },
        {
          "output_type": "stream",
          "text": [
            "Average PER 0.9770193602703733\n",
            "Average loss : 3.067536212960068\n",
            "-------------------\n",
            "\n",
            "Running epoch 12 / 80\n",
            "-------------------\n",
            "Training dataset :\n",
            "Average loss : 3.0696925158415738.\n",
            "-------------------\n",
            "Validation dataset\n"
          ],
          "name": "stdout"
        },
        {
          "output_type": "stream",
          "text": [
            "\r                                                                               \r\rN/A% (0 of 49) |                         | Elapsed Time: 0:00:00 ETA:  --:--:--"
          ],
          "name": "stderr"
        },
        {
          "output_type": "stream",
          "text": [
            "Starting the PER computation through beam search\n"
          ],
          "name": "stdout"
        },
        {
          "output_type": "stream",
          "text": [
            "100% (49 of 49) |########################| Elapsed Time: 0:00:17 Time:  0:00:17\n"
          ],
          "name": "stderr"
        },
        {
          "output_type": "stream",
          "text": [
            "Average PER 0.9760546172872362\n",
            "Average loss : 3.068545117670176\n",
            "-------------------\n",
            "\n",
            "Running epoch 13 / 80\n",
            "-------------------\n",
            "Training dataset :\n",
            "Average loss : 3.0675972600019614.\n",
            "-------------------\n",
            "Validation dataset\n"
          ],
          "name": "stdout"
        },
        {
          "output_type": "stream",
          "text": [
            "\r                                                                               \r\rN/A% (0 of 49) |                         | Elapsed Time: 0:00:00 ETA:  --:--:--"
          ],
          "name": "stderr"
        },
        {
          "output_type": "stream",
          "text": [
            "Starting the PER computation through beam search\n"
          ],
          "name": "stdout"
        },
        {
          "output_type": "stream",
          "text": [
            "100% (49 of 49) |########################| Elapsed Time: 0:00:17 Time:  0:00:17\n"
          ],
          "name": "stderr"
        },
        {
          "output_type": "stream",
          "text": [
            "Average PER 0.9765637281467984\n",
            "Average loss : 3.064420593028166\n",
            "-------------------\n",
            "\n",
            "Running epoch 14 / 80\n",
            "-------------------\n",
            "Training dataset :\n",
            "Average loss : 3.0660074976564364.\n",
            "-------------------\n",
            "Validation dataset\n"
          ],
          "name": "stdout"
        },
        {
          "output_type": "stream",
          "text": [
            "\r                                                                               \r\rN/A% (0 of 49) |                         | Elapsed Time: 0:00:00 ETA:  --:--:--"
          ],
          "name": "stderr"
        },
        {
          "output_type": "stream",
          "text": [
            "Starting the PER computation through beam search\n"
          ],
          "name": "stdout"
        },
        {
          "output_type": "stream",
          "text": [
            "100% (49 of 49) |########################| Elapsed Time: 0:00:17 Time:  0:00:17\n"
          ],
          "name": "stderr"
        },
        {
          "output_type": "stream",
          "text": [
            "Average PER 0.9902095089727638\n",
            "Average loss : 3.063328879220145\n",
            "-------------------\n",
            "\n",
            "Running epoch 15 / 80\n",
            "-------------------\n",
            "Training dataset :\n",
            "Average loss : 3.063559883423434.\n",
            "-------------------\n",
            "Validation dataset\n"
          ],
          "name": "stdout"
        },
        {
          "output_type": "stream",
          "text": [
            "\r                                                                               \r\rN/A% (0 of 49) |                         | Elapsed Time: 0:00:00 ETA:  --:--:--"
          ],
          "name": "stderr"
        },
        {
          "output_type": "stream",
          "text": [
            "Starting the PER computation through beam search\n"
          ],
          "name": "stdout"
        },
        {
          "output_type": "stream",
          "text": [
            "100% (49 of 49) |########################| Elapsed Time: 0:00:17 Time:  0:00:17\n"
          ],
          "name": "stderr"
        },
        {
          "output_type": "stream",
          "text": [
            "Average PER 0.9770833394380669\n",
            "Average loss : 3.0620145359817816\n",
            "-------------------\n",
            "\n",
            "Running epoch 16 / 80\n",
            "-------------------\n",
            "Training dataset :\n",
            "Average loss : 3.061057929167614.\n",
            "-------------------\n",
            "Validation dataset\n"
          ],
          "name": "stdout"
        },
        {
          "output_type": "stream",
          "text": [
            "\r                                                                               \r\rN/A% (0 of 49) |                         | Elapsed Time: 0:00:00 ETA:  --:--:--"
          ],
          "name": "stderr"
        },
        {
          "output_type": "stream",
          "text": [
            "Starting the PER computation through beam search\n"
          ],
          "name": "stdout"
        },
        {
          "output_type": "stream",
          "text": [
            "100% (49 of 49) |########################| Elapsed Time: 0:00:17 Time:  0:00:17\n"
          ],
          "name": "stderr"
        },
        {
          "output_type": "stream",
          "text": [
            "Average PER 0.9896691108175626\n",
            "Average loss : 3.059665937812961\n",
            "-------------------\n",
            "\n",
            "Running epoch 17 / 80\n",
            "-------------------\n",
            "Training dataset :\n",
            "Average loss : 3.0571912517984403.\n",
            "-------------------\n",
            "Validation dataset\n"
          ],
          "name": "stdout"
        },
        {
          "output_type": "stream",
          "text": [
            "\r                                                                               \r\rN/A% (0 of 49) |                         | Elapsed Time: 0:00:00 ETA:  --:--:--"
          ],
          "name": "stderr"
        },
        {
          "output_type": "stream",
          "text": [
            "Starting the PER computation through beam search\n"
          ],
          "name": "stdout"
        },
        {
          "output_type": "stream",
          "text": [
            "100% (49 of 49) |########################| Elapsed Time: 0:00:17 Time:  0:00:17\n"
          ],
          "name": "stderr"
        },
        {
          "output_type": "stream",
          "text": [
            "Average PER 0.9899091582284846\n",
            "Average loss : 3.052050454275949\n",
            "-------------------\n",
            "\n",
            "Running epoch 18 / 80\n",
            "-------------------\n",
            "Training dataset :\n",
            "Average loss : 3.0528754059595005.\n",
            "-------------------\n",
            "Validation dataset\n"
          ],
          "name": "stdout"
        },
        {
          "output_type": "stream",
          "text": [
            "\r                                                                               \r\rN/A% (0 of 49) |                         | Elapsed Time: 0:00:00 ETA:  --:--:--"
          ],
          "name": "stderr"
        },
        {
          "output_type": "stream",
          "text": [
            "Starting the PER computation through beam search\n"
          ],
          "name": "stdout"
        },
        {
          "output_type": "stream",
          "text": [
            "100% (49 of 49) |########################| Elapsed Time: 0:00:17 Time:  0:00:17\n"
          ],
          "name": "stderr"
        },
        {
          "output_type": "stream",
          "text": [
            "Average PER 0.98993921886078\n",
            "Average loss : 3.048541482614011\n",
            "-------------------\n",
            "\n",
            "Running epoch 19 / 80\n",
            "-------------------\n",
            "Training dataset :\n",
            "Average loss : 3.044084639949653.\n",
            "-------------------\n",
            "Validation dataset\n"
          ],
          "name": "stdout"
        },
        {
          "output_type": "stream",
          "text": [
            "\r                                                                               \r\rN/A% (0 of 49) |                         | Elapsed Time: 0:00:00 ETA:  --:--:--"
          ],
          "name": "stderr"
        },
        {
          "output_type": "stream",
          "text": [
            "Starting the PER computation through beam search\n"
          ],
          "name": "stdout"
        },
        {
          "output_type": "stream",
          "text": [
            "100% (49 of 49) |########################| Elapsed Time: 0:00:17 Time:  0:00:17\n"
          ],
          "name": "stderr"
        },
        {
          "output_type": "stream",
          "text": [
            "Average PER 0.9762300000823596\n",
            "Average loss : 3.0345415631119086\n",
            "-------------------\n",
            "\n",
            "Running epoch 20 / 80\n",
            "-------------------\n",
            "Training dataset :\n",
            "Average loss : 3.027594926096404.\n",
            "-------------------\n",
            "Validation dataset\n"
          ],
          "name": "stdout"
        },
        {
          "output_type": "stream",
          "text": [
            "\r                                                                               \r\rN/A% (0 of 49) |                         | Elapsed Time: 0:00:00 ETA:  --:--:--"
          ],
          "name": "stderr"
        },
        {
          "output_type": "stream",
          "text": [
            "Starting the PER computation through beam search\n"
          ],
          "name": "stdout"
        },
        {
          "output_type": "stream",
          "text": [
            "100% (49 of 49) |########################| Elapsed Time: 0:00:17 Time:  0:00:17\n"
          ],
          "name": "stderr"
        },
        {
          "output_type": "stream",
          "text": [
            "Average PER 0.9896781134296128\n",
            "Average loss : 3.017335575454089\n",
            "-------------------\n",
            "\n",
            "Running epoch 21 / 80\n",
            "-------------------\n",
            "Training dataset :\n",
            "Average loss : 2.9957826101142944.\n",
            "-------------------\n",
            "Validation dataset\n"
          ],
          "name": "stdout"
        },
        {
          "output_type": "stream",
          "text": [
            "\r                                                                               \r\rN/A% (0 of 49) |                         | Elapsed Time: 0:00:00 ETA:  --:--:--"
          ],
          "name": "stderr"
        },
        {
          "output_type": "stream",
          "text": [
            "Starting the PER computation through beam search\n"
          ],
          "name": "stdout"
        },
        {
          "output_type": "stream",
          "text": [
            "100% (49 of 49) |########################| Elapsed Time: 0:00:17 Time:  0:00:17\n"
          ],
          "name": "stderr"
        },
        {
          "output_type": "stream",
          "text": [
            "Average PER 0.9760837636760054\n",
            "Average loss : 2.97668211314143\n",
            "-------------------\n",
            "\n",
            "Running epoch 22 / 80\n",
            "-------------------\n",
            "Training dataset :\n",
            "Average loss : 2.9459064152404553.\n",
            "-------------------\n",
            "Validation dataset\n"
          ],
          "name": "stdout"
        },
        {
          "output_type": "stream",
          "text": [
            "\r                                                                               \r\rN/A% (0 of 49) |                         | Elapsed Time: 0:00:00 ETA:  --:--:--"
          ],
          "name": "stderr"
        },
        {
          "output_type": "stream",
          "text": [
            "Starting the PER computation through beam search\n"
          ],
          "name": "stdout"
        },
        {
          "output_type": "stream",
          "text": [
            "100% (49 of 49) |########################| Elapsed Time: 0:00:17 Time:  0:00:17\n"
          ],
          "name": "stderr"
        },
        {
          "output_type": "stream",
          "text": [
            "Average PER 0.977929899389801\n",
            "Average loss : 2.911978512394185\n",
            "-------------------\n",
            "\n",
            "Running epoch 23 / 80\n",
            "-------------------\n",
            "Training dataset :\n",
            "Average loss : 2.875851742790552.\n",
            "-------------------\n",
            "Validation dataset\n"
          ],
          "name": "stdout"
        },
        {
          "output_type": "stream",
          "text": [
            "\r                                                                               \r\rN/A% (0 of 49) |                         | Elapsed Time: 0:00:00 ETA:  --:--:--"
          ],
          "name": "stderr"
        },
        {
          "output_type": "stream",
          "text": [
            "Starting the PER computation through beam search\n"
          ],
          "name": "stdout"
        },
        {
          "output_type": "stream",
          "text": [
            "100% (49 of 49) |########################| Elapsed Time: 0:00:17 Time:  0:00:17\n"
          ],
          "name": "stderr"
        },
        {
          "output_type": "stream",
          "text": [
            "Average PER 0.9764209815561333\n",
            "Average loss : 2.8426179739893698\n",
            "-------------------\n",
            "\n",
            "Running epoch 24 / 80\n",
            "-------------------\n",
            "Training dataset :\n",
            "Average loss : 2.796123219507038.\n",
            "-------------------\n",
            "Validation dataset\n"
          ],
          "name": "stdout"
        },
        {
          "output_type": "stream",
          "text": [
            "\r                                                                               \r\rN/A% (0 of 49) |                         | Elapsed Time: 0:00:00 ETA:  --:--:--"
          ],
          "name": "stderr"
        },
        {
          "output_type": "stream",
          "text": [
            "Starting the PER computation through beam search\n"
          ],
          "name": "stdout"
        },
        {
          "output_type": "stream",
          "text": [
            "100% (49 of 49) |########################| Elapsed Time: 0:00:17 Time:  0:00:17\n"
          ],
          "name": "stderr"
        },
        {
          "output_type": "stream",
          "text": [
            "Average PER 0.9753516906816391\n",
            "Average loss : 2.8006370116253287\n",
            "-------------------\n",
            "\n",
            "Running epoch 25 / 80\n",
            "-------------------\n",
            "Training dataset :\n",
            "Average loss : 2.7168114670663694.\n",
            "-------------------\n",
            "Validation dataset\n"
          ],
          "name": "stdout"
        },
        {
          "output_type": "stream",
          "text": [
            "\r                                                                               \r\rN/A% (0 of 49) |                         | Elapsed Time: 0:00:00 ETA:  --:--:--"
          ],
          "name": "stderr"
        },
        {
          "output_type": "stream",
          "text": [
            "Starting the PER computation through beam search\n"
          ],
          "name": "stdout"
        },
        {
          "output_type": "stream",
          "text": [
            "100% (49 of 49) |########################| Elapsed Time: 0:00:17 Time:  0:00:17\n"
          ],
          "name": "stderr"
        },
        {
          "output_type": "stream",
          "text": [
            "Average PER 0.9517654319913083\n",
            "Average loss : 2.6904640732979286\n",
            "-------------------\n",
            "\n",
            "Running epoch 26 / 80\n",
            "-------------------\n",
            "Training dataset :\n",
            "Average loss : 2.6336454368426296.\n",
            "-------------------\n",
            "Validation dataset\n"
          ],
          "name": "stdout"
        },
        {
          "output_type": "stream",
          "text": [
            "\r                                                                               \r\rN/A% (0 of 49) |                         | Elapsed Time: 0:00:00 ETA:  --:--:--"
          ],
          "name": "stderr"
        },
        {
          "output_type": "stream",
          "text": [
            "Starting the PER computation through beam search\n"
          ],
          "name": "stdout"
        },
        {
          "output_type": "stream",
          "text": [
            "100% (49 of 49) |########################| Elapsed Time: 0:00:17 Time:  0:00:17\n"
          ],
          "name": "stderr"
        },
        {
          "output_type": "stream",
          "text": [
            "Average PER 0.9307284930072474\n",
            "Average loss : 2.640796442421115\n",
            "-------------------\n",
            "\n",
            "Running epoch 27 / 80\n",
            "-------------------\n",
            "Training dataset :\n",
            "Average loss : 2.5506704624069254.\n",
            "-------------------\n",
            "Validation dataset\n"
          ],
          "name": "stdout"
        },
        {
          "output_type": "stream",
          "text": [
            "\r                                                                               \r\rN/A% (0 of 49) |                         | Elapsed Time: 0:00:00 ETA:  --:--:--"
          ],
          "name": "stderr"
        },
        {
          "output_type": "stream",
          "text": [
            "Starting the PER computation through beam search\n"
          ],
          "name": "stdout"
        },
        {
          "output_type": "stream",
          "text": [
            "100% (49 of 49) |########################| Elapsed Time: 0:00:17 Time:  0:00:17\n"
          ],
          "name": "stderr"
        },
        {
          "output_type": "stream",
          "text": [
            "Average PER 0.9203924922148892\n",
            "Average loss : 2.565137814502327\n",
            "-------------------\n",
            "\n",
            "Running epoch 28 / 80\n",
            "-------------------\n",
            "Training dataset :\n",
            "Average loss : 2.4774469213024655.\n",
            "-------------------\n",
            "Validation dataset\n"
          ],
          "name": "stdout"
        },
        {
          "output_type": "stream",
          "text": [
            "\r                                                                               \r\rN/A% (0 of 49) |                         | Elapsed Time: 0:00:00 ETA:  --:--:--"
          ],
          "name": "stderr"
        },
        {
          "output_type": "stream",
          "text": [
            "Starting the PER computation through beam search\n"
          ],
          "name": "stdout"
        },
        {
          "output_type": "stream",
          "text": [
            "100% (49 of 49) |########################| Elapsed Time: 0:00:17 Time:  0:00:17\n"
          ],
          "name": "stderr"
        },
        {
          "output_type": "stream",
          "text": [
            "Average PER 0.8943591455297056\n",
            "Average loss : 2.472699228598147\n",
            "-------------------\n",
            "\n",
            "Running epoch 29 / 80\n",
            "-------------------\n",
            "Training dataset :\n",
            "Average loss : 2.3923033903573305.\n",
            "-------------------\n",
            "Validation dataset\n"
          ],
          "name": "stdout"
        },
        {
          "output_type": "stream",
          "text": [
            "\r                                                                               \r\rN/A% (0 of 49) |                         | Elapsed Time: 0:00:00 ETA:  --:--:--"
          ],
          "name": "stderr"
        },
        {
          "output_type": "stream",
          "text": [
            "Starting the PER computation through beam search\n"
          ],
          "name": "stdout"
        },
        {
          "output_type": "stream",
          "text": [
            "100% (49 of 49) |########################| Elapsed Time: 0:00:17 Time:  0:00:17\n"
          ],
          "name": "stderr"
        },
        {
          "output_type": "stream",
          "text": [
            "Average PER 0.8657270529209778\n",
            "Average loss : 2.439942637268378\n",
            "-------------------\n",
            "\n",
            "Running epoch 30 / 80\n",
            "-------------------\n",
            "Training dataset :\n",
            "Average loss : 2.3076541526930328.\n",
            "-------------------\n",
            "Validation dataset\n"
          ],
          "name": "stdout"
        },
        {
          "output_type": "stream",
          "text": [
            "\r                                                                               \r\rN/A% (0 of 49) |                         | Elapsed Time: 0:00:00 ETA:  --:--:--"
          ],
          "name": "stderr"
        },
        {
          "output_type": "stream",
          "text": [
            "Starting the PER computation through beam search\n"
          ],
          "name": "stdout"
        },
        {
          "output_type": "stream",
          "text": [
            "100% (49 of 49) |########################| Elapsed Time: 0:00:17 Time:  0:00:17\n"
          ],
          "name": "stderr"
        },
        {
          "output_type": "stream",
          "text": [
            "Average PER 0.8376754342108355\n",
            "Average loss : 2.3782843132408296\n",
            "-------------------\n",
            "\n",
            "Running epoch 31 / 80\n",
            "-------------------\n",
            "Training dataset :\n",
            "Average loss : 2.241704719970548.\n",
            "-------------------\n",
            "Validation dataset\n"
          ],
          "name": "stdout"
        },
        {
          "output_type": "stream",
          "text": [
            "\r                                                                               \r\rN/A% (0 of 49) |                         | Elapsed Time: 0:00:00 ETA:  --:--:--"
          ],
          "name": "stderr"
        },
        {
          "output_type": "stream",
          "text": [
            "Starting the PER computation through beam search\n"
          ],
          "name": "stdout"
        },
        {
          "output_type": "stream",
          "text": [
            "100% (49 of 49) |########################| Elapsed Time: 0:00:17 Time:  0:00:17\n"
          ],
          "name": "stderr"
        },
        {
          "output_type": "stream",
          "text": [
            "Average PER 0.8006137245854015\n",
            "Average loss : 2.3097007201642406\n",
            "-------------------\n",
            "\n",
            "Running epoch 32 / 80\n",
            "-------------------\n",
            "Training dataset :\n",
            "Average loss : 2.1586606951463616.\n",
            "-------------------\n",
            "Validation dataset\n"
          ],
          "name": "stdout"
        },
        {
          "output_type": "stream",
          "text": [
            "\r                                                                               \r\rN/A% (0 of 49) |                         | Elapsed Time: 0:00:00 ETA:  --:--:--"
          ],
          "name": "stderr"
        },
        {
          "output_type": "stream",
          "text": [
            "Starting the PER computation through beam search\n"
          ],
          "name": "stdout"
        },
        {
          "output_type": "stream",
          "text": [
            "100% (49 of 49) |########################| Elapsed Time: 0:00:18 Time:  0:00:18\n"
          ],
          "name": "stderr"
        },
        {
          "output_type": "stream",
          "text": [
            "Average PER 0.7528955745122664\n",
            "Average loss : 2.233750022187525\n",
            "-------------------\n",
            "\n",
            "Running epoch 33 / 80\n",
            "-------------------\n",
            "Training dataset :\n",
            "Average loss : 2.06520553338922.\n",
            "-------------------\n",
            "Validation dataset\n"
          ],
          "name": "stdout"
        },
        {
          "output_type": "stream",
          "text": [
            "\r                                                                               \r\rN/A% (0 of 49) |                         | Elapsed Time: 0:00:00 ETA:  --:--:--"
          ],
          "name": "stderr"
        },
        {
          "output_type": "stream",
          "text": [
            "Starting the PER computation through beam search\n"
          ],
          "name": "stdout"
        },
        {
          "output_type": "stream",
          "text": [
            "100% (49 of 49) |########################| Elapsed Time: 0:00:18 Time:  0:00:18\n"
          ],
          "name": "stderr"
        },
        {
          "output_type": "stream",
          "text": [
            "Average PER 0.770526459269984\n",
            "Average loss : 2.2123257092067172\n",
            "-------------------\n",
            "\n",
            "Running epoch 34 / 80\n",
            "-------------------\n",
            "Training dataset :\n",
            "Average loss : 1.9946606013611072.\n",
            "-------------------\n",
            "Validation dataset\n"
          ],
          "name": "stdout"
        },
        {
          "output_type": "stream",
          "text": [
            "\r                                                                               \r\rN/A% (0 of 49) |                         | Elapsed Time: 0:00:00 ETA:  --:--:--"
          ],
          "name": "stderr"
        },
        {
          "output_type": "stream",
          "text": [
            "Starting the PER computation through beam search\n"
          ],
          "name": "stdout"
        },
        {
          "output_type": "stream",
          "text": [
            "100% (49 of 49) |########################| Elapsed Time: 0:00:18 Time:  0:00:18\n"
          ],
          "name": "stderr"
        },
        {
          "output_type": "stream",
          "text": [
            "Average PER 0.7168572644894515\n",
            "Average loss : 2.150160945191675\n",
            "-------------------\n",
            "\n",
            "Running epoch 35 / 80\n",
            "-------------------\n",
            "Training dataset :\n",
            "Average loss : 1.917815889717665.\n",
            "-------------------\n",
            "Validation dataset\n"
          ],
          "name": "stdout"
        },
        {
          "output_type": "stream",
          "text": [
            "\r                                                                               \r\rN/A% (0 of 49) |                         | Elapsed Time: 0:00:00 ETA:  --:--:--"
          ],
          "name": "stderr"
        },
        {
          "output_type": "stream",
          "text": [
            "Starting the PER computation through beam search\n"
          ],
          "name": "stdout"
        },
        {
          "output_type": "stream",
          "text": [
            "100% (49 of 49) |########################| Elapsed Time: 0:00:19 Time:  0:00:19\n"
          ],
          "name": "stderr"
        },
        {
          "output_type": "stream",
          "text": [
            "Average PER 0.6906407951598672\n",
            "Average loss : 2.1098499079139863\n",
            "-------------------\n",
            "\n",
            "Running epoch 36 / 80\n",
            "-------------------\n",
            "Training dataset :\n",
            "Average loss : 1.8534871100166068.\n",
            "-------------------\n",
            "Validation dataset\n"
          ],
          "name": "stdout"
        },
        {
          "output_type": "stream",
          "text": [
            "\r                                                                               \r\rN/A% (0 of 49) |                         | Elapsed Time: 0:00:00 ETA:  --:--:--"
          ],
          "name": "stderr"
        },
        {
          "output_type": "stream",
          "text": [
            "Starting the PER computation through beam search\n"
          ],
          "name": "stdout"
        },
        {
          "output_type": "stream",
          "text": [
            "100% (49 of 49) |########################| Elapsed Time: 0:00:20 Time:  0:00:20\n"
          ],
          "name": "stderr"
        },
        {
          "output_type": "stream",
          "text": [
            "Average PER 0.6349792231078365\n",
            "Average loss : 2.117017524582999\n",
            "-------------------\n",
            "\n",
            "Running epoch 37 / 80\n",
            "-------------------\n",
            "Training dataset :\n",
            "Average loss : 1.7867587207231206.\n",
            "-------------------\n",
            "Validation dataset\n"
          ],
          "name": "stdout"
        },
        {
          "output_type": "stream",
          "text": [
            "\r                                                                               \r\rN/A% (0 of 49) |                         | Elapsed Time: 0:00:00 ETA:  --:--:--"
          ],
          "name": "stderr"
        },
        {
          "output_type": "stream",
          "text": [
            "Starting the PER computation through beam search\n"
          ],
          "name": "stdout"
        },
        {
          "output_type": "stream",
          "text": [
            "100% (49 of 49) |########################| Elapsed Time: 0:00:21 Time:  0:00:21\n"
          ],
          "name": "stderr"
        },
        {
          "output_type": "stream",
          "text": [
            "Average PER 0.5955757156339234\n",
            "Average loss : 2.086682937583145\n",
            "-------------------\n",
            "\n",
            "Running epoch 38 / 80\n",
            "-------------------\n",
            "Training dataset :\n",
            "Average loss : 1.7188403236350334.\n",
            "-------------------\n",
            "Validation dataset\n"
          ],
          "name": "stdout"
        },
        {
          "output_type": "stream",
          "text": [
            "\r                                                                               \r\rN/A% (0 of 49) |                         | Elapsed Time: 0:00:00 ETA:  --:--:--"
          ],
          "name": "stderr"
        },
        {
          "output_type": "stream",
          "text": [
            "Starting the PER computation through beam search\n"
          ],
          "name": "stdout"
        },
        {
          "output_type": "stream",
          "text": [
            "100% (49 of 49) |########################| Elapsed Time: 0:00:21 Time:  0:00:21\n"
          ],
          "name": "stderr"
        },
        {
          "output_type": "stream",
          "text": [
            "Average PER 0.5946673961708564\n",
            "Average loss : 2.046720709119524\n",
            "-------------------\n",
            "\n",
            "Running epoch 39 / 80\n",
            "-------------------\n",
            "Training dataset :\n",
            "Average loss : 1.6459404581982366.\n",
            "-------------------\n",
            "Validation dataset\n"
          ],
          "name": "stdout"
        },
        {
          "output_type": "stream",
          "text": [
            "\r                                                                               \r\rN/A% (0 of 49) |                         | Elapsed Time: 0:00:00 ETA:  --:--:--"
          ],
          "name": "stderr"
        },
        {
          "output_type": "stream",
          "text": [
            "Starting the PER computation through beam search\n"
          ],
          "name": "stdout"
        },
        {
          "output_type": "stream",
          "text": [
            "100% (49 of 49) |########################| Elapsed Time: 0:00:21 Time:  0:00:21\n"
          ],
          "name": "stderr"
        },
        {
          "output_type": "stream",
          "text": [
            "Average PER 0.5855447218804022\n",
            "Average loss : 2.0060646801578756\n",
            "-------------------\n",
            "\n",
            "Running epoch 40 / 80\n",
            "-------------------\n",
            "Training dataset :\n",
            "Average loss : 1.5814388307906289.\n",
            "-------------------\n",
            "Validation dataset\n"
          ],
          "name": "stdout"
        },
        {
          "output_type": "stream",
          "text": [
            "\r                                                                               \r\rN/A% (0 of 49) |                         | Elapsed Time: 0:00:00 ETA:  --:--:--"
          ],
          "name": "stderr"
        },
        {
          "output_type": "stream",
          "text": [
            "Starting the PER computation through beam search\n"
          ],
          "name": "stdout"
        },
        {
          "output_type": "stream",
          "text": [
            "100% (49 of 49) |########################| Elapsed Time: 0:00:21 Time:  0:00:21\n"
          ],
          "name": "stderr"
        },
        {
          "output_type": "stream",
          "text": [
            "Average PER 0.565408198475996\n",
            "Average loss : 1.9848961051629515\n",
            "-------------------\n",
            "\n",
            "Running epoch 41 / 80\n",
            "-------------------\n",
            "Training dataset :\n",
            "Average loss : 1.522925778199698.\n",
            "-------------------\n",
            "Validation dataset\n"
          ],
          "name": "stdout"
        },
        {
          "output_type": "stream",
          "text": [
            "\r                                                                               \r\rN/A% (0 of 49) |                         | Elapsed Time: 0:00:00 ETA:  --:--:--"
          ],
          "name": "stderr"
        },
        {
          "output_type": "stream",
          "text": [
            "Starting the PER computation through beam search\n"
          ],
          "name": "stdout"
        },
        {
          "output_type": "stream",
          "text": [
            "100% (49 of 49) |########################| Elapsed Time: 0:00:21 Time:  0:00:21\n"
          ],
          "name": "stderr"
        },
        {
          "output_type": "stream",
          "text": [
            "Average PER 0.551768543130858\n",
            "Average loss : 1.9868749428768546\n",
            "-------------------\n",
            "\n",
            "Running epoch 42 / 80\n",
            "-------------------\n",
            "Training dataset :\n",
            "Average loss : 1.486890873229534.\n",
            "-------------------\n",
            "Validation dataset\n"
          ],
          "name": "stdout"
        },
        {
          "output_type": "stream",
          "text": [
            "\r                                                                               \r\rN/A% (0 of 49) |                         | Elapsed Time: 0:00:00 ETA:  --:--:--"
          ],
          "name": "stderr"
        },
        {
          "output_type": "stream",
          "text": [
            "Starting the PER computation through beam search\n"
          ],
          "name": "stdout"
        },
        {
          "output_type": "stream",
          "text": [
            "100% (49 of 49) |########################| Elapsed Time: 0:00:22 Time:  0:00:22\n"
          ],
          "name": "stderr"
        },
        {
          "output_type": "stream",
          "text": [
            "Average PER 0.5483449514286052\n",
            "Average loss : 1.990143785671312\n",
            "-------------------\n",
            "\n",
            "Running epoch 43 / 80\n",
            "-------------------\n",
            "Training dataset :\n",
            "Average loss : 1.3996161504556204.\n",
            "-------------------\n",
            "Validation dataset\n"
          ],
          "name": "stdout"
        },
        {
          "output_type": "stream",
          "text": [
            "\r                                                                               \r\rN/A% (0 of 49) |                         | Elapsed Time: 0:00:00 ETA:  --:--:--"
          ],
          "name": "stderr"
        },
        {
          "output_type": "stream",
          "text": [
            "Starting the PER computation through beam search\n"
          ],
          "name": "stdout"
        },
        {
          "output_type": "stream",
          "text": [
            "100% (49 of 49) |########################| Elapsed Time: 0:00:22 Time:  0:00:22\n"
          ],
          "name": "stderr"
        },
        {
          "output_type": "stream",
          "text": [
            "Average PER 0.5432616405633877\n",
            "Average loss : 1.9907399367312997\n",
            "-------------------\n",
            "\n",
            "Running epoch 44 / 80\n",
            "-------------------\n",
            "Training dataset :\n",
            "Average loss : 1.345621452986739.\n",
            "-------------------\n",
            "Validation dataset\n"
          ],
          "name": "stdout"
        },
        {
          "output_type": "stream",
          "text": [
            "\r                                                                               \r\rN/A% (0 of 49) |                         | Elapsed Time: 0:00:00 ETA:  --:--:--"
          ],
          "name": "stderr"
        },
        {
          "output_type": "stream",
          "text": [
            "Starting the PER computation through beam search\n"
          ],
          "name": "stdout"
        },
        {
          "output_type": "stream",
          "text": [
            "100% (49 of 49) |########################| Elapsed Time: 0:00:21 Time:  0:00:21\n"
          ],
          "name": "stderr"
        },
        {
          "output_type": "stream",
          "text": [
            "Average PER 0.5471299341484168\n",
            "Average loss : 1.9964811436984005\n",
            "-------------------\n",
            "\n",
            "Running epoch 45 / 80\n",
            "-------------------\n",
            "Training dataset :\n",
            "Average loss : 1.2905278484936586.\n",
            "-------------------\n",
            "Validation dataset\n"
          ],
          "name": "stdout"
        },
        {
          "output_type": "stream",
          "text": [
            "\r                                                                               \r\rN/A% (0 of 49) |                         | Elapsed Time: 0:00:00 ETA:  --:--:--"
          ],
          "name": "stderr"
        },
        {
          "output_type": "stream",
          "text": [
            "Starting the PER computation through beam search\n"
          ],
          "name": "stdout"
        },
        {
          "output_type": "stream",
          "text": [
            "100% (49 of 49) |########################| Elapsed Time: 0:00:22 Time:  0:00:22\n"
          ],
          "name": "stderr"
        },
        {
          "output_type": "stream",
          "text": [
            "Average PER 0.5390749411517674\n",
            "Average loss : 2.020645869021513\n",
            "-------------------\n",
            "\n",
            "Running epoch 46 / 80\n",
            "-------------------\n",
            "Training dataset :\n",
            "Average loss : 1.2281468142079943.\n",
            "-------------------\n",
            "Validation dataset\n"
          ],
          "name": "stdout"
        },
        {
          "output_type": "stream",
          "text": [
            "\r                                                                               \r\rN/A% (0 of 49) |                         | Elapsed Time: 0:00:00 ETA:  --:--:--"
          ],
          "name": "stderr"
        },
        {
          "output_type": "stream",
          "text": [
            "Epoch    46: reducing learning rate of group 0 to 4.0000e-05.\n",
            "Starting the PER computation through beam search\n"
          ],
          "name": "stdout"
        },
        {
          "output_type": "stream",
          "text": [
            "100% (49 of 49) |########################| Elapsed Time: 0:00:22 Time:  0:00:22\n"
          ],
          "name": "stderr"
        },
        {
          "output_type": "stream",
          "text": [
            "Average PER 0.5421432227011149\n",
            "Average loss : 2.014720705090737\n",
            "-------------------\n",
            "\n",
            "Running epoch 47 / 80\n",
            "-------------------\n",
            "Training dataset :\n",
            "Average loss : 1.066789303117126.\n",
            "-------------------\n",
            "Validation dataset\n"
          ],
          "name": "stdout"
        },
        {
          "output_type": "stream",
          "text": [
            "\r                                                                               \r\rN/A% (0 of 49) |                         | Elapsed Time: 0:00:00 ETA:  --:--:--"
          ],
          "name": "stderr"
        },
        {
          "output_type": "stream",
          "text": [
            "Starting the PER computation through beam search\n"
          ],
          "name": "stdout"
        },
        {
          "output_type": "stream",
          "text": [
            "100% (49 of 49) |########################| Elapsed Time: 0:00:22 Time:  0:00:22\n"
          ],
          "name": "stderr"
        },
        {
          "output_type": "stream",
          "text": [
            "Average PER 0.5166883817312484\n",
            "Average loss : 1.9684641482878704\n",
            "-------------------\n",
            "\n",
            "Running epoch 48 / 80\n",
            "-------------------\n",
            "Training dataset :\n",
            "Average loss : 1.0123434391337194.\n",
            "-------------------\n",
            "Validation dataset\n"
          ],
          "name": "stdout"
        },
        {
          "output_type": "stream",
          "text": [
            "\r                                                                               \r\rN/A% (0 of 49) |                         | Elapsed Time: 0:00:00 ETA:  --:--:--"
          ],
          "name": "stderr"
        },
        {
          "output_type": "stream",
          "text": [
            "Starting the PER computation through beam search\n"
          ],
          "name": "stdout"
        },
        {
          "output_type": "stream",
          "text": [
            "100% (49 of 49) |########################| Elapsed Time: 0:00:22 Time:  0:00:22\n"
          ],
          "name": "stderr"
        },
        {
          "output_type": "stream",
          "text": [
            "Average PER 0.514892922663244\n",
            "Average loss : 1.9840127497303242\n",
            "-------------------\n",
            "\n",
            "Running epoch 49 / 80\n",
            "-------------------\n",
            "Training dataset :\n",
            "Average loss : 0.9828462097177675.\n",
            "-------------------\n",
            "Validation dataset\n"
          ],
          "name": "stdout"
        },
        {
          "output_type": "stream",
          "text": [
            "\r                                                                               \r\rN/A% (0 of 49) |                         | Elapsed Time: 0:00:00 ETA:  --:--:--"
          ],
          "name": "stderr"
        },
        {
          "output_type": "stream",
          "text": [
            "Starting the PER computation through beam search\n"
          ],
          "name": "stdout"
        },
        {
          "output_type": "stream",
          "text": [
            "100% (49 of 49) |########################| Elapsed Time: 0:00:23 Time:  0:00:23\n"
          ],
          "name": "stderr"
        },
        {
          "output_type": "stream",
          "text": [
            "Average PER 0.5150515429183397\n",
            "Average loss : 1.993765731247104\n",
            "-------------------\n",
            "\n",
            "Running epoch 50 / 80\n",
            "-------------------\n",
            "Training dataset :\n",
            "Average loss : 0.9585023957657753.\n",
            "-------------------\n",
            "Validation dataset\n"
          ],
          "name": "stdout"
        },
        {
          "output_type": "stream",
          "text": [
            "\r                                                                               \r\rN/A% (0 of 49) |                         | Elapsed Time: 0:00:00 ETA:  --:--:--"
          ],
          "name": "stderr"
        },
        {
          "output_type": "stream",
          "text": [
            "Starting the PER computation through beam search\n"
          ],
          "name": "stdout"
        },
        {
          "output_type": "stream",
          "text": [
            "100% (49 of 49) |########################| Elapsed Time: 0:00:23 Time:  0:00:23\n"
          ],
          "name": "stderr"
        },
        {
          "output_type": "stream",
          "text": [
            "Average PER 0.5114748753083233\n",
            "Average loss : 1.9990136526068862\n",
            "-------------------\n",
            "\n",
            "Running epoch 51 / 80\n",
            "-------------------\n",
            "Training dataset :\n",
            "Average loss : 0.9342228321325384.\n",
            "-------------------\n",
            "Validation dataset\n"
          ],
          "name": "stdout"
        },
        {
          "output_type": "stream",
          "text": [
            "\r                                                                               \r\rN/A% (0 of 49) |                         | Elapsed Time: 0:00:00 ETA:  --:--:--"
          ],
          "name": "stderr"
        },
        {
          "output_type": "stream",
          "text": [
            "Starting the PER computation through beam search\n"
          ],
          "name": "stdout"
        },
        {
          "output_type": "stream",
          "text": [
            "100% (49 of 49) |########################| Elapsed Time: 0:00:23 Time:  0:00:23\n"
          ],
          "name": "stderr"
        },
        {
          "output_type": "stream",
          "text": [
            "Average PER 0.5091646036451184\n",
            "Average loss : 2.012596013594647\n",
            "-------------------\n",
            "\n",
            "Running epoch 52 / 80\n",
            "-------------------\n",
            "Training dataset :\n",
            "Average loss : 0.9124140869873474.\n",
            "-------------------\n",
            "Validation dataset\n"
          ],
          "name": "stdout"
        },
        {
          "output_type": "stream",
          "text": [
            "\r                                                                               \r\rN/A% (0 of 49) |                         | Elapsed Time: 0:00:00 ETA:  --:--:--"
          ],
          "name": "stderr"
        },
        {
          "output_type": "stream",
          "text": [
            "Starting the PER computation through beam search\n"
          ],
          "name": "stdout"
        },
        {
          "output_type": "stream",
          "text": [
            "100% (49 of 49) |########################| Elapsed Time: 0:00:23 Time:  0:00:23\n"
          ],
          "name": "stderr"
        },
        {
          "output_type": "stream",
          "text": [
            "Average PER 0.5133370684165907\n",
            "Average loss : 2.0191152995946458\n",
            "-------------------\n",
            "\n",
            "Running epoch 53 / 80\n",
            "-------------------\n",
            "Training dataset :\n",
            "Average loss : 0.8902684603331956.\n",
            "-------------------\n",
            "Validation dataset\n"
          ],
          "name": "stdout"
        },
        {
          "output_type": "stream",
          "text": [
            "\r                                                                               \r\rN/A% (0 of 49) |                         | Elapsed Time: 0:00:00 ETA:  --:--:--"
          ],
          "name": "stderr"
        },
        {
          "output_type": "stream",
          "text": [
            "Epoch    53: reducing learning rate of group 0 to 8.0000e-06.\n",
            "Starting the PER computation through beam search\n"
          ],
          "name": "stdout"
        },
        {
          "output_type": "stream",
          "text": [
            "100% (49 of 49) |########################| Elapsed Time: 0:00:23 Time:  0:00:23\n"
          ],
          "name": "stderr"
        },
        {
          "output_type": "stream",
          "text": [
            "Average PER 0.5135882613441125\n",
            "Average loss : 2.0228122059179814\n",
            "-------------------\n",
            "\n",
            "Running epoch 54 / 80\n",
            "-------------------\n",
            "Training dataset :\n",
            "Average loss : 0.8522944972108641.\n",
            "-------------------\n",
            "Validation dataset\n"
          ],
          "name": "stdout"
        },
        {
          "output_type": "stream",
          "text": [
            "\r                                                                               \r\rN/A% (0 of 49) |                         | Elapsed Time: 0:00:00 ETA:  --:--:--"
          ],
          "name": "stderr"
        },
        {
          "output_type": "stream",
          "text": [
            "Starting the PER computation through beam search\n"
          ],
          "name": "stdout"
        },
        {
          "output_type": "stream",
          "text": [
            "100% (49 of 49) |########################| Elapsed Time: 0:00:23 Time:  0:00:23\n"
          ],
          "name": "stderr"
        },
        {
          "output_type": "stream",
          "text": [
            "Average PER 0.5079580482441401\n",
            "Average loss : 2.0263699195822893\n",
            "-------------------\n",
            "\n",
            "Running epoch 55 / 80\n",
            "-------------------\n",
            "Training dataset :\n",
            "Average loss : 0.8441725171552663.\n",
            "-------------------\n",
            "Validation dataset\n"
          ],
          "name": "stdout"
        },
        {
          "output_type": "stream",
          "text": [
            "\r                                                                               \r\rN/A% (0 of 49) |                         | Elapsed Time: 0:00:00 ETA:  --:--:--"
          ],
          "name": "stderr"
        },
        {
          "output_type": "stream",
          "text": [
            "Starting the PER computation through beam search\n"
          ],
          "name": "stdout"
        },
        {
          "output_type": "stream",
          "text": [
            "100% (49 of 49) |########################| Elapsed Time: 0:00:23 Time:  0:00:23\n"
          ],
          "name": "stderr"
        },
        {
          "output_type": "stream",
          "text": [
            "Average PER 0.5118665203439208\n",
            "Average loss : 2.0299075379663583\n",
            "-------------------\n",
            "\n",
            "Running epoch 56 / 80\n",
            "-------------------\n",
            "Training dataset :\n",
            "Average loss : 0.8384634596094224.\n",
            "-------------------\n",
            "Validation dataset\n"
          ],
          "name": "stdout"
        },
        {
          "output_type": "stream",
          "text": [
            "\r                                                                               \r\rN/A% (0 of 49) |                         | Elapsed Time: 0:00:00 ETA:  --:--:--"
          ],
          "name": "stderr"
        },
        {
          "output_type": "stream",
          "text": [
            "Starting the PER computation through beam search\n"
          ],
          "name": "stdout"
        },
        {
          "output_type": "stream",
          "text": [
            "100% (49 of 49) |########################| Elapsed Time: 0:00:23 Time:  0:00:23\n"
          ],
          "name": "stderr"
        },
        {
          "output_type": "stream",
          "text": [
            "Average PER 0.5096612556847888\n",
            "Average loss : 2.0317287153127244\n",
            "-------------------\n",
            "\n",
            "Running epoch 57 / 80\n",
            "-------------------\n",
            "Training dataset :\n",
            "Average loss : 0.8331947761940895.\n",
            "-------------------\n",
            "Validation dataset\n"
          ],
          "name": "stdout"
        },
        {
          "output_type": "stream",
          "text": [
            "\r                                                                               \r\rN/A% (0 of 49) |                         | Elapsed Time: 0:00:00 ETA:  --:--:--"
          ],
          "name": "stderr"
        },
        {
          "output_type": "stream",
          "text": [
            "Starting the PER computation through beam search\n"
          ],
          "name": "stdout"
        },
        {
          "output_type": "stream",
          "text": [
            "100% (49 of 49) |########################| Elapsed Time: 0:00:23 Time:  0:00:23\n"
          ],
          "name": "stderr"
        },
        {
          "output_type": "stream",
          "text": [
            "Average PER 0.5118291507213546\n",
            "Average loss : 2.037490268142856\n",
            "-------------------\n",
            "\n",
            "Running epoch 58 / 80\n",
            "-------------------\n",
            "Training dataset :\n",
            "Average loss : 0.8285160583394174.\n",
            "-------------------\n",
            "Validation dataset\n"
          ],
          "name": "stdout"
        },
        {
          "output_type": "stream",
          "text": [
            "\r                                                                               \r\rN/A% (0 of 49) |                         | Elapsed Time: 0:00:00 ETA:  --:--:--"
          ],
          "name": "stderr"
        },
        {
          "output_type": "stream",
          "text": [
            "Starting the PER computation through beam search\n"
          ],
          "name": "stdout"
        },
        {
          "output_type": "stream",
          "text": [
            "100% (49 of 49) |########################| Elapsed Time: 0:00:23 Time:  0:00:23\n"
          ],
          "name": "stderr"
        },
        {
          "output_type": "stream",
          "text": [
            "Average PER 0.5084526469730606\n",
            "Average loss : 2.0385362639719125\n",
            "-------------------\n",
            "\n",
            "Running epoch 59 / 80\n",
            "-------------------\n",
            "Training dataset :\n",
            "Average loss : 0.8230846516655298.\n",
            "-------------------\n",
            "Validation dataset\n"
          ],
          "name": "stdout"
        },
        {
          "output_type": "stream",
          "text": [
            "\r                                                                               \r\rN/A% (0 of 49) |                         | Elapsed Time: 0:00:00 ETA:  --:--:--"
          ],
          "name": "stderr"
        },
        {
          "output_type": "stream",
          "text": [
            "Epoch    59: reducing learning rate of group 0 to 1.6000e-06.\n",
            "Starting the PER computation through beam search\n"
          ],
          "name": "stdout"
        },
        {
          "output_type": "stream",
          "text": [
            "100% (49 of 49) |########################| Elapsed Time: 0:00:23 Time:  0:00:23\n"
          ],
          "name": "stderr"
        },
        {
          "output_type": "stream",
          "text": [
            "Average PER 0.5112660904261148\n",
            "Average loss : 2.0418065737704842\n",
            "-------------------\n",
            "\n",
            "Running epoch 60 / 80\n",
            "-------------------\n",
            "Training dataset :\n",
            "Average loss : 0.8147235082761022.\n",
            "-------------------\n",
            "Validation dataset\n"
          ],
          "name": "stdout"
        },
        {
          "output_type": "stream",
          "text": [
            "\r                                                                               \r\rN/A% (0 of 49) |                         | Elapsed Time: 0:00:00 ETA:  --:--:--"
          ],
          "name": "stderr"
        },
        {
          "output_type": "stream",
          "text": [
            "Starting the PER computation through beam search\n"
          ],
          "name": "stdout"
        },
        {
          "output_type": "stream",
          "text": [
            "100% (49 of 49) |########################| Elapsed Time: 0:00:23 Time:  0:00:23\n"
          ],
          "name": "stderr"
        },
        {
          "output_type": "stream",
          "text": [
            "Average PER 0.5104097220612451\n",
            "Average loss : 2.04273458402984\n",
            "-------------------\n",
            "\n",
            "Running epoch 61 / 80\n",
            "-------------------\n",
            "Training dataset :\n",
            "Average loss : 0.8133521723079924.\n",
            "-------------------\n",
            "Validation dataset\n"
          ],
          "name": "stdout"
        },
        {
          "output_type": "stream",
          "text": [
            "\r                                                                               \r\rN/A% (0 of 49) |                         | Elapsed Time: 0:00:00 ETA:  --:--:--"
          ],
          "name": "stderr"
        },
        {
          "output_type": "stream",
          "text": [
            "Starting the PER computation through beam search\n"
          ],
          "name": "stdout"
        },
        {
          "output_type": "stream",
          "text": [
            "100% (49 of 49) |########################| Elapsed Time: 0:00:23 Time:  0:00:23\n"
          ],
          "name": "stderr"
        },
        {
          "output_type": "stream",
          "text": [
            "Average PER 0.5088548001782046\n",
            "Average loss : 2.043168060633601\n",
            "-------------------\n",
            "\n",
            "Running epoch 62 / 80\n",
            "-------------------\n",
            "Training dataset :\n",
            "Average loss : 0.8122525964377794.\n",
            "-------------------\n",
            "Validation dataset\n"
          ],
          "name": "stdout"
        },
        {
          "output_type": "stream",
          "text": [
            "\r                                                                               \r\rN/A% (0 of 49) |                         | Elapsed Time: 0:00:00 ETA:  --:--:--"
          ],
          "name": "stderr"
        },
        {
          "output_type": "stream",
          "text": [
            "Starting the PER computation through beam search\n"
          ],
          "name": "stdout"
        },
        {
          "output_type": "stream",
          "text": [
            "100% (49 of 49) |########################| Elapsed Time: 0:00:23 Time:  0:00:23\n"
          ],
          "name": "stderr"
        },
        {
          "output_type": "stream",
          "text": [
            "Average PER 0.5109951532796023\n",
            "Average loss : 2.0437982422964915\n",
            "-------------------\n",
            "\n",
            "Running epoch 63 / 80\n",
            "-------------------\n",
            "Training dataset :\n",
            "Average loss : 0.8111380176386457.\n",
            "-------------------\n",
            "Validation dataset\n"
          ],
          "name": "stdout"
        },
        {
          "output_type": "stream",
          "text": [
            "\r                                                                               \r\rN/A% (0 of 49) |                         | Elapsed Time: 0:00:00 ETA:  --:--:--"
          ],
          "name": "stderr"
        },
        {
          "output_type": "stream",
          "text": [
            "Starting the PER computation through beam search\n"
          ],
          "name": "stdout"
        },
        {
          "output_type": "stream",
          "text": [
            "100% (49 of 49) |########################| Elapsed Time: 0:00:23 Time:  0:00:23\n"
          ],
          "name": "stderr"
        },
        {
          "output_type": "stream",
          "text": [
            "Average PER 0.5106499783571311\n",
            "Average loss : 2.044537074711858\n",
            "-------------------\n",
            "\n",
            "Running epoch 64 / 80\n",
            "-------------------\n",
            "Training dataset :\n",
            "Average loss : 0.8100594091051407.\n",
            "-------------------\n",
            "Validation dataset\n"
          ],
          "name": "stdout"
        },
        {
          "output_type": "stream",
          "text": [
            "\r                                                                               \r\rN/A% (0 of 49) |                         | Elapsed Time: 0:00:00 ETA:  --:--:--"
          ],
          "name": "stderr"
        },
        {
          "output_type": "stream",
          "text": [
            "Starting the PER computation through beam search\n"
          ],
          "name": "stdout"
        },
        {
          "output_type": "stream",
          "text": [
            "100% (49 of 49) |########################| Elapsed Time: 0:00:23 Time:  0:00:23\n"
          ],
          "name": "stderr"
        },
        {
          "output_type": "stream",
          "text": [
            "Average PER 0.5076037543920585\n",
            "Average loss : 2.044724517939042\n",
            "-------------------\n",
            "\n",
            "Running epoch 65 / 80\n",
            "-------------------\n",
            "Training dataset :\n",
            "Average loss : 0.809044070826232.\n",
            "-------------------\n",
            "Validation dataset\n"
          ],
          "name": "stdout"
        },
        {
          "output_type": "stream",
          "text": [
            "\r                                                                               \r\rN/A% (0 of 49) |                         | Elapsed Time: 0:00:00 ETA:  --:--:--"
          ],
          "name": "stderr"
        },
        {
          "output_type": "stream",
          "text": [
            "Epoch    65: reducing learning rate of group 0 to 3.2000e-07.\n",
            "Starting the PER computation through beam search\n"
          ],
          "name": "stdout"
        },
        {
          "output_type": "stream",
          "text": [
            "100% (49 of 49) |########################| Elapsed Time: 0:00:23 Time:  0:00:23\n"
          ],
          "name": "stderr"
        },
        {
          "output_type": "stream",
          "text": [
            "Average PER 0.5098110623344907\n",
            "Average loss : 2.0458243233816966\n",
            "-------------------\n",
            "\n",
            "Running epoch 66 / 80\n",
            "-------------------\n",
            "Training dataset :\n",
            "Average loss : 0.8070805743147096.\n",
            "-------------------\n",
            "Validation dataset\n"
          ],
          "name": "stdout"
        },
        {
          "output_type": "stream",
          "text": [
            "\r                                                                               \r\rN/A% (0 of 49) |                         | Elapsed Time: 0:00:00 ETA:  --:--:--"
          ],
          "name": "stderr"
        },
        {
          "output_type": "stream",
          "text": [
            "Starting the PER computation through beam search\n"
          ],
          "name": "stdout"
        },
        {
          "output_type": "stream",
          "text": [
            "100% (49 of 49) |########################| Elapsed Time: 0:00:23 Time:  0:00:23\n"
          ],
          "name": "stderr"
        },
        {
          "output_type": "stream",
          "text": [
            "Average PER 0.5108369973710325\n",
            "Average loss : 2.0459369883245353\n",
            "-------------------\n",
            "\n",
            "Running epoch 67 / 80\n",
            "-------------------\n",
            "Training dataset :\n",
            "Average loss : 0.8068326710138005.\n",
            "-------------------\n",
            "Validation dataset\n"
          ],
          "name": "stdout"
        },
        {
          "output_type": "stream",
          "text": [
            "\r                                                                               \r\rN/A% (0 of 49) |                         | Elapsed Time: 0:00:00 ETA:  --:--:--"
          ],
          "name": "stderr"
        },
        {
          "output_type": "stream",
          "text": [
            "Starting the PER computation through beam search\n"
          ],
          "name": "stdout"
        },
        {
          "output_type": "stream",
          "text": [
            "100% (49 of 49) |########################| Elapsed Time: 0:00:23 Time:  0:00:23\n"
          ],
          "name": "stderr"
        },
        {
          "output_type": "stream",
          "text": [
            "Average PER 0.5098738710581009\n",
            "Average loss : 2.0460183109555925\n",
            "-------------------\n",
            "\n",
            "Running epoch 68 / 80\n",
            "-------------------\n",
            "Training dataset :\n",
            "Average loss : 0.806605345420255.\n",
            "-------------------\n",
            "Validation dataset\n"
          ],
          "name": "stdout"
        },
        {
          "output_type": "stream",
          "text": [
            "\r                                                                               \r\rN/A% (0 of 49) |                         | Elapsed Time: 0:00:00 ETA:  --:--:--"
          ],
          "name": "stderr"
        },
        {
          "output_type": "stream",
          "text": [
            "Starting the PER computation through beam search\n"
          ],
          "name": "stdout"
        },
        {
          "output_type": "stream",
          "text": [
            "100% (49 of 49) |########################| Elapsed Time: 0:00:23 Time:  0:00:23\n"
          ],
          "name": "stderr"
        },
        {
          "output_type": "stream",
          "text": [
            "Average PER 0.5093623234861997\n",
            "Average loss : 2.046098971853451\n",
            "-------------------\n",
            "\n",
            "Running epoch 69 / 80\n",
            "-------------------\n",
            "Training dataset :\n",
            "Average loss : 0.8063828697944718.\n",
            "-------------------\n",
            "Validation dataset\n"
          ],
          "name": "stdout"
        },
        {
          "output_type": "stream",
          "text": [
            "\r                                                                               \r\rN/A% (0 of 49) |                         | Elapsed Time: 0:00:00 ETA:  --:--:--"
          ],
          "name": "stderr"
        },
        {
          "output_type": "stream",
          "text": [
            "Starting the PER computation through beam search\n"
          ],
          "name": "stdout"
        },
        {
          "output_type": "stream",
          "text": [
            "100% (49 of 49) |########################| Elapsed Time: 0:00:23 Time:  0:00:23\n"
          ],
          "name": "stderr"
        },
        {
          "output_type": "stream",
          "text": [
            "Average PER 0.5101014232320464\n",
            "Average loss : 2.046328520288273\n",
            "-------------------\n",
            "\n",
            "Running epoch 70 / 80\n",
            "-------------------\n",
            "Training dataset :\n",
            "Average loss : 0.8061641469863231.\n",
            "-------------------\n",
            "Validation dataset\n"
          ],
          "name": "stdout"
        },
        {
          "output_type": "stream",
          "text": [
            "\r                                                                               \r\rN/A% (0 of 49) |                         | Elapsed Time: 0:00:00 ETA:  --:--:--"
          ],
          "name": "stderr"
        },
        {
          "output_type": "stream",
          "text": [
            "Starting the PER computation through beam search\n"
          ],
          "name": "stdout"
        },
        {
          "output_type": "stream",
          "text": [
            "100% (49 of 49) |########################| Elapsed Time: 0:00:22 Time:  0:00:22\n"
          ],
          "name": "stderr"
        },
        {
          "output_type": "stream",
          "text": [
            "Average PER 0.5097570935803112\n",
            "Average loss : 2.0464666473622226\n",
            "-------------------\n",
            "\n",
            "Running epoch 71 / 80\n",
            "-------------------\n",
            "Training dataset :\n",
            "Average loss : 0.8059452033528238.\n",
            "-------------------\n",
            "Validation dataset\n"
          ],
          "name": "stdout"
        },
        {
          "output_type": "stream",
          "text": [
            "\r                                                                               \r\rN/A% (0 of 49) |                         | Elapsed Time: 0:00:00 ETA:  --:--:--"
          ],
          "name": "stderr"
        },
        {
          "output_type": "stream",
          "text": [
            "Epoch    71: reducing learning rate of group 0 to 6.4000e-08.\n",
            "Starting the PER computation through beam search\n"
          ],
          "name": "stdout"
        },
        {
          "output_type": "stream",
          "text": [
            "100% (49 of 49) |########################| Elapsed Time: 0:00:23 Time:  0:00:23\n"
          ],
          "name": "stderr"
        },
        {
          "output_type": "stream",
          "text": [
            "Average PER 0.5102831602656612\n",
            "Average loss : 2.0465702402348422\n",
            "-------------------\n",
            "\n",
            "Learning rate reached critical point, Aborting\n",
            "loading best model with CER  0.5076037543920585\n"
          ],
          "name": "stdout"
        }
      ]
    },
    {
      "cell_type": "code",
      "metadata": {
        "id": "fgVxqVDPmbaF",
        "colab_type": "code",
        "colab": {
          "base_uri": "https://localhost:8080/",
          "height": 1000
        },
        "outputId": "afd358b8-dc2a-4448-c834-e5c621360360"
      },
      "source": [
        "import matplotlib.pyplot as plt\n",
        "%matplotlib inline\n",
        "plt.figure(num=None, figsize=(12, 8), dpi=80, facecolor='w', edgecolor='k')\n",
        "\n",
        "x = list(range(len(losses_train)))\n",
        "plt.plot(x,losses_train, label=\"Train loss\")\n",
        "plt.plot(x,losses_val, label=\"Validation loss\")\n",
        "plt.legend(loc=\"upper right\")\n",
        "############################################\n",
        "plt.figure(num=None, figsize=(12, 8), dpi=80, facecolor='w', edgecolor='k')\n",
        "\n",
        "x = list(range(len(cer_val)))\n",
        "plt.plot(x,cer_val, label=\"CER\")\n",
        "plt.legend(loc=\"upper right\")\n"
      ],
      "execution_count": null,
      "outputs": [
        {
          "output_type": "execute_result",
          "data": {
            "text/plain": [
              "<matplotlib.legend.Legend at 0x7f76d06a3438>"
            ]
          },
          "metadata": {
            "tags": []
          },
          "execution_count": 24
        },
        {
          "output_type": "display_data",
          "data": {
            "image/png": "[encoded data removed]",
            "text/plain": [
              "<Figure size 960x640 with 1 Axes>"
            ]
          },
          "metadata": {
            "tags": []
          }
        },
        {
          "output_type": "display_data",
          "data": {
            "image/png": "[encoded data removed]",
            "text/plain": [
              "<Figure size 960x640 with 1 Axes>"
            ]
          },
          "metadata": {
            "tags": []
          }
        }
      ]
    },
    {
      "cell_type": "code",
      "metadata": {
        "id": "A8oxFr1jm17P",
        "colab_type": "code",
        "colab": {
          "base_uri": "https://localhost:8080/",
          "height": 85
        },
        "outputId": "23f890a3-5ead-4520-f72d-e3544f645063"
      },
      "source": [
        " get_cer(data_loader_test_letters,cpc_model,character_classifier)"
      ],
      "execution_count": null,
      "outputs": [
        {
          "output_type": "stream",
          "text": [
            "\r                                                                               \r\rN/A% (0 of 246) |                        | Elapsed Time: 0:00:00 ETA:  --:--:--"
          ],
          "name": "stderr"
        },
        {
          "output_type": "stream",
          "text": [
            "Starting the PER computation through beam search\n"
          ],
          "name": "stdout"
        },
        {
          "output_type": "stream",
          "text": [
            "100% (246 of 246) |######################| Elapsed Time: 0:01:52 Time:  0:01:52\n"
          ],
          "name": "stderr"
        },
        {
          "output_type": "stream",
          "text": [
            "Average PER 0.5109295511557072\n"
          ],
          "name": "stdout"
        },
        {
          "output_type": "execute_result",
          "data": {
            "text/plain": [
              "0.5109295511557072"
            ]
          },
          "metadata": {
            "tags": []
          },
          "execution_count": 25
        }
      ]
    },
    {
      "cell_type": "markdown",
      "metadata": {
        "id": "tzblOmg62CBL",
        "colab_type": "text"
      },
      "source": [
        "# Part 3 : Characters recognition without pre-training\n",
        "\n",
        "Let's estimate the impact of the pre-training by estimating the CER of a model trained from scratch on the labelled dataset."
      ]
    },
    {
      "cell_type": "code",
      "metadata": {
        "id": "Di5b-Sb7LXsx",
        "colab_type": "code",
        "colab": {}
      },
      "source": [
        "import torch.nn.functional as F\n",
        "\n",
        "def train_one_epoch_ctc(cpc_model, \n",
        "                        character_classifier, \n",
        "                        loss_criterion, \n",
        "                        data_loader, \n",
        "                        optimizer):\n",
        "  \n",
        "  cpc_model.train()\n",
        "  loss_criterion.train()\n",
        "\n",
        "  avg_loss = 0\n",
        "  avg_accuracy = 0\n",
        "  n_items = 0\n",
        "  for step, full_data in enumerate(data_loader):\n",
        "\n",
        "    x, x_len, y, y_len = full_data\n",
        "\n",
        "    x_batch_len = x.shape[-1]\n",
        "    x, y = x.to(device), y.to(device)\n",
        "\n",
        "\n",
        "    bs=x.size(0)\n",
        "    optimizer.zero_grad()\n",
        "\n",
        "\n",
        "    context_out, enc_out = cpc_model(x.to(device))\n",
        "\n",
        "    scores = character_classifier(context_out)\n",
        "    scores = scores.permute(1,0,2)\n",
        "    scores = F.log_softmax(scores,2)\n",
        "    yhat_len = torch.tensor([int(scores.shape[0]*x_len[i]/(x_batch_len)) for i in range(scores.shape[1])]) # this is an approximation, should be good enough\n",
        "\n",
        "    #print(yhat_len)\n",
        "    loss = loss_criterion(scores,y.to(device),yhat_len,y_len)\n",
        "\n",
        "    loss.backward()\n",
        "    optimizer.step()\n",
        "    avg_loss+=loss.item()*bs\n",
        "    n_items+=bs\n",
        "  avg_loss/=n_items\n",
        "  return avg_loss\n",
        "\n",
        "def validation_step(cpc_model, \n",
        "                    character_classifier, \n",
        "                    loss_criterion, \n",
        "                    data_loader):\n",
        "\n",
        "  cpc_model.eval()\n",
        "  character_classifier.eval()\n",
        "  avg_loss = 0\n",
        "  avg_accuracy = 0\n",
        "  n_items = 0\n",
        "  with torch.no_grad():\n",
        "    for step, full_data in enumerate(data_loader):\n",
        "\n",
        "      x, x_len, y, y_len = full_data\n",
        "\n",
        "      x_batch_len = x.shape[-1]\n",
        "      x, y = x.to(device), y.to(device)\n",
        "\n",
        "      bs=x.size(0)\n",
        "      context_out, enc_out = cpc_model(x.to(device))\n",
        "    \n",
        "      scores = character_classifier(context_out)\n",
        "      scores = scores.permute(1,0,2)\n",
        "      scores = F.log_softmax(scores,2)\n",
        "      yhat_len = torch.tensor([int(scores.shape[0]*x_len[i]/x_batch_len) for i in range(scores.shape[1])]) # this is an approximation, should be good enough\n",
        "      loss = loss_criterion(scores,y.to(device),yhat_len,y_len)\n",
        "      avg_loss+=loss.item()*bs\n",
        "      n_items+=bs\n",
        "  avg_loss/=n_items\n",
        "\n",
        "  return avg_loss\n",
        "\n",
        "def run_ctc(cpc_model, \n",
        "            character_classifier, \n",
        "            loss_criterion, \n",
        "            data_loader_train, \n",
        "            data_loader_val, \n",
        "            optimizer,\n",
        "            lr_sch,\n",
        "            n_epoch):\n",
        "  losses_train = []\n",
        "  losses_val = []\n",
        "  cer_val = []\n",
        "  best_cer = float(\"inf\")\n",
        "  for epoch in range(n_epoch):\n",
        "\n",
        "    print(f\"Running epoch {epoch + 1} / {n_epoch}\")\n",
        "    loss_train = train_one_epoch_ctc(cpc_model, character_classifier, loss_criterion, data_loader_train, optimizer)\n",
        "    losses_train.append(loss_train)\n",
        "    print(\"-------------------\")\n",
        "    print(f\"Training dataset :\")\n",
        "    print(f\"Average loss : {loss_train}.\")\n",
        "\n",
        "    print(\"-------------------\")\n",
        "    print(\"Validation dataset\")\n",
        "    loss_val = validation_step(cpc_model, character_classifier, loss_criterion, data_loader_val)\n",
        "    losses_val.append(loss_val)\n",
        "    lr_sch.step(loss_val)\n",
        "    cer = get_cer(data_loader_val_letters,cpc_model,character_classifier)\n",
        "    cer_val.append(cer)\n",
        "\n",
        "    if cer<best_cer:\n",
        "      best_cer=cer\n",
        "      save_checkpoint(cpc_model,character_classifier)\n",
        "\n",
        "    print(f\"Average loss : {loss_val}\")\n",
        "    print(\"-------------------\")\n",
        "    print()\n",
        "    if optimizer.param_groups[0]['lr']<1e-7:\n",
        "      print(\"Learning rate reached critical point, Aborting\")\n",
        "      break\n",
        "  print(\"loading best model with CER \",best_cer)\n",
        "  load_checkpoint(cpc_model,character_classifier)\n",
        "  return losses_train,losses_val, cer_val\n",
        "\n"
      ],
      "execution_count": null,
      "outputs": []
    },
    {
      "cell_type": "code",
      "metadata": {
        "id": "5akTrz2jTKj5",
        "colab_type": "code",
        "colab": {}
      },
      "source": [
        "import progressbar\n",
        "from multiprocessing import Pool\n",
        "\n",
        "\n",
        "def get_cer(test_dataloader,\n",
        "            cpc_model,\n",
        "            character_classifier):\n",
        "\n",
        "  downsampling_factor = 1\n",
        "  cpc_model.eval()\n",
        "  character_classifier.eval()\n",
        "\n",
        "  avgCER = 0\n",
        "  nItems = 0\n",
        "\n",
        "  print(\"Starting the CER computation through beam search\")\n",
        "  bar = progressbar.ProgressBar(maxval=len(test_dataloader))\n",
        "  bar.start()\n",
        "\n",
        "  for index, data in enumerate(test_dataloader):\n",
        "\n",
        "    bar.update(index)\n",
        "    with torch.no_grad():\n",
        "        seq, sizeSeq, phone, sizePhone = prepare_data(data)\n",
        "        x_batch_len = seq.shape[-1]\n",
        "        c_feature, _= cpc_model(seq.to(device))\n",
        "        bs = c_feature.size(0)\n",
        "        sizeSeq = sizeSeq / downsampling_factor\n",
        "        predictions = torch.nn.functional.softmax(\n",
        "            character_classifier(c_feature), dim=2\n",
        "            ).cpu()\n",
        "        phone = phone.cpu()\n",
        "        sizeSeq = sizeSeq.cpu()\n",
        "        sizePhone = sizePhone.cpu()\n",
        "        # print(\"predictions\",predictions.argmax(2)[0])\n",
        "        # print(phone[0])\n",
        "        \n",
        "        seq_len = torch.tensor([int(predictions.shape[1]*sizeSeq[i]/(x_batch_len)) for i in range(predictions.shape[0])]) # this is an approximation, should be good enough\n",
        "        #print(seq_len)\n",
        "        decoder = CTCBeamDecoder(chars, log_probs_input=False,blank_id=0,beam_width=40,cutoff_top_n=40,model_path=\"/content/wiki_00.lm.arpa\")\n",
        "        output, scores, timesteps, out_seq_len = decoder.decode(predictions, seq_lens=seq_len)\n",
        "        \n",
        "        output=output[torch.arange(bs),scores.argmax(1),:]\n",
        "        out_seq_len= out_seq_len[torch.arange(bs),scores.argmax(1)]\n",
        "        data_cer = []\n",
        "        for b in range(bs):\n",
        "          #print(sizePhone[b],out_seq_len[b])\n",
        "          data_cer.append((phone[b][:sizePhone[b].item()],output[b][:out_seq_len[b].item()]))\n",
        "          \n",
        "        #data_cer = [(predictions[b].argmax(1),  phone[b]) for b in range(bs)]\n",
        "        # data_cer = [(predictions[b], sizeSeq[b], phone[b], sizePhone[b],\n",
        "        #               \"criterion.module.BLANK_LABEL\") for b in range(bs)]\n",
        "        with Pool(bs) as p:\n",
        "            poolData = p.starmap(get_CER_sequence, data_cer)\n",
        "        avgCER += sum([x for x in poolData])\n",
        "        nItems += len(poolData)\n",
        "\n",
        "  bar.finish()\n",
        "\n",
        "  avgCER /= nItems\n",
        "\n",
        "  print(f\"Average CER {avgCER}\")\n",
        "  return avgCER\n"
      ],
      "execution_count": null,
      "outputs": []
    },
    {
      "cell_type": "markdown",
      "metadata": {
        "id": "2covbE--2dX9",
        "colab_type": "text"
      },
      "source": [
        "## Exercice 1: training from scratch on the labelled dataset\n",
        "\n",
        "What kind of performance will you get if you try to launch the fine-tuning without pre-training ? Check out the PER and the CER of ```cpc_non_pre_trained``` below."
      ]
    },
    {
      "cell_type": "code",
      "metadata": {
        "id": "eJjsokAKp3hF",
        "colab_type": "code",
        "colab": {}
      },
      "source": [
        "torch.manual_seed(0)\n",
        "encoder =  CPCEncoder(DIM_ENCODER).to(device)\n",
        "context = CPCAR(DIM_ENCODER, DIM_CONTEXT, KEEP_HIDDEN_VECTOR, N_LEVELS_CONTEXT, mode=CONTEXT_RNN).to(device)\n",
        "cpc_non_pre_trained = CPCModel(encoder, context).to(device)"
      ],
      "execution_count": null,
      "outputs": []
    },
    {
      "cell_type": "code",
      "metadata": {
        "id": "ELGL4N2Uo5hj",
        "colab_type": "code",
        "colab": {}
      },
      "source": [
        "torch.manual_seed(0)\n",
        "\n",
        "character_classifier = CharacterClassifier(DIM_CONTEXT, N_LETTERS).to(device)\n",
        "parameters = list(character_classifier.parameters()) + list(cpc_non_pre_trained.parameters())\n",
        "LEARNING_RATE = 2e-4\n",
        "optimizer = torch.optim.Adam(parameters, lr=LEARNING_RATE)\n",
        "lr_sch = ReduceLROnPlateau(optimizer,factor=0.2,patience=5,verbose=True)\n"
      ],
      "execution_count": null,
      "outputs": []
    },
    {
      "cell_type": "code",
      "metadata": {
        "id": "a2sm39XYM8Qc",
        "colab_type": "code",
        "colab": {}
      },
      "source": [
        "loss_ctc = torch.nn.CTCLoss()"
      ],
      "execution_count": null,
      "outputs": []
    },
    {
      "cell_type": "code",
      "metadata": {
        "id": "CfEq2H2Rplsy",
        "colab_type": "code",
        "colab": {
          "base_uri": "https://localhost:8080/",
          "height": 1000
        },
        "outputId": "5620f0b4-d408-454f-fc64-a0630d3d32c0"
      },
      "source": [
        "losses_train, losses_val, cer_val = run_ctc(cpc_non_pre_trained,character_classifier,loss_ctc,data_loader_train_letters,data_loader_val_letters,optimizer,lr_sch,n_epoch=80)"
      ],
      "execution_count": null,
      "outputs": [
        {
          "output_type": "stream",
          "text": [
            "Running epoch 1 / 80\n",
            "-------------------\n",
            "Training dataset :\n",
            "Average loss : 4.404074208427022.\n",
            "-------------------\n",
            "Validation dataset\n"
          ],
          "name": "stdout"
        },
        {
          "output_type": "stream",
          "text": [
            "\r                                                                               \r\rN/A% (0 of 49) |                         | Elapsed Time: 0:00:00 ETA:  --:--:--"
          ],
          "name": "stderr"
        },
        {
          "output_type": "stream",
          "text": [
            "Starting the PER computation through beam search\n"
          ],
          "name": "stdout"
        },
        {
          "output_type": "stream",
          "text": [
            "100% (49 of 49) |########################| Elapsed Time: 0:00:17 Time:  0:00:17\n"
          ],
          "name": "stderr"
        },
        {
          "output_type": "stream",
          "text": [
            "Average PER 0.9982150846476887\n",
            "Average loss : 3.093962085490324\n",
            "-------------------\n",
            "\n",
            "Running epoch 2 / 80\n",
            "-------------------\n",
            "Training dataset :\n",
            "Average loss : 3.087206333951489.\n",
            "-------------------\n",
            "Validation dataset\n"
          ],
          "name": "stdout"
        },
        {
          "output_type": "stream",
          "text": [
            "\r                                                                               \r\rN/A% (0 of 49) |                         | Elapsed Time: 0:00:00 ETA:  --:--:--"
          ],
          "name": "stderr"
        },
        {
          "output_type": "stream",
          "text": [
            "Starting the PER computation through beam search\n"
          ],
          "name": "stdout"
        },
        {
          "output_type": "stream",
          "text": [
            "100% (49 of 49) |########################| Elapsed Time: 0:00:17 Time:  0:00:17\n"
          ],
          "name": "stderr"
        },
        {
          "output_type": "stream",
          "text": [
            "Average PER 0.9984565439737119\n",
            "Average loss : 3.086947523817724\n",
            "-------------------\n",
            "\n",
            "Running epoch 3 / 80\n",
            "-------------------\n",
            "Training dataset :\n",
            "Average loss : 3.082631982919824.\n",
            "-------------------\n",
            "Validation dataset\n"
          ],
          "name": "stdout"
        },
        {
          "output_type": "stream",
          "text": [
            "\r                                                                               \r\rN/A% (0 of 49) |                         | Elapsed Time: 0:00:00 ETA:  --:--:--"
          ],
          "name": "stderr"
        },
        {
          "output_type": "stream",
          "text": [
            "Starting the PER computation through beam search\n"
          ],
          "name": "stdout"
        },
        {
          "output_type": "stream",
          "text": [
            "100% (49 of 49) |########################| Elapsed Time: 0:00:17 Time:  0:00:17\n"
          ],
          "name": "stderr"
        },
        {
          "output_type": "stream",
          "text": [
            "Average PER 0.9987556402543825\n",
            "Average loss : 3.077086507057657\n",
            "-------------------\n",
            "\n",
            "Running epoch 4 / 80\n",
            "-------------------\n",
            "Training dataset :\n",
            "Average loss : 3.0804045958676713.\n",
            "-------------------\n",
            "Validation dataset\n"
          ],
          "name": "stdout"
        },
        {
          "output_type": "stream",
          "text": [
            "\r                                                                               \r\rN/A% (0 of 49) |                         | Elapsed Time: 0:00:00 ETA:  --:--:--"
          ],
          "name": "stderr"
        },
        {
          "output_type": "stream",
          "text": [
            "Starting the PER computation through beam search\n"
          ],
          "name": "stdout"
        },
        {
          "output_type": "stream",
          "text": [
            "100% (49 of 49) |########################| Elapsed Time: 0:00:17 Time:  0:00:17\n"
          ],
          "name": "stderr"
        },
        {
          "output_type": "stream",
          "text": [
            "Average PER 0.9966207089019681\n",
            "Average loss : 3.088796566943733\n",
            "-------------------\n",
            "\n",
            "Running epoch 5 / 80\n",
            "-------------------\n",
            "Training dataset :\n",
            "Average loss : 3.0801538468620553.\n",
            "-------------------\n",
            "Validation dataset\n"
          ],
          "name": "stdout"
        },
        {
          "output_type": "stream",
          "text": [
            "\r                                                                               \r\rN/A% (0 of 49) |                         | Elapsed Time: 0:00:00 ETA:  --:--:--"
          ],
          "name": "stderr"
        },
        {
          "output_type": "stream",
          "text": [
            "Starting the PER computation through beam search\n"
          ],
          "name": "stdout"
        },
        {
          "output_type": "stream",
          "text": [
            "100% (49 of 49) |########################| Elapsed Time: 0:00:17 Time:  0:00:17\n"
          ],
          "name": "stderr"
        },
        {
          "output_type": "stream",
          "text": [
            "Average PER 0.9777779102486499\n",
            "Average loss : 3.0713859480254504\n",
            "-------------------\n",
            "\n",
            "Running epoch 6 / 80\n",
            "-------------------\n",
            "Training dataset :\n",
            "Average loss : 3.078028620047727.\n",
            "-------------------\n",
            "Validation dataset\n"
          ],
          "name": "stdout"
        },
        {
          "output_type": "stream",
          "text": [
            "\r                                                                               \r\rN/A% (0 of 49) |                         | Elapsed Time: 0:00:00 ETA:  --:--:--"
          ],
          "name": "stderr"
        },
        {
          "output_type": "stream",
          "text": [
            "Starting the PER computation through beam search\n"
          ],
          "name": "stdout"
        },
        {
          "output_type": "stream",
          "text": [
            "100% (49 of 49) |########################| Elapsed Time: 0:00:17 Time:  0:00:17\n"
          ],
          "name": "stderr"
        },
        {
          "output_type": "stream",
          "text": [
            "Average PER 0.9922828569607275\n",
            "Average loss : 3.0682941602200877\n",
            "-------------------\n",
            "\n",
            "Running epoch 7 / 80\n",
            "-------------------\n",
            "Training dataset :\n",
            "Average loss : 3.0763775010145347.\n",
            "-------------------\n",
            "Validation dataset\n"
          ],
          "name": "stdout"
        },
        {
          "output_type": "stream",
          "text": [
            "\r                                                                               \r\rN/A% (0 of 49) |                         | Elapsed Time: 0:00:00 ETA:  --:--:--"
          ],
          "name": "stderr"
        },
        {
          "output_type": "stream",
          "text": [
            "Starting the PER computation through beam search\n"
          ],
          "name": "stdout"
        },
        {
          "output_type": "stream",
          "text": [
            "100% (49 of 49) |########################| Elapsed Time: 0:00:17 Time:  0:00:17\n"
          ],
          "name": "stderr"
        },
        {
          "output_type": "stream",
          "text": [
            "Average PER 0.9788174109342818\n",
            "Average loss : 3.0710537725565383\n",
            "-------------------\n",
            "\n",
            "Running epoch 8 / 80\n",
            "-------------------\n",
            "Training dataset :\n",
            "Average loss : 3.0765622183870116.\n",
            "-------------------\n",
            "Validation dataset\n"
          ],
          "name": "stdout"
        },
        {
          "output_type": "stream",
          "text": [
            "\r                                                                               \r\rN/A% (0 of 49) |                         | Elapsed Time: 0:00:00 ETA:  --:--:--"
          ],
          "name": "stderr"
        },
        {
          "output_type": "stream",
          "text": [
            "Starting the PER computation through beam search\n"
          ],
          "name": "stdout"
        },
        {
          "output_type": "stream",
          "text": [
            "100% (49 of 49) |########################| Elapsed Time: 0:00:17 Time:  0:00:17\n"
          ],
          "name": "stderr"
        },
        {
          "output_type": "stream",
          "text": [
            "Average PER 0.9800597309597725\n",
            "Average loss : 3.071622595495107\n",
            "-------------------\n",
            "\n",
            "Running epoch 9 / 80\n",
            "-------------------\n",
            "Training dataset :\n",
            "Average loss : 3.0748904515768736.\n",
            "-------------------\n",
            "Validation dataset\n"
          ],
          "name": "stdout"
        },
        {
          "output_type": "stream",
          "text": [
            "\r                                                                               \r\rN/A% (0 of 49) |                         | Elapsed Time: 0:00:00 ETA:  --:--:--"
          ],
          "name": "stderr"
        },
        {
          "output_type": "stream",
          "text": [
            "Starting the PER computation through beam search\n"
          ],
          "name": "stdout"
        },
        {
          "output_type": "stream",
          "text": [
            "100% (49 of 49) |########################| Elapsed Time: 0:00:17 Time:  0:00:17\n"
          ],
          "name": "stderr"
        },
        {
          "output_type": "stream",
          "text": [
            "Average PER 0.9774777902006306\n",
            "Average loss : 3.070797633151619\n",
            "-------------------\n",
            "\n",
            "Running epoch 10 / 80\n",
            "-------------------\n",
            "Training dataset :\n",
            "Average loss : 3.0749020606810205.\n",
            "-------------------\n",
            "Validation dataset\n"
          ],
          "name": "stdout"
        },
        {
          "output_type": "stream",
          "text": [
            "\r                                                                               \r\rN/A% (0 of 49) |                         | Elapsed Time: 0:00:00 ETA:  --:--:--"
          ],
          "name": "stderr"
        },
        {
          "output_type": "stream",
          "text": [
            "Starting the PER computation through beam search\n"
          ],
          "name": "stdout"
        },
        {
          "output_type": "stream",
          "text": [
            "100% (49 of 49) |########################| Elapsed Time: 0:00:17 Time:  0:00:17\n"
          ],
          "name": "stderr"
        },
        {
          "output_type": "stream",
          "text": [
            "Average PER 0.9779268014666391\n",
            "Average loss : 3.0685266767229353\n",
            "-------------------\n",
            "\n",
            "Running epoch 11 / 80\n",
            "-------------------\n",
            "Training dataset :\n",
            "Average loss : 3.074733717144294.\n",
            "-------------------\n",
            "Validation dataset\n"
          ],
          "name": "stdout"
        },
        {
          "output_type": "stream",
          "text": [
            "\r                                                                               \r\rN/A% (0 of 49) |                         | Elapsed Time: 0:00:00 ETA:  --:--:--"
          ],
          "name": "stderr"
        },
        {
          "output_type": "stream",
          "text": [
            "Starting the PER computation through beam search\n"
          ],
          "name": "stdout"
        },
        {
          "output_type": "stream",
          "text": [
            "100% (49 of 49) |########################| Elapsed Time: 0:00:17 Time:  0:00:17\n"
          ],
          "name": "stderr"
        },
        {
          "output_type": "stream",
          "text": [
            "Average PER 0.9638681644695457\n",
            "Average loss : 3.069655009678432\n",
            "-------------------\n",
            "\n",
            "Running epoch 12 / 80\n",
            "-------------------\n",
            "Training dataset :\n",
            "Average loss : 3.0740771178374158.\n",
            "-------------------\n",
            "Validation dataset\n"
          ],
          "name": "stdout"
        },
        {
          "output_type": "stream",
          "text": [
            "\r                                                                               \r\rN/A% (0 of 49) |                         | Elapsed Time: 0:00:00 ETA:  --:--:--"
          ],
          "name": "stderr"
        },
        {
          "output_type": "stream",
          "text": [
            "Epoch    12: reducing learning rate of group 0 to 4.0000e-05.\n",
            "Starting the PER computation through beam search\n"
          ],
          "name": "stdout"
        },
        {
          "output_type": "stream",
          "text": [
            "100% (49 of 49) |########################| Elapsed Time: 0:00:17 Time:  0:00:17\n"
          ],
          "name": "stderr"
        },
        {
          "output_type": "stream",
          "text": [
            "Average PER 0.9777779102486499\n",
            "Average loss : 3.068122674007805\n",
            "-------------------\n",
            "\n",
            "Running epoch 13 / 80\n",
            "-------------------\n",
            "Training dataset :\n",
            "Average loss : 3.070271734669615.\n",
            "-------------------\n",
            "Validation dataset\n"
          ],
          "name": "stdout"
        },
        {
          "output_type": "stream",
          "text": [
            "\r                                                                               \r\rN/A% (0 of 49) |                         | Elapsed Time: 0:00:00 ETA:  --:--:--"
          ],
          "name": "stderr"
        },
        {
          "output_type": "stream",
          "text": [
            "Starting the PER computation through beam search\n"
          ],
          "name": "stdout"
        },
        {
          "output_type": "stream",
          "text": [
            "100% (49 of 49) |########################| Elapsed Time: 0:00:17 Time:  0:00:17\n"
          ],
          "name": "stderr"
        },
        {
          "output_type": "stream",
          "text": [
            "Average PER 0.9765538177653549\n",
            "Average loss : 3.0657791020918865\n",
            "-------------------\n",
            "\n",
            "Running epoch 14 / 80\n",
            "-------------------\n",
            "Training dataset :\n",
            "Average loss : 3.0691272108306107.\n",
            "-------------------\n",
            "Validation dataset\n"
          ],
          "name": "stdout"
        },
        {
          "output_type": "stream",
          "text": [
            "\r                                                                               \r\rN/A% (0 of 49) |                         | Elapsed Time: 0:00:00 ETA:  --:--:--"
          ],
          "name": "stderr"
        },
        {
          "output_type": "stream",
          "text": [
            "Starting the PER computation through beam search\n"
          ],
          "name": "stdout"
        },
        {
          "output_type": "stream",
          "text": [
            "100% (49 of 49) |########################| Elapsed Time: 0:00:17 Time:  0:00:17\n"
          ],
          "name": "stderr"
        },
        {
          "output_type": "stream",
          "text": [
            "Average PER 0.9777676321648135\n",
            "Average loss : 3.0657911738570855\n",
            "-------------------\n",
            "\n",
            "Running epoch 15 / 80\n",
            "-------------------\n",
            "Training dataset :\n",
            "Average loss : 3.068876929562207.\n",
            "-------------------\n",
            "Validation dataset\n"
          ],
          "name": "stdout"
        },
        {
          "output_type": "stream",
          "text": [
            "\r                                                                               \r\rN/A% (0 of 49) |                         | Elapsed Time: 0:00:00 ETA:  --:--:--"
          ],
          "name": "stderr"
        },
        {
          "output_type": "stream",
          "text": [
            "Starting the PER computation through beam search\n"
          ],
          "name": "stdout"
        },
        {
          "output_type": "stream",
          "text": [
            "100% (49 of 49) |########################| Elapsed Time: 0:00:17 Time:  0:00:17\n"
          ],
          "name": "stderr"
        },
        {
          "output_type": "stream",
          "text": [
            "Average PER 0.976653408442712\n",
            "Average loss : 3.066075563430786\n",
            "-------------------\n",
            "\n",
            "Running epoch 16 / 80\n",
            "-------------------\n",
            "Training dataset :\n",
            "Average loss : 3.0693972116814923.\n",
            "-------------------\n",
            "Validation dataset\n"
          ],
          "name": "stdout"
        },
        {
          "output_type": "stream",
          "text": [
            "\r                                                                               \r\rN/A% (0 of 49) |                         | Elapsed Time: 0:00:00 ETA:  --:--:--"
          ],
          "name": "stderr"
        },
        {
          "output_type": "stream",
          "text": [
            "Starting the PER computation through beam search\n"
          ],
          "name": "stdout"
        },
        {
          "output_type": "stream",
          "text": [
            "100% (49 of 49) |########################| Elapsed Time: 0:00:17 Time:  0:00:17\n"
          ],
          "name": "stderr"
        },
        {
          "output_type": "stream",
          "text": [
            "Average PER 0.9769057208770807\n",
            "Average loss : 3.0668799682539336\n",
            "-------------------\n",
            "\n",
            "Running epoch 17 / 80\n",
            "-------------------\n",
            "Training dataset :\n",
            "Average loss : 3.068482858230746.\n",
            "-------------------\n",
            "Validation dataset\n"
          ],
          "name": "stdout"
        },
        {
          "output_type": "stream",
          "text": [
            "\r                                                                               \r\rN/A% (0 of 49) |                         | Elapsed Time: 0:00:00 ETA:  --:--:--"
          ],
          "name": "stderr"
        },
        {
          "output_type": "stream",
          "text": [
            "Starting the PER computation through beam search\n"
          ],
          "name": "stdout"
        },
        {
          "output_type": "stream",
          "text": [
            "100% (49 of 49) |########################| Elapsed Time: 0:00:17 Time:  0:00:17\n"
          ],
          "name": "stderr"
        },
        {
          "output_type": "stream",
          "text": [
            "Average PER 0.9823387892594558\n",
            "Average loss : 3.06682867419963\n",
            "-------------------\n",
            "\n",
            "Running epoch 18 / 80\n",
            "-------------------\n",
            "Training dataset :\n",
            "Average loss : 3.0689936776197593.\n",
            "-------------------\n",
            "Validation dataset\n"
          ],
          "name": "stdout"
        },
        {
          "output_type": "stream",
          "text": [
            "\r                                                                               \r\rN/A% (0 of 49) |                         | Elapsed Time: 0:00:00 ETA:  --:--:--"
          ],
          "name": "stderr"
        },
        {
          "output_type": "stream",
          "text": [
            "Starting the PER computation through beam search\n"
          ],
          "name": "stdout"
        },
        {
          "output_type": "stream",
          "text": [
            "100% (49 of 49) |########################| Elapsed Time: 0:00:17 Time:  0:00:17\n"
          ],
          "name": "stderr"
        },
        {
          "output_type": "stream",
          "text": [
            "Average PER 0.9821990073192826\n",
            "Average loss : 3.0657505161908207\n",
            "-------------------\n",
            "\n",
            "Running epoch 19 / 80\n",
            "-------------------\n",
            "Training dataset :\n",
            "Average loss : 3.068692815212803.\n",
            "-------------------\n",
            "Validation dataset\n"
          ],
          "name": "stdout"
        },
        {
          "output_type": "stream",
          "text": [
            "\r                                                                               \r\rN/A% (0 of 49) |                         | Elapsed Time: 0:00:00 ETA:  --:--:--"
          ],
          "name": "stderr"
        },
        {
          "output_type": "stream",
          "text": [
            "Starting the PER computation through beam search\n"
          ],
          "name": "stdout"
        },
        {
          "output_type": "stream",
          "text": [
            "100% (49 of 49) |########################| Elapsed Time: 0:00:17 Time:  0:00:17\n"
          ],
          "name": "stderr"
        },
        {
          "output_type": "stream",
          "text": [
            "Average PER 0.9897754930677048\n",
            "Average loss : 3.0654317262221356\n",
            "-------------------\n",
            "\n",
            "Running epoch 20 / 80\n",
            "-------------------\n",
            "Training dataset :\n",
            "Average loss : 3.068614817757643.\n",
            "-------------------\n",
            "Validation dataset\n"
          ],
          "name": "stdout"
        },
        {
          "output_type": "stream",
          "text": [
            "\r                                                                               \r\rN/A% (0 of 49) |                         | Elapsed Time: 0:00:00 ETA:  --:--:--"
          ],
          "name": "stderr"
        },
        {
          "output_type": "stream",
          "text": [
            "Starting the PER computation through beam search\n"
          ],
          "name": "stdout"
        },
        {
          "output_type": "stream",
          "text": [
            "100% (49 of 49) |########################| Elapsed Time: 0:00:17 Time:  0:00:17\n"
          ],
          "name": "stderr"
        },
        {
          "output_type": "stream",
          "text": [
            "Average PER 0.9751236367544506\n",
            "Average loss : 3.0657689425410055\n",
            "-------------------\n",
            "\n",
            "Running epoch 21 / 80\n",
            "-------------------\n",
            "Training dataset :\n",
            "Average loss : 3.0680479451293556.\n",
            "-------------------\n",
            "Validation dataset\n"
          ],
          "name": "stdout"
        },
        {
          "output_type": "stream",
          "text": [
            "\r                                                                               \r\rN/A% (0 of 49) |                         | Elapsed Time: 0:00:00 ETA:  --:--:--"
          ],
          "name": "stderr"
        },
        {
          "output_type": "stream",
          "text": [
            "Starting the PER computation through beam search\n"
          ],
          "name": "stdout"
        },
        {
          "output_type": "stream",
          "text": [
            "100% (49 of 49) |########################| Elapsed Time: 0:00:17 Time:  0:00:17\n"
          ],
          "name": "stderr"
        },
        {
          "output_type": "stream",
          "text": [
            "Average PER 0.9880083641297102\n",
            "Average loss : 3.0666614162678623\n",
            "-------------------\n",
            "\n",
            "Running epoch 22 / 80\n",
            "-------------------\n",
            "Training dataset :\n",
            "Average loss : 3.0682797977942546.\n",
            "-------------------\n",
            "Validation dataset\n"
          ],
          "name": "stdout"
        },
        {
          "output_type": "stream",
          "text": [
            "\r                                                                               \r\rN/A% (0 of 49) |                         | Elapsed Time: 0:00:00 ETA:  --:--:--"
          ],
          "name": "stderr"
        },
        {
          "output_type": "stream",
          "text": [
            "Starting the PER computation through beam search\n"
          ],
          "name": "stdout"
        },
        {
          "output_type": "stream",
          "text": [
            "100% (49 of 49) |########################| Elapsed Time: 0:00:17 Time:  0:00:17\n"
          ],
          "name": "stderr"
        },
        {
          "output_type": "stream",
          "text": [
            "Average PER 0.9897652149838686\n",
            "Average loss : 3.067145668730444\n",
            "-------------------\n",
            "\n",
            "Running epoch 23 / 80\n",
            "-------------------\n",
            "Training dataset :\n",
            "Average loss : 3.068328156726051.\n",
            "-------------------\n",
            "Validation dataset\n"
          ],
          "name": "stdout"
        },
        {
          "output_type": "stream",
          "text": [
            "\r                                                                               \r\rN/A% (0 of 49) |                         | Elapsed Time: 0:00:00 ETA:  --:--:--"
          ],
          "name": "stderr"
        },
        {
          "output_type": "stream",
          "text": [
            "Starting the PER computation through beam search\n"
          ],
          "name": "stdout"
        },
        {
          "output_type": "stream",
          "text": [
            "100% (49 of 49) |########################| Elapsed Time: 0:00:17 Time:  0:00:17\n"
          ],
          "name": "stderr"
        },
        {
          "output_type": "stream",
          "text": [
            "Average PER 0.977272365405858\n",
            "Average loss : 3.0669882784084397\n",
            "-------------------\n",
            "\n",
            "Running epoch 24 / 80\n",
            "-------------------\n",
            "Training dataset :\n",
            "Average loss : 3.068202987578686.\n",
            "-------------------\n",
            "Validation dataset\n"
          ],
          "name": "stdout"
        },
        {
          "output_type": "stream",
          "text": [
            "\r                                                                               \r\rN/A% (0 of 49) |                         | Elapsed Time: 0:00:00 ETA:  --:--:--"
          ],
          "name": "stderr"
        },
        {
          "output_type": "stream",
          "text": [
            "Starting the PER computation through beam search\n"
          ],
          "name": "stdout"
        },
        {
          "output_type": "stream",
          "text": [
            "100% (49 of 49) |########################| Elapsed Time: 0:00:17 Time:  0:00:17\n"
          ],
          "name": "stderr"
        },
        {
          "output_type": "stream",
          "text": [
            "Average PER 0.9750529300634245\n",
            "Average loss : 3.0665046779476866\n",
            "-------------------\n",
            "\n",
            "Running epoch 25 / 80\n",
            "-------------------\n",
            "Training dataset :\n",
            "Average loss : 3.0682208453122595.\n",
            "-------------------\n",
            "Validation dataset\n"
          ],
          "name": "stdout"
        },
        {
          "output_type": "stream",
          "text": [
            "\r                                                                               \r\rN/A% (0 of 49) |                         | Elapsed Time: 0:00:00 ETA:  --:--:--"
          ],
          "name": "stderr"
        },
        {
          "output_type": "stream",
          "text": [
            "Epoch    25: reducing learning rate of group 0 to 8.0000e-06.\n",
            "Starting the PER computation through beam search\n"
          ],
          "name": "stdout"
        },
        {
          "output_type": "stream",
          "text": [
            "100% (49 of 49) |########################| Elapsed Time: 0:00:17 Time:  0:00:17\n"
          ],
          "name": "stderr"
        },
        {
          "output_type": "stream",
          "text": [
            "Average PER 0.9785072892848254\n",
            "Average loss : 3.0665972476102867\n",
            "-------------------\n",
            "\n",
            "Running epoch 26 / 80\n",
            "-------------------\n",
            "Training dataset :\n",
            "Average loss : 3.066971646010421.\n",
            "-------------------\n",
            "Validation dataset\n"
          ],
          "name": "stdout"
        },
        {
          "output_type": "stream",
          "text": [
            "\r                                                                               \r\rN/A% (0 of 49) |                         | Elapsed Time: 0:00:00 ETA:  --:--:--"
          ],
          "name": "stderr"
        },
        {
          "output_type": "stream",
          "text": [
            "Starting the PER computation through beam search\n"
          ],
          "name": "stdout"
        },
        {
          "output_type": "stream",
          "text": [
            "100% (49 of 49) |########################| Elapsed Time: 0:00:17 Time:  0:00:17\n"
          ],
          "name": "stderr"
        },
        {
          "output_type": "stream",
          "text": [
            "Average PER 0.978631729304736\n",
            "Average loss : 3.0652760632184086\n",
            "-------------------\n",
            "\n",
            "Running epoch 27 / 80\n",
            "-------------------\n",
            "Training dataset :\n",
            "Average loss : 3.0667915890235027.\n",
            "-------------------\n",
            "Validation dataset\n"
          ],
          "name": "stdout"
        },
        {
          "output_type": "stream",
          "text": [
            "\r                                                                               \r\rN/A% (0 of 49) |                         | Elapsed Time: 0:00:00 ETA:  --:--:--"
          ],
          "name": "stderr"
        },
        {
          "output_type": "stream",
          "text": [
            "Starting the PER computation through beam search\n"
          ],
          "name": "stdout"
        },
        {
          "output_type": "stream",
          "text": [
            "100% (49 of 49) |########################| Elapsed Time: 0:00:17 Time:  0:00:17\n"
          ],
          "name": "stderr"
        },
        {
          "output_type": "stream",
          "text": [
            "Average PER 0.978631729304736\n",
            "Average loss : 3.0652575152260915\n",
            "-------------------\n",
            "\n",
            "Running epoch 28 / 80\n",
            "-------------------\n",
            "Training dataset :\n",
            "Average loss : 3.0667422127177697.\n",
            "-------------------\n",
            "Validation dataset\n"
          ],
          "name": "stdout"
        },
        {
          "output_type": "stream",
          "text": [
            "\r                                                                               \r\rN/A% (0 of 49) |                         | Elapsed Time: 0:00:00 ETA:  --:--:--"
          ],
          "name": "stderr"
        },
        {
          "output_type": "stream",
          "text": [
            "Starting the PER computation through beam search\n"
          ],
          "name": "stdout"
        },
        {
          "output_type": "stream",
          "text": [
            "100% (49 of 49) |########################| Elapsed Time: 0:00:17 Time:  0:00:17\n"
          ],
          "name": "stderr"
        },
        {
          "output_type": "stream",
          "text": [
            "Average PER 0.9654850110290971\n",
            "Average loss : 3.065753289631435\n",
            "-------------------\n",
            "\n",
            "Running epoch 29 / 80\n",
            "-------------------\n",
            "Training dataset :\n",
            "Average loss : 3.0666920877898316.\n",
            "-------------------\n",
            "Validation dataset\n"
          ],
          "name": "stdout"
        },
        {
          "output_type": "stream",
          "text": [
            "\r                                                                               \r\rN/A% (0 of 49) |                         | Elapsed Time: 0:00:00 ETA:  --:--:--"
          ],
          "name": "stderr"
        },
        {
          "output_type": "stream",
          "text": [
            "Starting the PER computation through beam search\n"
          ],
          "name": "stdout"
        },
        {
          "output_type": "stream",
          "text": [
            "100% (49 of 49) |########################| Elapsed Time: 0:00:17 Time:  0:00:17\n"
          ],
          "name": "stderr"
        },
        {
          "output_type": "stream",
          "text": [
            "Average PER 0.965645349136943\n",
            "Average loss : 3.0653879642486572\n",
            "-------------------\n",
            "\n",
            "Running epoch 30 / 80\n",
            "-------------------\n",
            "Training dataset :\n",
            "Average loss : 3.066664957818184.\n",
            "-------------------\n",
            "Validation dataset\n"
          ],
          "name": "stdout"
        },
        {
          "output_type": "stream",
          "text": [
            "\r                                                                               \r\rN/A% (0 of 49) |                         | Elapsed Time: 0:00:00 ETA:  --:--:--"
          ],
          "name": "stderr"
        },
        {
          "output_type": "stream",
          "text": [
            "Starting the PER computation through beam search\n"
          ],
          "name": "stdout"
        },
        {
          "output_type": "stream",
          "text": [
            "100% (49 of 49) |########################| Elapsed Time: 0:00:17 Time:  0:00:17\n"
          ],
          "name": "stderr"
        },
        {
          "output_type": "stream",
          "text": [
            "Average PER 0.9756766906132259\n",
            "Average loss : 3.06523119673437\n",
            "-------------------\n",
            "\n",
            "Running epoch 31 / 80\n",
            "-------------------\n",
            "Training dataset :\n",
            "Average loss : 3.066651133180575.\n",
            "-------------------\n",
            "Validation dataset\n"
          ],
          "name": "stdout"
        },
        {
          "output_type": "stream",
          "text": [
            "\r                                                                               \r\rN/A% (0 of 49) |                         | Elapsed Time: 0:00:00 ETA:  --:--:--"
          ],
          "name": "stderr"
        },
        {
          "output_type": "stream",
          "text": [
            "Epoch    31: reducing learning rate of group 0 to 1.6000e-06.\n",
            "Starting the PER computation through beam search\n"
          ],
          "name": "stdout"
        },
        {
          "output_type": "stream",
          "text": [
            "100% (49 of 49) |########################| Elapsed Time: 0:00:17 Time:  0:00:17\n"
          ],
          "name": "stderr"
        },
        {
          "output_type": "stream",
          "text": [
            "Average PER 0.9752521305452962\n",
            "Average loss : 3.065220448435569\n",
            "-------------------\n",
            "\n",
            "Running epoch 32 / 80\n",
            "-------------------\n",
            "Training dataset :\n",
            "Average loss : 3.0662821467596157.\n",
            "-------------------\n",
            "Validation dataset\n"
          ],
          "name": "stdout"
        },
        {
          "output_type": "stream",
          "text": [
            "\r                                                                               \r\rN/A% (0 of 49) |                         | Elapsed Time: 0:00:00 ETA:  --:--:--"
          ],
          "name": "stderr"
        },
        {
          "output_type": "stream",
          "text": [
            "Starting the PER computation through beam search\n"
          ],
          "name": "stdout"
        },
        {
          "output_type": "stream",
          "text": [
            "100% (49 of 49) |########################| Elapsed Time: 0:00:17 Time:  0:00:17\n"
          ],
          "name": "stderr"
        },
        {
          "output_type": "stream",
          "text": [
            "Average PER 0.9752521305452962\n",
            "Average loss : 3.0653343589938418\n",
            "-------------------\n",
            "\n",
            "Running epoch 33 / 80\n",
            "-------------------\n",
            "Training dataset :\n",
            "Average loss : 3.0662613084904717.\n",
            "-------------------\n",
            "Validation dataset\n"
          ],
          "name": "stdout"
        },
        {
          "output_type": "stream",
          "text": [
            "\r                                                                               \r\rN/A% (0 of 49) |                         | Elapsed Time: 0:00:00 ETA:  --:--:--"
          ],
          "name": "stderr"
        },
        {
          "output_type": "stream",
          "text": [
            "Starting the PER computation through beam search\n"
          ],
          "name": "stdout"
        },
        {
          "output_type": "stream",
          "text": [
            "100% (49 of 49) |########################| Elapsed Time: 0:00:17 Time:  0:00:17\n"
          ],
          "name": "stderr"
        },
        {
          "output_type": "stream",
          "text": [
            "Average PER 0.9752521305452962\n",
            "Average loss : 3.065361431666783\n",
            "-------------------\n",
            "\n",
            "Running epoch 34 / 80\n",
            "-------------------\n",
            "Training dataset :\n",
            "Average loss : 3.0662558175831958.\n",
            "-------------------\n",
            "Validation dataset\n"
          ],
          "name": "stdout"
        },
        {
          "output_type": "stream",
          "text": [
            "\r                                                                               \r\rN/A% (0 of 49) |                         | Elapsed Time: 0:00:00 ETA:  --:--:--"
          ],
          "name": "stderr"
        },
        {
          "output_type": "stream",
          "text": [
            "Starting the PER computation through beam search\n"
          ],
          "name": "stdout"
        },
        {
          "output_type": "stream",
          "text": [
            "100% (49 of 49) |########################| Elapsed Time: 0:00:17 Time:  0:00:17\n"
          ],
          "name": "stderr"
        },
        {
          "output_type": "stream",
          "text": [
            "Average PER 0.9752521305452962\n",
            "Average loss : 3.065369985541519\n",
            "-------------------\n",
            "\n",
            "Running epoch 35 / 80\n",
            "-------------------\n",
            "Training dataset :\n",
            "Average loss : 3.06627306501374.\n",
            "-------------------\n",
            "Validation dataset\n"
          ],
          "name": "stdout"
        },
        {
          "output_type": "stream",
          "text": [
            "\r                                                                               \r\rN/A% (0 of 49) |                         | Elapsed Time: 0:00:00 ETA:  --:--:--"
          ],
          "name": "stderr"
        },
        {
          "output_type": "stream",
          "text": [
            "Starting the PER computation through beam search\n"
          ],
          "name": "stdout"
        },
        {
          "output_type": "stream",
          "text": [
            "100% (49 of 49) |########################| Elapsed Time: 0:00:17 Time:  0:00:17\n"
          ],
          "name": "stderr"
        },
        {
          "output_type": "stream",
          "text": [
            "Average PER 0.9756126792005052\n",
            "Average loss : 3.0653493161104164\n",
            "-------------------\n",
            "\n",
            "Running epoch 36 / 80\n",
            "-------------------\n",
            "Training dataset :\n",
            "Average loss : 3.0662491503562634.\n",
            "-------------------\n",
            "Validation dataset\n"
          ],
          "name": "stdout"
        },
        {
          "output_type": "stream",
          "text": [
            "\r                                                                               \r\rN/A% (0 of 49) |                         | Elapsed Time: 0:00:00 ETA:  --:--:--"
          ],
          "name": "stderr"
        },
        {
          "output_type": "stream",
          "text": [
            "Starting the PER computation through beam search\n"
          ],
          "name": "stdout"
        },
        {
          "output_type": "stream",
          "text": [
            "100% (49 of 49) |########################| Elapsed Time: 0:00:17 Time:  0:00:17\n"
          ],
          "name": "stderr"
        },
        {
          "output_type": "stream",
          "text": [
            "Average PER 0.975861559240326\n",
            "Average loss : 3.065343306989086\n",
            "-------------------\n",
            "\n",
            "Running epoch 37 / 80\n",
            "-------------------\n",
            "Training dataset :\n",
            "Average loss : 3.066238223748049.\n",
            "-------------------\n",
            "Validation dataset\n"
          ],
          "name": "stdout"
        },
        {
          "output_type": "stream",
          "text": [
            "\r                                                                               \r\rN/A% (0 of 49) |                         | Elapsed Time: 0:00:00 ETA:  --:--:--"
          ],
          "name": "stderr"
        },
        {
          "output_type": "stream",
          "text": [
            "Epoch    37: reducing learning rate of group 0 to 3.2000e-07.\n",
            "Starting the PER computation through beam search\n"
          ],
          "name": "stdout"
        },
        {
          "output_type": "stream",
          "text": [
            "100% (49 of 49) |########################| Elapsed Time: 0:00:17 Time:  0:00:17\n"
          ],
          "name": "stderr"
        },
        {
          "output_type": "stream",
          "text": [
            "Average PER 0.9759306344894734\n",
            "Average loss : 3.0654001284618766\n",
            "-------------------\n",
            "\n",
            "Running epoch 38 / 80\n",
            "-------------------\n",
            "Training dataset :\n",
            "Average loss : 3.0661612139403367.\n",
            "-------------------\n",
            "Validation dataset\n"
          ],
          "name": "stdout"
        },
        {
          "output_type": "stream",
          "text": [
            "\r                                                                               \r\rN/A% (0 of 49) |                         | Elapsed Time: 0:00:00 ETA:  --:--:--"
          ],
          "name": "stderr"
        },
        {
          "output_type": "stream",
          "text": [
            "Starting the PER computation through beam search\n"
          ],
          "name": "stdout"
        },
        {
          "output_type": "stream",
          "text": [
            "100% (49 of 49) |########################| Elapsed Time: 0:00:17 Time:  0:00:17\n"
          ],
          "name": "stderr"
        },
        {
          "output_type": "stream",
          "text": [
            "Average PER 0.9759306344894734\n",
            "Average loss : 3.0653869132606353\n",
            "-------------------\n",
            "\n",
            "Running epoch 39 / 80\n",
            "-------------------\n",
            "Training dataset :\n",
            "Average loss : 3.0661612588334024.\n",
            "-------------------\n",
            "Validation dataset\n"
          ],
          "name": "stdout"
        },
        {
          "output_type": "stream",
          "text": [
            "\r                                                                               \r\rN/A% (0 of 49) |                         | Elapsed Time: 0:00:00 ETA:  --:--:--"
          ],
          "name": "stderr"
        },
        {
          "output_type": "stream",
          "text": [
            "Starting the PER computation through beam search\n"
          ],
          "name": "stdout"
        },
        {
          "output_type": "stream",
          "text": [
            "100% (49 of 49) |########################| Elapsed Time: 0:00:17 Time:  0:00:17\n"
          ],
          "name": "stderr"
        },
        {
          "output_type": "stream",
          "text": [
            "Average PER 0.9759306344894734\n",
            "Average loss : 3.0654056510146783\n",
            "-------------------\n",
            "\n",
            "Running epoch 40 / 80\n",
            "-------------------\n",
            "Training dataset :\n",
            "Average loss : 3.0661573598099725.\n",
            "-------------------\n",
            "Validation dataset\n"
          ],
          "name": "stdout"
        },
        {
          "output_type": "stream",
          "text": [
            "\r                                                                               \r\rN/A% (0 of 49) |                         | Elapsed Time: 0:00:00 ETA:  --:--:--"
          ],
          "name": "stderr"
        },
        {
          "output_type": "stream",
          "text": [
            "Starting the PER computation through beam search\n"
          ],
          "name": "stdout"
        },
        {
          "output_type": "stream",
          "text": [
            "100% (49 of 49) |########################| Elapsed Time: 0:00:17 Time:  0:00:17\n"
          ],
          "name": "stderr"
        },
        {
          "output_type": "stream",
          "text": [
            "Average PER 0.975806194469563\n",
            "Average loss : 3.0653930537554683\n",
            "-------------------\n",
            "\n",
            "Running epoch 41 / 80\n",
            "-------------------\n",
            "Training dataset :\n",
            "Average loss : 3.0661543489412497.\n",
            "-------------------\n",
            "Validation dataset\n"
          ],
          "name": "stdout"
        },
        {
          "output_type": "stream",
          "text": [
            "\r                                                                               \r\rN/A% (0 of 49) |                         | Elapsed Time: 0:00:00 ETA:  --:--:--"
          ],
          "name": "stderr"
        },
        {
          "output_type": "stream",
          "text": [
            "Starting the PER computation through beam search\n"
          ],
          "name": "stdout"
        },
        {
          "output_type": "stream",
          "text": [
            "100% (49 of 49) |########################| Elapsed Time: 0:00:17 Time:  0:00:17\n"
          ],
          "name": "stderr"
        },
        {
          "output_type": "stream",
          "text": [
            "Average PER 0.975806194469563\n",
            "Average loss : 3.0653772354125977\n",
            "-------------------\n",
            "\n",
            "Running epoch 42 / 80\n",
            "-------------------\n",
            "Training dataset :\n",
            "Average loss : 3.0661500501268693.\n",
            "-------------------\n",
            "Validation dataset\n"
          ],
          "name": "stdout"
        },
        {
          "output_type": "stream",
          "text": [
            "\r                                                                               \r\rN/A% (0 of 49) |                         | Elapsed Time: 0:00:00 ETA:  --:--:--"
          ],
          "name": "stderr"
        },
        {
          "output_type": "stream",
          "text": [
            "Starting the PER computation through beam search\n"
          ],
          "name": "stdout"
        },
        {
          "output_type": "stream",
          "text": [
            "100% (49 of 49) |########################| Elapsed Time: 0:00:17 Time:  0:00:17\n"
          ],
          "name": "stderr"
        },
        {
          "output_type": "stream",
          "text": [
            "Average PER 0.9759681640192875\n",
            "Average loss : 3.0653755762139143\n",
            "-------------------\n",
            "\n",
            "Running epoch 43 / 80\n",
            "-------------------\n",
            "Training dataset :\n",
            "Average loss : 3.0661530913287445.\n",
            "-------------------\n",
            "Validation dataset\n"
          ],
          "name": "stdout"
        },
        {
          "output_type": "stream",
          "text": [
            "\r                                                                               \r\rN/A% (0 of 49) |                         | Elapsed Time: 0:00:00 ETA:  --:--:--"
          ],
          "name": "stderr"
        },
        {
          "output_type": "stream",
          "text": [
            "Epoch    43: reducing learning rate of group 0 to 6.4000e-08.\n",
            "Starting the PER computation through beam search\n"
          ],
          "name": "stdout"
        },
        {
          "output_type": "stream",
          "text": [
            "100% (49 of 49) |########################| Elapsed Time: 0:00:17 Time:  0:00:17\n"
          ],
          "name": "stderr"
        },
        {
          "output_type": "stream",
          "text": [
            "Average PER 0.975806194469563\n",
            "Average loss : 3.0653690124044615\n",
            "-------------------\n",
            "\n",
            "Learning rate reached critical point, Aborting\n",
            "loading best model with CER  0.9638681644695457\n"
          ],
          "name": "stdout"
        }
      ]
    },
    {
      "cell_type": "code",
      "metadata": {
        "id": "OhUdY0431CvC",
        "colab_type": "code",
        "colab": {
          "base_uri": "https://localhost:8080/",
          "height": 85
        },
        "outputId": "ef18a7ff-38e1-44e5-ba23-65de099cb6c4"
      },
      "source": [
        "get_per(data_loader_test_letters,cpc_non_pre_trained,character_classifier)"
      ],
      "execution_count": null,
      "outputs": [
        {
          "output_type": "stream",
          "text": [
            "\r                                                                               \r\rN/A% (0 of 246) |                        | Elapsed Time: 0:00:00 ETA:  --:--:--"
          ],
          "name": "stderr"
        },
        {
          "output_type": "stream",
          "text": [
            "Starting the PER computation through beam search\n"
          ],
          "name": "stdout"
        },
        {
          "output_type": "stream",
          "text": [
            "100% (246 of 246) |######################| Elapsed Time: 0:01:27 Time:  0:01:27\n"
          ],
          "name": "stderr"
        },
        {
          "output_type": "stream",
          "text": [
            "Average PER 0.9602444528895873\n"
          ],
          "name": "stdout"
        },
        {
          "output_type": "execute_result",
          "data": {
            "text/plain": [
              "0.9602444528895873"
            ]
          },
          "metadata": {
            "tags": []
          },
          "execution_count": 32
        }
      ]
    },
    {
      "cell_type": "code",
      "metadata": {
        "id": "8x7uXByXU5Ei",
        "colab_type": "code",
        "colab": {
          "base_uri": "https://localhost:8080/",
          "height": 1000
        },
        "outputId": "ee9d8945-82f1-478f-96f2-a4169ef50624"
      },
      "source": [
        "import matplotlib.pyplot as plt\n",
        "%matplotlib inline\n",
        "plt.figure(num=None, figsize=(12, 8), dpi=80, facecolor='w', edgecolor='k')\n",
        "\n",
        "x = list(range(len(losses_train)))\n",
        "plt.plot(x,losses_train, label=\"Train loss\")\n",
        "plt.plot(x,losses_val, label=\"Validation loss\")\n",
        "plt.legend(loc=\"upper right\")\n",
        "############################################\n",
        "plt.figure(num=None, figsize=(12, 8), dpi=80, facecolor='w', edgecolor='k')\n",
        "\n",
        "x = list(range(len(cer_val)))\n",
        "plt.plot(x,cer_val, label=\"CER\")\n",
        "plt.legend(loc=\"upper right\")\n"
      ],
      "execution_count": null,
      "outputs": [
        {
          "output_type": "execute_result",
          "data": {
            "text/plain": [
              "<matplotlib.legend.Legend at 0x7f76d0103e10>"
            ]
          },
          "metadata": {
            "tags": []
          },
          "execution_count": 33
        },
        {
          "output_type": "display_data",
          "data": {
            "image/png": "[encoded data removed]",
            "text/plain": [
              "<Figure size 960x640 with 1 Axes>"
            ]
          },
          "metadata": {
            "tags": []
          }
        },
        {
          "output_type": "display_data",
          "data": {
            "image/png": "[encoded data removed]",
            "text/plain": [
              "<Figure size 960x640 with 1 Axes>"
            ]
          },
          "metadata": {
            "tags": []
          }
        }
      ]
    },
    {
      "cell_type": "markdown",
      "metadata": {
        "id": "ye7Ph5yF2hTK",
        "colab_type": "text"
      },
      "source": [
        "## Exercice 2: Comparison with hand-crafted ASR features\n",
        "\n",
        "Now replace train a character classifier on top of MFCC features. What CER do you get ?\n",
        "\n",
        "See [here](https://pytorch.org/audio/transforms.html#torchaudio.transforms.MFCC) to build MFCC features."
      ]
    },
    {
      "cell_type": "code",
      "metadata": {
        "id": "i5gM9DkdqZBE",
        "colab_type": "code",
        "colab": {}
      },
      "source": [
        "mfcc_crafter = torchaudio.transforms.MFCC(n_mfcc=80)"
      ],
      "execution_count": null,
      "outputs": []
    },
    {
      "cell_type": "code",
      "metadata": {
        "id": "Kt2TFct3qCsb",
        "colab_type": "code",
        "colab": {}
      },
      "source": [
        "import torch.nn.functional as F\n",
        "\n",
        "def train_one_epoch_ctc(character_classifier, \n",
        "                        loss_criterion, \n",
        "                        data_loader, \n",
        "                        optimizer):\n",
        "  \n",
        "  cpc_model.train()\n",
        "  loss_criterion.train()\n",
        "\n",
        "  avg_loss = 0\n",
        "  avg_accuracy = 0\n",
        "  n_items = 0\n",
        "  for step, full_data in enumerate(data_loader):\n",
        "\n",
        "    x, x_len, y, y_len = full_data\n",
        "\n",
        "    x_batch_len = x.shape[-1]\n",
        "    y = y.to(device)\n",
        "\n",
        "\n",
        "    bs=x.size(0)\n",
        "    optimizer.zero_grad()\n",
        "\n",
        "\n",
        "    #context_out, enc_out = cpc_model(x.to(device))\n",
        "    context_out = mfcc_crafter(x)\n",
        "    context_out = context_out.to(device)\n",
        "    context_out = context_out.squeeze(1)\n",
        "    context_out = context_out.permute(0,2,1)\n",
        "    #print(\"context_out.shape\",context_out.shape)\n",
        "\n",
        "    scores = character_classifier(context_out)\n",
        "    scores = scores.permute(1,0,2)\n",
        "    scores = F.log_softmax(scores,2)\n",
        "    yhat_len = torch.tensor([int(scores.shape[0]*x_len[i]/(x_batch_len)) for i in range(scores.shape[1])]) # this is an approximation, should be good enough\n",
        "\n",
        "    #print(yhat_len)\n",
        "    loss = loss_criterion(scores,y.to(device),yhat_len,y_len)\n",
        "\n",
        "    loss.backward()\n",
        "    optimizer.step()\n",
        "    avg_loss+=loss.item()*bs\n",
        "    n_items+=bs\n",
        "  avg_loss/=n_items\n",
        "  return avg_loss\n",
        "\n",
        "def validation_step(character_classifier, \n",
        "                    loss_criterion, \n",
        "                    data_loader):\n",
        "\n",
        "  cpc_model.eval()\n",
        "  character_classifier.eval()\n",
        "  avg_loss = 0\n",
        "  avg_accuracy = 0\n",
        "  n_items = 0\n",
        "  with torch.no_grad():\n",
        "    for step, full_data in enumerate(data_loader):\n",
        "\n",
        "      x, x_len, y, y_len = full_data\n",
        "\n",
        "      x_batch_len = x.shape[-1]\n",
        "      y =  y.to(device)\n",
        "\n",
        "      bs=x.size(0)\n",
        "      #context_out, enc_out = cpc_model(x.to(device))\n",
        "      context_out = mfcc_crafter(x)\n",
        "      #print(\"context_out.shape\",context_out.shape)\n",
        "      context_out = context_out.to(device)\n",
        "      context_out = context_out.squeeze(1)\n",
        "      context_out = context_out.permute(0,2,1)    \n",
        "      scores = character_classifier(context_out)\n",
        "      scores = scores.permute(1,0,2)\n",
        "      scores = F.log_softmax(scores,2)\n",
        "      yhat_len = torch.tensor([int(scores.shape[0]*x_len[i]/x_batch_len) for i in range(scores.shape[1])]) # this is an approximation, should be good enough\n",
        "      loss = loss_criterion(scores,y.to(device),yhat_len,y_len)\n",
        "      avg_loss+=loss.item()*bs\n",
        "      n_items+=bs\n",
        "  avg_loss/=n_items\n",
        "\n",
        "  return avg_loss\n",
        "\n",
        "def run_ctc(character_classifier, \n",
        "            loss_criterion, \n",
        "            data_loader_train, \n",
        "            data_loader_val, \n",
        "            optimizer,\n",
        "            lr_sch,\n",
        "            n_epoch):\n",
        "  losses_train = []\n",
        "  losses_val = []\n",
        "  cer_val = []\n",
        "  best_cer = float(\"inf\")\n",
        "  for epoch in range(n_epoch):\n",
        "\n",
        "    print(f\"Running epoch {epoch + 1} / {n_epoch}\")\n",
        "    loss_train = train_one_epoch_ctc(character_classifier, loss_criterion, data_loader_train, optimizer)\n",
        "    losses_train.append(loss_train)\n",
        "    print(\"-------------------\")\n",
        "    print(f\"Training dataset :\")\n",
        "    print(f\"Average loss : {loss_train}.\")\n",
        "\n",
        "    print(\"-------------------\")\n",
        "    print(\"Validation dataset\")\n",
        "    loss_val = validation_step(character_classifier, loss_criterion, data_loader_val)\n",
        "    losses_val.append(loss_val)\n",
        "    lr_sch.step(loss_val)\n",
        "    cer = get_cer(data_loader_val_letters,character_classifier)\n",
        "    cer_val.append(cer)\n",
        "\n",
        "    if cer<best_cer:\n",
        "      best_cer=cer\n",
        "      save_checkpoint(cpc_model,character_classifier)\n",
        "\n",
        "    print(f\"Average loss : {loss_val}\")\n",
        "    print(\"-------------------\")\n",
        "    print()\n",
        "    if optimizer.param_groups[0]['lr']<1e-7:\n",
        "      print(\"Learning rate reached critical point, Aborting\")\n",
        "      break\n",
        "  print(\"loading best model with CER \",best_cer)\n",
        "  load_checkpoint(cpc_model,character_classifier)\n",
        "  return losses_train,losses_val, cer_val\n",
        "\n"
      ],
      "execution_count": null,
      "outputs": []
    },
    {
      "cell_type": "code",
      "metadata": {
        "id": "UvexH3aecGON",
        "colab_type": "code",
        "colab": {}
      },
      "source": [
        "import progressbar\n",
        "from multiprocessing import Pool\n",
        "\n",
        "\n",
        "def get_cer(test_dataloader,\n",
        "            character_classifier):\n",
        "\n",
        "  downsampling_factor = 1\n",
        "  cpc_model.eval()\n",
        "  character_classifier.eval()\n",
        "\n",
        "  avgCER = 0\n",
        "  nItems = 0\n",
        "\n",
        "  print(\"Starting the CER computation through beam search\")\n",
        "  bar = progressbar.ProgressBar(maxval=len(test_dataloader))\n",
        "  bar.start()\n",
        "\n",
        "  for index, data in enumerate(test_dataloader):\n",
        "\n",
        "    bar.update(index)\n",
        "    with torch.no_grad():\n",
        "        seq, sizeSeq, phone, sizePhone = prepare_data(data)\n",
        "        x_batch_len = seq.shape[-1]\n",
        "        c_feature = mfcc_crafter(seq.cpu())\n",
        "        c_feature = c_feature.to(device)\n",
        "        c_feature = c_feature.squeeze(1)\n",
        "        c_feature = c_feature.permute(0,2,1)\n",
        "        bs = c_feature.size(0)\n",
        "        sizeSeq = sizeSeq / downsampling_factor\n",
        "        predictions = torch.nn.functional.softmax(\n",
        "            character_classifier(c_feature), dim=2\n",
        "            ).cpu()\n",
        "        phone = phone.cpu()\n",
        "        sizeSeq = sizeSeq.cpu()\n",
        "        sizePhone = sizePhone.cpu()\n",
        "        # print(\"predictions\",predictions.argmax(2)[0])\n",
        "        # print(phone[0])\n",
        "        \n",
        "        seq_len = torch.tensor([int(predictions.shape[1]*sizeSeq[i]/(x_batch_len)) for i in range(predictions.shape[0])]) # this is an approximation, should be good enough\n",
        "        #print(seq_len)\n",
        "        decoder = CTCBeamDecoder(chars, log_probs_input=False,blank_id=0,beam_width=40,cutoff_top_n=40,model_path=\"/content/wiki_00.lm.arpa\")\n",
        "        output, scores, timesteps, out_seq_len = decoder.decode(predictions, seq_lens=seq_len)\n",
        "        \n",
        "        output=output[torch.arange(bs),scores.argmax(1),:]\n",
        "        out_seq_len= out_seq_len[torch.arange(bs),scores.argmax(1)]\n",
        "        data_cer = []\n",
        "        for b in range(bs):\n",
        "          #print(sizePhone[b],out_seq_len[b])\n",
        "          data_cer.append((phone[b][:sizePhone[b].item()],output[b][:out_seq_len[b].item()]))\n",
        "          \n",
        "        #data_cer = [(predictions[b].argmax(1),  phone[b]) for b in range(bs)]\n",
        "        # data_cer = [(predictions[b], sizeSeq[b], phone[b], sizePhone[b],\n",
        "        #               \"criterion.module.BLANK_LABEL\") for b in range(bs)]\n",
        "        with Pool(bs) as p:\n",
        "            poolData = p.starmap(get_CER_sequence, data_cer)\n",
        "        avgCER += sum([x for x in poolData])\n",
        "        nItems += len(poolData)\n",
        "\n",
        "  bar.finish()\n",
        "\n",
        "  avgCER /= nItems\n",
        "\n",
        "  print(f\"Average CER {avgCER}\")\n",
        "  return avgCER\n"
      ],
      "execution_count": null,
      "outputs": []
    },
    {
      "cell_type": "code",
      "metadata": {
        "id": "xJuzk71nsKgZ",
        "colab_type": "code",
        "colab": {}
      },
      "source": [
        "character_classifier = CharacterClassifier(80, N_LETTERS).to(device)\n",
        "torch.manual_seed(0)\n",
        "\n",
        "parameters = character_classifier.parameters()\n",
        "LEARNING_RATE = 1e-3\n",
        "optimizer = torch.optim.Adam(parameters, lr=LEARNING_RATE)\n",
        "lr_sch = ReduceLROnPlateau(optimizer,factor=0.2,patience=5,verbose=True)\n"
      ],
      "execution_count": null,
      "outputs": []
    },
    {
      "cell_type": "code",
      "metadata": {
        "id": "4Q0sNfSL1oYz",
        "colab_type": "code",
        "colab": {
          "base_uri": "https://localhost:8080/",
          "height": 1000
        },
        "outputId": "56f6085d-ac91-4eab-8a03-7afeb8503c9f"
      },
      "source": [
        "losses_train, losses_val, cer_val = run_ctc(character_classifier,loss_ctc,data_loader_train_letters,data_loader_val_letters,optimizer,lr_sch,n_epoch=80)"
      ],
      "execution_count": null,
      "outputs": [
        {
          "output_type": "stream",
          "text": [
            "Running epoch 1 / 80\n",
            "-------------------\n",
            "Training dataset :\n",
            "Average loss : 14.751724039325277.\n",
            "-------------------\n",
            "Validation dataset\n"
          ],
          "name": "stdout"
        },
        {
          "output_type": "stream",
          "text": [
            "\r                                                                               \r\rN/A% (0 of 49) |                         | Elapsed Time: 0:00:00 ETA:  --:--:--"
          ],
          "name": "stderr"
        },
        {
          "output_type": "stream",
          "text": [
            "Starting the PER computation through beam search\n"
          ],
          "name": "stdout"
        },
        {
          "output_type": "stream",
          "text": [
            "100% (49 of 49) |########################| Elapsed Time: 0:01:13 Time:  0:01:13\n"
          ],
          "name": "stderr"
        },
        {
          "output_type": "stream",
          "text": [
            "Average PER 0.8390506700817387\n",
            "Average loss : 8.504963767771818\n",
            "-------------------\n",
            "\n",
            "Running epoch 2 / 80\n",
            "-------------------\n",
            "Training dataset :\n",
            "Average loss : 6.691724257918108.\n",
            "-------------------\n",
            "Validation dataset\n"
          ],
          "name": "stdout"
        },
        {
          "output_type": "stream",
          "text": [
            "\r                                                                               \r\rN/A% (0 of 49) |                         | Elapsed Time: 0:00:00 ETA:  --:--:--"
          ],
          "name": "stderr"
        },
        {
          "output_type": "stream",
          "text": [
            "Starting the PER computation through beam search\n"
          ],
          "name": "stdout"
        },
        {
          "output_type": "stream",
          "text": [
            "100% (49 of 49) |########################| Elapsed Time: 0:01:11 Time:  0:01:11\n"
          ],
          "name": "stderr"
        },
        {
          "output_type": "stream",
          "text": [
            "Average PER 0.7657650516839577\n",
            "Average loss : 5.36388450739335\n",
            "-------------------\n",
            "\n",
            "Running epoch 3 / 80\n",
            "-------------------\n",
            "Training dataset :\n",
            "Average loss : 4.741111005535562.\n",
            "-------------------\n",
            "Validation dataset\n"
          ],
          "name": "stdout"
        },
        {
          "output_type": "stream",
          "text": [
            "\r                                                                               \r\rN/A% (0 of 49) |                         | Elapsed Time: 0:00:00 ETA:  --:--:--"
          ],
          "name": "stderr"
        },
        {
          "output_type": "stream",
          "text": [
            "Starting the PER computation through beam search\n"
          ],
          "name": "stdout"
        },
        {
          "output_type": "stream",
          "text": [
            "100% (49 of 49) |########################| Elapsed Time: 0:01:07 Time:  0:01:07\n"
          ],
          "name": "stderr"
        },
        {
          "output_type": "stream",
          "text": [
            "Average PER 0.7572868604321599\n",
            "Average loss : 4.294742540437348\n",
            "-------------------\n",
            "\n",
            "Running epoch 4 / 80\n",
            "-------------------\n",
            "Training dataset :\n",
            "Average loss : 4.135660673825796.\n",
            "-------------------\n",
            "Validation dataset\n"
          ],
          "name": "stdout"
        },
        {
          "output_type": "stream",
          "text": [
            "\r                                                                               \r\rN/A% (0 of 49) |                         | Elapsed Time: 0:00:00 ETA:  --:--:--"
          ],
          "name": "stderr"
        },
        {
          "output_type": "stream",
          "text": [
            "Starting the PER computation through beam search\n"
          ],
          "name": "stdout"
        },
        {
          "output_type": "stream",
          "text": [
            "100% (49 of 49) |########################| Elapsed Time: 0:01:26 Time:  0:01:26\n"
          ],
          "name": "stderr"
        },
        {
          "output_type": "stream",
          "text": [
            "Average PER 0.7737702119854668\n",
            "Average loss : 4.186240342198586\n",
            "-------------------\n",
            "\n",
            "Running epoch 5 / 80\n",
            "-------------------\n",
            "Training dataset :\n",
            "Average loss : 3.997281394235354.\n",
            "-------------------\n",
            "Validation dataset\n"
          ],
          "name": "stdout"
        },
        {
          "output_type": "stream",
          "text": [
            "\r                                                                               \r\rN/A% (0 of 49) |                         | Elapsed Time: 0:00:00 ETA:  --:--:--"
          ],
          "name": "stderr"
        },
        {
          "output_type": "stream",
          "text": [
            "Starting the PER computation through beam search\n"
          ],
          "name": "stdout"
        },
        {
          "output_type": "stream",
          "text": [
            "100% (49 of 49) |########################| Elapsed Time: 0:01:24 Time:  0:01:24\n"
          ],
          "name": "stderr"
        },
        {
          "output_type": "stream",
          "text": [
            "Average PER 0.760206625486238\n",
            "Average loss : 3.980999990385406\n",
            "-------------------\n",
            "\n",
            "Running epoch 6 / 80\n",
            "-------------------\n",
            "Training dataset :\n",
            "Average loss : 3.959689742129571.\n",
            "-------------------\n",
            "Validation dataset\n"
          ],
          "name": "stdout"
        },
        {
          "output_type": "stream",
          "text": [
            "\r                                                                               \r\rN/A% (0 of 49) |                         | Elapsed Time: 0:00:00 ETA:  --:--:--"
          ],
          "name": "stderr"
        },
        {
          "output_type": "stream",
          "text": [
            "Starting the PER computation through beam search\n"
          ],
          "name": "stdout"
        },
        {
          "output_type": "stream",
          "text": [
            "100% (49 of 49) |########################| Elapsed Time: 0:01:02 Time:  0:01:02\n"
          ],
          "name": "stderr"
        },
        {
          "output_type": "stream",
          "text": [
            "Average PER 0.781727260379705\n",
            "Average loss : 3.9187470114960963\n",
            "-------------------\n",
            "\n",
            "Running epoch 7 / 80\n",
            "-------------------\n",
            "Training dataset :\n",
            "Average loss : 3.8921875789875293.\n",
            "-------------------\n",
            "Validation dataset\n"
          ],
          "name": "stdout"
        },
        {
          "output_type": "stream",
          "text": [
            "\r                                                                               \r\rN/A% (0 of 49) |                         | Elapsed Time: 0:00:00 ETA:  --:--:--"
          ],
          "name": "stderr"
        },
        {
          "output_type": "stream",
          "text": [
            "Starting the PER computation through beam search\n"
          ],
          "name": "stdout"
        },
        {
          "output_type": "stream",
          "text": [
            "100% (49 of 49) |########################| Elapsed Time: 0:01:04 Time:  0:01:04\n"
          ],
          "name": "stderr"
        },
        {
          "output_type": "stream",
          "text": [
            "Average PER 0.7885607027446948\n",
            "Average loss : 3.8318573455421294\n",
            "-------------------\n",
            "\n",
            "Running epoch 8 / 80\n",
            "-------------------\n",
            "Training dataset :\n",
            "Average loss : 3.8865963648293764.\n",
            "-------------------\n",
            "Validation dataset\n"
          ],
          "name": "stdout"
        },
        {
          "output_type": "stream",
          "text": [
            "\r                                                                               \r\rN/A% (0 of 49) |                         | Elapsed Time: 0:00:00 ETA:  --:--:--"
          ],
          "name": "stderr"
        },
        {
          "output_type": "stream",
          "text": [
            "Starting the PER computation through beam search\n"
          ],
          "name": "stdout"
        },
        {
          "output_type": "stream",
          "text": [
            "100% (49 of 49) |########################| Elapsed Time: 0:01:16 Time:  0:01:16\n"
          ],
          "name": "stderr"
        },
        {
          "output_type": "stream",
          "text": [
            "Average PER 0.8068313852014161\n",
            "Average loss : 3.9221557354440493\n",
            "-------------------\n",
            "\n",
            "Running epoch 9 / 80\n",
            "-------------------\n",
            "Training dataset :\n",
            "Average loss : 3.82839786369382.\n",
            "-------------------\n",
            "Validation dataset\n"
          ],
          "name": "stdout"
        },
        {
          "output_type": "stream",
          "text": [
            "\r                                                                               \r\rN/A% (0 of 49) |                         | Elapsed Time: 0:00:00 ETA:  --:--:--"
          ],
          "name": "stderr"
        },
        {
          "output_type": "stream",
          "text": [
            "Starting the PER computation through beam search\n"
          ],
          "name": "stdout"
        },
        {
          "output_type": "stream",
          "text": [
            "100% (49 of 49) |########################| Elapsed Time: 0:00:46 Time:  0:00:46\n"
          ],
          "name": "stderr"
        },
        {
          "output_type": "stream",
          "text": [
            "Average PER 0.806888462647973\n",
            "Average loss : 3.81952225432104\n",
            "-------------------\n",
            "\n",
            "Running epoch 10 / 80\n",
            "-------------------\n",
            "Training dataset :\n",
            "Average loss : 3.781411860735362.\n",
            "-------------------\n",
            "Validation dataset\n"
          ],
          "name": "stdout"
        },
        {
          "output_type": "stream",
          "text": [
            "\r                                                                               \r\rN/A% (0 of 49) |                         | Elapsed Time: 0:00:00 ETA:  --:--:--"
          ],
          "name": "stderr"
        },
        {
          "output_type": "stream",
          "text": [
            "Starting the PER computation through beam search\n"
          ],
          "name": "stdout"
        },
        {
          "output_type": "stream",
          "text": [
            "100% (49 of 49) |########################| Elapsed Time: 0:00:49 Time:  0:00:49\n"
          ],
          "name": "stderr"
        },
        {
          "output_type": "stream",
          "text": [
            "Average PER 0.8375079641546863\n",
            "Average loss : 3.8398770799442214\n",
            "-------------------\n",
            "\n",
            "Running epoch 11 / 80\n",
            "-------------------\n",
            "Training dataset :\n",
            "Average loss : 3.7575083555459368.\n",
            "-------------------\n",
            "Validation dataset\n"
          ],
          "name": "stdout"
        },
        {
          "output_type": "stream",
          "text": [
            "\r                                                                               \r\rN/A% (0 of 49) |                         | Elapsed Time: 0:00:00 ETA:  --:--:--"
          ],
          "name": "stderr"
        },
        {
          "output_type": "stream",
          "text": [
            "Starting the PER computation through beam search\n"
          ],
          "name": "stdout"
        },
        {
          "output_type": "stream",
          "text": [
            "100% (49 of 49) |########################| Elapsed Time: 0:00:49 Time:  0:00:49\n"
          ],
          "name": "stderr"
        },
        {
          "output_type": "stream",
          "text": [
            "Average PER 0.8324699455640877\n",
            "Average loss : 3.832656446768313\n",
            "-------------------\n",
            "\n",
            "Running epoch 12 / 80\n",
            "-------------------\n",
            "Training dataset :\n",
            "Average loss : 3.7372495745884553.\n",
            "-------------------\n",
            "Validation dataset\n"
          ],
          "name": "stdout"
        },
        {
          "output_type": "stream",
          "text": [
            "\r                                                                               \r\rN/A% (0 of 49) |                         | Elapsed Time: 0:00:00 ETA:  --:--:--"
          ],
          "name": "stderr"
        },
        {
          "output_type": "stream",
          "text": [
            "Starting the PER computation through beam search\n"
          ],
          "name": "stdout"
        },
        {
          "output_type": "stream",
          "text": [
            "100% (49 of 49) |########################| Elapsed Time: 0:00:55 Time:  0:00:55\n"
          ],
          "name": "stderr"
        },
        {
          "output_type": "stream",
          "text": [
            "Average PER 0.8230530079583347\n",
            "Average loss : 3.763090659161003\n",
            "-------------------\n",
            "\n",
            "Running epoch 13 / 80\n",
            "-------------------\n",
            "Training dataset :\n",
            "Average loss : 3.7382870181522905.\n",
            "-------------------\n",
            "Validation dataset\n"
          ],
          "name": "stdout"
        },
        {
          "output_type": "stream",
          "text": [
            "\r                                                                               \r\rN/A% (0 of 49) |                         | Elapsed Time: 0:00:00 ETA:  --:--:--"
          ],
          "name": "stderr"
        },
        {
          "output_type": "stream",
          "text": [
            "Starting the PER computation through beam search\n"
          ],
          "name": "stdout"
        },
        {
          "output_type": "stream",
          "text": [
            "100% (49 of 49) |########################| Elapsed Time: 0:01:00 Time:  0:01:00\n"
          ],
          "name": "stderr"
        },
        {
          "output_type": "stream",
          "text": [
            "Average PER 0.7499062340377952\n",
            "Average loss : 3.7659226437004243\n",
            "-------------------\n",
            "\n",
            "Running epoch 14 / 80\n",
            "-------------------\n",
            "Training dataset :\n",
            "Average loss : 3.7049291722343773.\n",
            "-------------------\n",
            "Validation dataset\n"
          ],
          "name": "stdout"
        },
        {
          "output_type": "stream",
          "text": [
            "\r                                                                               \r\rN/A% (0 of 49) |                         | Elapsed Time: 0:00:00 ETA:  --:--:--"
          ],
          "name": "stderr"
        },
        {
          "output_type": "stream",
          "text": [
            "Starting the PER computation through beam search\n"
          ],
          "name": "stdout"
        },
        {
          "output_type": "stream",
          "text": [
            "100% (49 of 49) |########################| Elapsed Time: 0:00:47 Time:  0:00:47\n"
          ],
          "name": "stderr"
        },
        {
          "output_type": "stream",
          "text": [
            "Average PER 0.8352406047948324\n",
            "Average loss : 3.9405543025659053\n",
            "-------------------\n",
            "\n",
            "Running epoch 15 / 80\n",
            "-------------------\n",
            "Training dataset :\n",
            "Average loss : 3.687989575262288.\n",
            "-------------------\n",
            "Validation dataset\n"
          ],
          "name": "stdout"
        },
        {
          "output_type": "stream",
          "text": [
            "\r                                                                               \r\rN/A% (0 of 49) |                         | Elapsed Time: 0:00:00 ETA:  --:--:--"
          ],
          "name": "stderr"
        },
        {
          "output_type": "stream",
          "text": [
            "Starting the PER computation through beam search\n"
          ],
          "name": "stdout"
        },
        {
          "output_type": "stream",
          "text": [
            "100% (49 of 49) |########################| Elapsed Time: 0:00:52 Time:  0:00:52\n"
          ],
          "name": "stderr"
        },
        {
          "output_type": "stream",
          "text": [
            "Average PER 0.8424113903036513\n",
            "Average loss : 3.8485115936824252\n",
            "-------------------\n",
            "\n",
            "Running epoch 16 / 80\n",
            "-------------------\n",
            "Training dataset :\n",
            "Average loss : 3.7182703746184136.\n",
            "-------------------\n",
            "Validation dataset\n"
          ],
          "name": "stdout"
        },
        {
          "output_type": "stream",
          "text": [
            "\r                                                                               \r\rN/A% (0 of 49) |                         | Elapsed Time: 0:00:00 ETA:  --:--:--"
          ],
          "name": "stderr"
        },
        {
          "output_type": "stream",
          "text": [
            "Starting the PER computation through beam search\n"
          ],
          "name": "stdout"
        },
        {
          "output_type": "stream",
          "text": [
            "100% (49 of 49) |########################| Elapsed Time: 0:00:53 Time:  0:00:53\n"
          ],
          "name": "stderr"
        },
        {
          "output_type": "stream",
          "text": [
            "Average PER 0.8332103220821574\n",
            "Average loss : 3.801217098625339\n",
            "-------------------\n",
            "\n",
            "Running epoch 17 / 80\n",
            "-------------------\n",
            "Training dataset :\n",
            "Average loss : 3.7117748272631306.\n",
            "-------------------\n",
            "Validation dataset\n"
          ],
          "name": "stdout"
        },
        {
          "output_type": "stream",
          "text": [
            "\r                                                                               \r\rN/A% (0 of 49) |                         | Elapsed Time: 0:00:00 ETA:  --:--:--"
          ],
          "name": "stderr"
        },
        {
          "output_type": "stream",
          "text": [
            "Starting the PER computation through beam search\n"
          ],
          "name": "stdout"
        },
        {
          "output_type": "stream",
          "text": [
            "100% (49 of 49) |########################| Elapsed Time: 0:00:51 Time:  0:00:51\n"
          ],
          "name": "stderr"
        },
        {
          "output_type": "stream",
          "text": [
            "Average PER 0.7944808493934123\n",
            "Average loss : 3.7387642714442038\n",
            "-------------------\n",
            "\n",
            "Running epoch 18 / 80\n",
            "-------------------\n",
            "Training dataset :\n",
            "Average loss : 3.696977315058235.\n",
            "-------------------\n",
            "Validation dataset\n"
          ],
          "name": "stdout"
        },
        {
          "output_type": "stream",
          "text": [
            "\r                                                                               \r\rN/A% (0 of 49) |                         | Elapsed Time: 0:00:00 ETA:  --:--:--"
          ],
          "name": "stderr"
        },
        {
          "output_type": "stream",
          "text": [
            "Starting the PER computation through beam search\n"
          ],
          "name": "stdout"
        },
        {
          "output_type": "stream",
          "text": [
            "100% (49 of 49) |########################| Elapsed Time: 0:00:56 Time:  0:00:56\n"
          ],
          "name": "stderr"
        },
        {
          "output_type": "stream",
          "text": [
            "Average PER 0.8048009755913269\n",
            "Average loss : 3.8065284855511723\n",
            "-------------------\n",
            "\n",
            "Running epoch 19 / 80\n",
            "-------------------\n",
            "Training dataset :\n",
            "Average loss : 3.728127849617684.\n",
            "-------------------\n",
            "Validation dataset\n"
          ],
          "name": "stdout"
        },
        {
          "output_type": "stream",
          "text": [
            "\r                                                                               \r\rN/A% (0 of 49) |                         | Elapsed Time: 0:00:00 ETA:  --:--:--"
          ],
          "name": "stderr"
        },
        {
          "output_type": "stream",
          "text": [
            "Starting the PER computation through beam search\n"
          ],
          "name": "stdout"
        },
        {
          "output_type": "stream",
          "text": [
            "100% (49 of 49) |########################| Elapsed Time: 0:00:51 Time:  0:00:51\n"
          ],
          "name": "stderr"
        },
        {
          "output_type": "stream",
          "text": [
            "Average PER 0.8223054623111992\n",
            "Average loss : 3.7243351644399216\n",
            "-------------------\n",
            "\n",
            "Running epoch 20 / 80\n",
            "-------------------\n",
            "Training dataset :\n",
            "Average loss : 3.702465736229001.\n",
            "-------------------\n",
            "Validation dataset\n"
          ],
          "name": "stdout"
        },
        {
          "output_type": "stream",
          "text": [
            "\r                                                                               \r\rN/A% (0 of 49) |                         | Elapsed Time: 0:00:00 ETA:  --:--:--"
          ],
          "name": "stderr"
        },
        {
          "output_type": "stream",
          "text": [
            "Starting the PER computation through beam search\n"
          ],
          "name": "stdout"
        },
        {
          "output_type": "stream",
          "text": [
            "100% (49 of 49) |########################| Elapsed Time: 0:00:51 Time:  0:00:51\n"
          ],
          "name": "stderr"
        },
        {
          "output_type": "stream",
          "text": [
            "Average PER 0.8168843209097959\n",
            "Average loss : 3.7703750814710344\n",
            "-------------------\n",
            "\n",
            "Running epoch 21 / 80\n",
            "-------------------\n",
            "Training dataset :\n",
            "Average loss : 3.708560973936668.\n",
            "-------------------\n",
            "Validation dataset\n"
          ],
          "name": "stdout"
        },
        {
          "output_type": "stream",
          "text": [
            "\r                                                                               \r\rN/A% (0 of 49) |                         | Elapsed Time: 0:00:00 ETA:  --:--:--"
          ],
          "name": "stderr"
        },
        {
          "output_type": "stream",
          "text": [
            "Starting the PER computation through beam search\n"
          ],
          "name": "stdout"
        },
        {
          "output_type": "stream",
          "text": [
            "100% (49 of 49) |########################| Elapsed Time: 0:00:44 Time:  0:00:44\n"
          ],
          "name": "stderr"
        },
        {
          "output_type": "stream",
          "text": [
            "Average PER 0.841097084811886\n",
            "Average loss : 3.895431659659561\n",
            "-------------------\n",
            "\n",
            "Running epoch 22 / 80\n",
            "-------------------\n",
            "Training dataset :\n",
            "Average loss : 3.70275513452428.\n",
            "-------------------\n",
            "Validation dataset\n"
          ],
          "name": "stdout"
        },
        {
          "output_type": "stream",
          "text": [
            "\r                                                                               \r\rN/A% (0 of 49) |                         | Elapsed Time: 0:00:00 ETA:  --:--:--"
          ],
          "name": "stderr"
        },
        {
          "output_type": "stream",
          "text": [
            "Starting the PER computation through beam search\n"
          ],
          "name": "stdout"
        },
        {
          "output_type": "stream",
          "text": [
            "100% (49 of 49) |########################| Elapsed Time: 0:00:45 Time:  0:00:45\n"
          ],
          "name": "stderr"
        },
        {
          "output_type": "stream",
          "text": [
            "Average PER 0.8329181472817969\n",
            "Average loss : 3.8711295857721444\n",
            "-------------------\n",
            "\n",
            "Running epoch 23 / 80\n",
            "-------------------\n",
            "Training dataset :\n",
            "Average loss : 3.674356526090899.\n",
            "-------------------\n",
            "Validation dataset\n"
          ],
          "name": "stdout"
        },
        {
          "output_type": "stream",
          "text": [
            "\r                                                                               \r\rN/A% (0 of 49) |                         | Elapsed Time: 0:00:00 ETA:  --:--:--"
          ],
          "name": "stderr"
        },
        {
          "output_type": "stream",
          "text": [
            "Starting the PER computation through beam search\n"
          ],
          "name": "stdout"
        },
        {
          "output_type": "stream",
          "text": [
            "100% (49 of 49) |########################| Elapsed Time: 0:00:51 Time:  0:00:51\n"
          ],
          "name": "stderr"
        },
        {
          "output_type": "stream",
          "text": [
            "Average PER 0.8235607390324293\n",
            "Average loss : 3.749088209502551\n",
            "-------------------\n",
            "\n",
            "Running epoch 24 / 80\n",
            "-------------------\n",
            "Training dataset :\n",
            "Average loss : 3.6525592676555836.\n",
            "-------------------\n",
            "Validation dataset\n"
          ],
          "name": "stdout"
        },
        {
          "output_type": "stream",
          "text": [
            "\r                                                                               \r\rN/A% (0 of 49) |                         | Elapsed Time: 0:00:00 ETA:  --:--:--"
          ],
          "name": "stderr"
        },
        {
          "output_type": "stream",
          "text": [
            "Starting the PER computation through beam search\n"
          ],
          "name": "stdout"
        },
        {
          "output_type": "stream",
          "text": [
            "100% (49 of 49) |########################| Elapsed Time: 0:00:46 Time:  0:00:46\n"
          ],
          "name": "stderr"
        },
        {
          "output_type": "stream",
          "text": [
            "Average PER 0.8384732583733003\n",
            "Average loss : 3.863309081719846\n",
            "-------------------\n",
            "\n",
            "Running epoch 25 / 80\n",
            "-------------------\n",
            "Training dataset :\n",
            "Average loss : 3.669807880586037.\n",
            "-------------------\n",
            "Validation dataset\n"
          ],
          "name": "stdout"
        },
        {
          "output_type": "stream",
          "text": [
            "\r                                                                               \r\rN/A% (0 of 49) |                         | Elapsed Time: 0:00:00 ETA:  --:--:--"
          ],
          "name": "stderr"
        },
        {
          "output_type": "stream",
          "text": [
            "Epoch    25: reducing learning rate of group 0 to 2.0000e-04.\n",
            "Starting the PER computation through beam search\n"
          ],
          "name": "stdout"
        },
        {
          "output_type": "stream",
          "text": [
            "100% (49 of 49) |########################| Elapsed Time: 0:00:48 Time:  0:00:48\n"
          ],
          "name": "stderr"
        },
        {
          "output_type": "stream",
          "text": [
            "Average PER 0.8149168383411293\n",
            "Average loss : 3.73426907889697\n",
            "-------------------\n",
            "\n",
            "Running epoch 26 / 80\n",
            "-------------------\n",
            "Training dataset :\n",
            "Average loss : 3.561784005953762.\n",
            "-------------------\n",
            "Validation dataset\n"
          ],
          "name": "stdout"
        },
        {
          "output_type": "stream",
          "text": [
            "\r                                                                               \r\rN/A% (0 of 49) |                         | Elapsed Time: 0:00:00 ETA:  --:--:--"
          ],
          "name": "stderr"
        },
        {
          "output_type": "stream",
          "text": [
            "Starting the PER computation through beam search\n"
          ],
          "name": "stdout"
        },
        {
          "output_type": "stream",
          "text": [
            "100% (49 of 49) |########################| Elapsed Time: 0:00:48 Time:  0:00:48\n"
          ],
          "name": "stderr"
        },
        {
          "output_type": "stream",
          "text": [
            "Average PER 0.8106630073143422\n",
            "Average loss : 3.695334264210292\n",
            "-------------------\n",
            "\n",
            "Running epoch 27 / 80\n",
            "-------------------\n",
            "Training dataset :\n",
            "Average loss : 3.5621941447561327.\n",
            "-------------------\n",
            "Validation dataset\n"
          ],
          "name": "stdout"
        },
        {
          "output_type": "stream",
          "text": [
            "\r                                                                               \r\rN/A% (0 of 49) |                         | Elapsed Time: 0:00:00 ETA:  --:--:--"
          ],
          "name": "stderr"
        },
        {
          "output_type": "stream",
          "text": [
            "Starting the PER computation through beam search\n"
          ],
          "name": "stdout"
        },
        {
          "output_type": "stream",
          "text": [
            "100% (49 of 49) |########################| Elapsed Time: 0:00:51 Time:  0:00:51\n"
          ],
          "name": "stderr"
        },
        {
          "output_type": "stream",
          "text": [
            "Average PER 0.7812837024480325\n",
            "Average loss : 3.695034815340626\n",
            "-------------------\n",
            "\n",
            "Running epoch 28 / 80\n",
            "-------------------\n",
            "Training dataset :\n",
            "Average loss : 3.552366776017439.\n",
            "-------------------\n",
            "Validation dataset\n"
          ],
          "name": "stdout"
        },
        {
          "output_type": "stream",
          "text": [
            "\r                                                                               \r\rN/A% (0 of 49) |                         | Elapsed Time: 0:00:00 ETA:  --:--:--"
          ],
          "name": "stderr"
        },
        {
          "output_type": "stream",
          "text": [
            "Starting the PER computation through beam search\n"
          ],
          "name": "stdout"
        },
        {
          "output_type": "stream",
          "text": [
            "100% (49 of 49) |########################| Elapsed Time: 0:00:48 Time:  0:00:48\n"
          ],
          "name": "stderr"
        },
        {
          "output_type": "stream",
          "text": [
            "Average PER 0.8131340944103168\n",
            "Average loss : 3.6987548701617183\n",
            "-------------------\n",
            "\n",
            "Running epoch 29 / 80\n",
            "-------------------\n",
            "Training dataset :\n",
            "Average loss : 3.558631740453589.\n",
            "-------------------\n",
            "Validation dataset\n"
          ],
          "name": "stdout"
        },
        {
          "output_type": "stream",
          "text": [
            "\r                                                                               \r\rN/A% (0 of 49) |                         | Elapsed Time: 0:00:00 ETA:  --:--:--"
          ],
          "name": "stderr"
        },
        {
          "output_type": "stream",
          "text": [
            "Starting the PER computation through beam search\n"
          ],
          "name": "stdout"
        },
        {
          "output_type": "stream",
          "text": [
            "100% (49 of 49) |########################| Elapsed Time: 0:00:48 Time:  0:00:48\n"
          ],
          "name": "stderr"
        },
        {
          "output_type": "stream",
          "text": [
            "Average PER 0.8079171274339355\n",
            "Average loss : 3.6774789605821883\n",
            "-------------------\n",
            "\n",
            "Running epoch 30 / 80\n",
            "-------------------\n",
            "Training dataset :\n",
            "Average loss : 3.54898564688122.\n",
            "-------------------\n",
            "Validation dataset\n"
          ],
          "name": "stdout"
        },
        {
          "output_type": "stream",
          "text": [
            "\r                                                                               \r\rN/A% (0 of 49) |                         | Elapsed Time: 0:00:00 ETA:  --:--:--"
          ],
          "name": "stderr"
        },
        {
          "output_type": "stream",
          "text": [
            "Starting the PER computation through beam search\n"
          ],
          "name": "stdout"
        },
        {
          "output_type": "stream",
          "text": [
            "100% (49 of 49) |########################| Elapsed Time: 0:00:49 Time:  0:00:49\n"
          ],
          "name": "stderr"
        },
        {
          "output_type": "stream",
          "text": [
            "Average PER 0.781185907773097\n",
            "Average loss : 3.7003912098553715\n",
            "-------------------\n",
            "\n",
            "Running epoch 31 / 80\n",
            "-------------------\n",
            "Training dataset :\n",
            "Average loss : 3.551024154245702.\n",
            "-------------------\n",
            "Validation dataset\n"
          ],
          "name": "stdout"
        },
        {
          "output_type": "stream",
          "text": [
            "\r                                                                               \r\rN/A% (0 of 49) |                         | Elapsed Time: 0:00:00 ETA:  --:--:--"
          ],
          "name": "stderr"
        },
        {
          "output_type": "stream",
          "text": [
            "Starting the PER computation through beam search\n"
          ],
          "name": "stdout"
        },
        {
          "output_type": "stream",
          "text": [
            "100% (49 of 49) |########################| Elapsed Time: 0:00:47 Time:  0:00:47\n"
          ],
          "name": "stderr"
        },
        {
          "output_type": "stream",
          "text": [
            "Average PER 0.8227109652205562\n",
            "Average loss : 3.6826385867838956\n",
            "-------------------\n",
            "\n",
            "Running epoch 32 / 80\n",
            "-------------------\n",
            "Training dataset :\n",
            "Average loss : 3.5569422008427045.\n",
            "-------------------\n",
            "Validation dataset\n"
          ],
          "name": "stdout"
        },
        {
          "output_type": "stream",
          "text": [
            "\r                                                                               \r\rN/A% (0 of 49) |                         | Elapsed Time: 0:00:00 ETA:  --:--:--"
          ],
          "name": "stderr"
        },
        {
          "output_type": "stream",
          "text": [
            "Starting the PER computation through beam search\n"
          ],
          "name": "stdout"
        },
        {
          "output_type": "stream",
          "text": [
            "100% (49 of 49) |########################| Elapsed Time: 0:00:47 Time:  0:00:47\n"
          ],
          "name": "stderr"
        },
        {
          "output_type": "stream",
          "text": [
            "Average PER 0.81455560369967\n",
            "Average loss : 3.6778607027871266\n",
            "-------------------\n",
            "\n",
            "Running epoch 33 / 80\n",
            "-------------------\n",
            "Training dataset :\n",
            "Average loss : 3.55246086703002.\n",
            "-------------------\n",
            "Validation dataset\n"
          ],
          "name": "stdout"
        },
        {
          "output_type": "stream",
          "text": [
            "\r                                                                               \r\rN/A% (0 of 49) |                         | Elapsed Time: 0:00:00 ETA:  --:--:--"
          ],
          "name": "stderr"
        },
        {
          "output_type": "stream",
          "text": [
            "Starting the PER computation through beam search\n"
          ],
          "name": "stdout"
        },
        {
          "output_type": "stream",
          "text": [
            "100% (49 of 49) |########################| Elapsed Time: 0:00:46 Time:  0:00:46\n"
          ],
          "name": "stderr"
        },
        {
          "output_type": "stream",
          "text": [
            "Average PER 0.8068906641772273\n",
            "Average loss : 3.677312335189508\n",
            "-------------------\n",
            "\n",
            "Running epoch 34 / 80\n",
            "-------------------\n",
            "Training dataset :\n",
            "Average loss : 3.550132932857096.\n",
            "-------------------\n",
            "Validation dataset\n"
          ],
          "name": "stdout"
        },
        {
          "output_type": "stream",
          "text": [
            "\r                                                                               \r\rN/A% (0 of 49) |                         | Elapsed Time: 0:00:00 ETA:  --:--:--"
          ],
          "name": "stderr"
        },
        {
          "output_type": "stream",
          "text": [
            "Starting the PER computation through beam search\n"
          ],
          "name": "stdout"
        },
        {
          "output_type": "stream",
          "text": [
            "100% (49 of 49) |########################| Elapsed Time: 0:00:47 Time:  0:00:47\n"
          ],
          "name": "stderr"
        },
        {
          "output_type": "stream",
          "text": [
            "Average PER 0.8289309140491516\n",
            "Average loss : 3.710183673975419\n",
            "-------------------\n",
            "\n",
            "Running epoch 35 / 80\n",
            "-------------------\n",
            "Training dataset :\n",
            "Average loss : 3.55128842819738.\n",
            "-------------------\n",
            "Validation dataset\n"
          ],
          "name": "stdout"
        },
        {
          "output_type": "stream",
          "text": [
            "\r                                                                               \r\rN/A% (0 of 49) |                         | Elapsed Time: 0:00:00 ETA:  --:--:--"
          ],
          "name": "stderr"
        },
        {
          "output_type": "stream",
          "text": [
            "Epoch    35: reducing learning rate of group 0 to 4.0000e-05.\n",
            "Starting the PER computation through beam search\n"
          ],
          "name": "stdout"
        },
        {
          "output_type": "stream",
          "text": [
            "100% (49 of 49) |########################| Elapsed Time: 0:00:48 Time:  0:00:48\n"
          ],
          "name": "stderr"
        },
        {
          "output_type": "stream",
          "text": [
            "Average PER 0.8038470715841144\n",
            "Average loss : 3.678235808197333\n",
            "-------------------\n",
            "\n",
            "Running epoch 36 / 80\n",
            "-------------------\n",
            "Training dataset :\n",
            "Average loss : 3.528353746307412.\n",
            "-------------------\n",
            "Validation dataset\n"
          ],
          "name": "stdout"
        },
        {
          "output_type": "stream",
          "text": [
            "\r                                                                               \r\rN/A% (0 of 49) |                         | Elapsed Time: 0:00:00 ETA:  --:--:--"
          ],
          "name": "stderr"
        },
        {
          "output_type": "stream",
          "text": [
            "Starting the PER computation through beam search\n"
          ],
          "name": "stdout"
        },
        {
          "output_type": "stream",
          "text": [
            "100% (49 of 49) |########################| Elapsed Time: 0:00:48 Time:  0:00:48\n"
          ],
          "name": "stderr"
        },
        {
          "output_type": "stream",
          "text": [
            "Average PER 0.8098258601200616\n",
            "Average loss : 3.6717075620378767\n",
            "-------------------\n",
            "\n",
            "Running epoch 37 / 80\n",
            "-------------------\n",
            "Training dataset :\n",
            "Average loss : 3.523666632994441.\n",
            "-------------------\n",
            "Validation dataset\n"
          ],
          "name": "stdout"
        },
        {
          "output_type": "stream",
          "text": [
            "\r                                                                               \r\rN/A% (0 of 49) |                         | Elapsed Time: 0:00:00 ETA:  --:--:--"
          ],
          "name": "stderr"
        },
        {
          "output_type": "stream",
          "text": [
            "Starting the PER computation through beam search\n"
          ],
          "name": "stdout"
        },
        {
          "output_type": "stream",
          "text": [
            "100% (49 of 49) |########################| Elapsed Time: 0:00:47 Time:  0:00:47\n"
          ],
          "name": "stderr"
        },
        {
          "output_type": "stream",
          "text": [
            "Average PER 0.8164703837199323\n",
            "Average loss : 3.6787517995250467\n",
            "-------------------\n",
            "\n",
            "Running epoch 38 / 80\n",
            "-------------------\n",
            "Training dataset :\n",
            "Average loss : 3.51395558097587.\n",
            "-------------------\n",
            "Validation dataset\n"
          ],
          "name": "stdout"
        },
        {
          "output_type": "stream",
          "text": [
            "\r                                                                               \r\rN/A% (0 of 49) |                         | Elapsed Time: 0:00:00 ETA:  --:--:--"
          ],
          "name": "stderr"
        },
        {
          "output_type": "stream",
          "text": [
            "Starting the PER computation through beam search\n"
          ],
          "name": "stdout"
        },
        {
          "output_type": "stream",
          "text": [
            "100% (49 of 49) |########################| Elapsed Time: 0:00:47 Time:  0:00:47\n"
          ],
          "name": "stderr"
        },
        {
          "output_type": "stream",
          "text": [
            "Average PER 0.813343358807571\n",
            "Average loss : 3.672595535005842\n",
            "-------------------\n",
            "\n",
            "Running epoch 39 / 80\n",
            "-------------------\n",
            "Training dataset :\n",
            "Average loss : 3.5240296729041725.\n",
            "-------------------\n",
            "Validation dataset\n"
          ],
          "name": "stdout"
        },
        {
          "output_type": "stream",
          "text": [
            "\r                                                                               \r\rN/A% (0 of 49) |                         | Elapsed Time: 0:00:00 ETA:  --:--:--"
          ],
          "name": "stderr"
        },
        {
          "output_type": "stream",
          "text": [
            "Starting the PER computation through beam search\n"
          ],
          "name": "stdout"
        },
        {
          "output_type": "stream",
          "text": [
            "100% (49 of 49) |########################| Elapsed Time: 0:00:48 Time:  0:00:48\n"
          ],
          "name": "stderr"
        },
        {
          "output_type": "stream",
          "text": [
            "Average PER 0.8053368191531358\n",
            "Average loss : 3.6728606661971734\n",
            "-------------------\n",
            "\n",
            "Running epoch 40 / 80\n",
            "-------------------\n",
            "Training dataset :\n",
            "Average loss : 3.5226182967955224.\n",
            "-------------------\n",
            "Validation dataset\n"
          ],
          "name": "stdout"
        },
        {
          "output_type": "stream",
          "text": [
            "\r                                                                               \r\rN/A% (0 of 49) |                         | Elapsed Time: 0:00:00 ETA:  --:--:--"
          ],
          "name": "stderr"
        },
        {
          "output_type": "stream",
          "text": [
            "Starting the PER computation through beam search\n"
          ],
          "name": "stdout"
        },
        {
          "output_type": "stream",
          "text": [
            "100% (49 of 49) |########################| Elapsed Time: 0:00:48 Time:  0:00:48\n"
          ],
          "name": "stderr"
        },
        {
          "output_type": "stream",
          "text": [
            "Average PER 0.8152489476495431\n",
            "Average loss : 3.6792584584683787\n",
            "-------------------\n",
            "\n",
            "Running epoch 41 / 80\n",
            "-------------------\n",
            "Training dataset :\n",
            "Average loss : 3.52745342921968.\n",
            "-------------------\n",
            "Validation dataset\n"
          ],
          "name": "stdout"
        },
        {
          "output_type": "stream",
          "text": [
            "\r                                                                               \r\rN/A% (0 of 49) |                         | Elapsed Time: 0:00:00 ETA:  --:--:--"
          ],
          "name": "stderr"
        },
        {
          "output_type": "stream",
          "text": [
            "Starting the PER computation through beam search\n"
          ],
          "name": "stdout"
        },
        {
          "output_type": "stream",
          "text": [
            "100% (49 of 49) |########################| Elapsed Time: 0:00:48 Time:  0:00:48\n"
          ],
          "name": "stderr"
        },
        {
          "output_type": "stream",
          "text": [
            "Average PER 0.8075836483435418\n",
            "Average loss : 3.6720701139800402\n",
            "-------------------\n",
            "\n",
            "Running epoch 42 / 80\n",
            "-------------------\n",
            "Training dataset :\n",
            "Average loss : 3.5225234225809423.\n",
            "-------------------\n",
            "Validation dataset\n"
          ],
          "name": "stdout"
        },
        {
          "output_type": "stream",
          "text": [
            "\r                                                                               \r\rN/A% (0 of 49) |                         | Elapsed Time: 0:00:00 ETA:  --:--:--"
          ],
          "name": "stderr"
        },
        {
          "output_type": "stream",
          "text": [
            "Starting the PER computation through beam search\n"
          ],
          "name": "stdout"
        },
        {
          "output_type": "stream",
          "text": [
            "100% (49 of 49) |########################| Elapsed Time: 0:00:48 Time:  0:00:48\n"
          ],
          "name": "stderr"
        },
        {
          "output_type": "stream",
          "text": [
            "Average PER 0.8027028748236278\n",
            "Average loss : 3.670502487494021\n",
            "-------------------\n",
            "\n",
            "Running epoch 43 / 80\n",
            "-------------------\n",
            "Training dataset :\n",
            "Average loss : 3.527396695911126.\n",
            "-------------------\n",
            "Validation dataset\n"
          ],
          "name": "stdout"
        },
        {
          "output_type": "stream",
          "text": [
            "\r                                                                               \r\rN/A% (0 of 49) |                         | Elapsed Time: 0:00:00 ETA:  --:--:--"
          ],
          "name": "stderr"
        },
        {
          "output_type": "stream",
          "text": [
            "Starting the PER computation through beam search\n"
          ],
          "name": "stdout"
        },
        {
          "output_type": "stream",
          "text": [
            "100% (49 of 49) |########################| Elapsed Time: 0:00:47 Time:  0:00:47\n"
          ],
          "name": "stderr"
        },
        {
          "output_type": "stream",
          "text": [
            "Average PER 0.8041581922098027\n",
            "Average loss : 3.668104721575367\n",
            "-------------------\n",
            "\n",
            "Running epoch 44 / 80\n",
            "-------------------\n",
            "Training dataset :\n",
            "Average loss : 3.5247274901120718.\n",
            "-------------------\n",
            "Validation dataset\n"
          ],
          "name": "stdout"
        },
        {
          "output_type": "stream",
          "text": [
            "\r                                                                               \r\rN/A% (0 of 49) |                         | Elapsed Time: 0:00:00 ETA:  --:--:--"
          ],
          "name": "stderr"
        },
        {
          "output_type": "stream",
          "text": [
            "Starting the PER computation through beam search\n"
          ],
          "name": "stdout"
        },
        {
          "output_type": "stream",
          "text": [
            "100% (49 of 49) |########################| Elapsed Time: 0:00:47 Time:  0:00:47\n"
          ],
          "name": "stderr"
        },
        {
          "output_type": "stream",
          "text": [
            "Average PER 0.8074058934498693\n",
            "Average loss : 3.6722177340059865\n",
            "-------------------\n",
            "\n",
            "Running epoch 45 / 80\n",
            "-------------------\n",
            "Training dataset :\n",
            "Average loss : 3.5242445311170196.\n",
            "-------------------\n",
            "Validation dataset\n"
          ],
          "name": "stdout"
        },
        {
          "output_type": "stream",
          "text": [
            "\r                                                                               \r\rN/A% (0 of 49) |                         | Elapsed Time: 0:00:00 ETA:  --:--:--"
          ],
          "name": "stderr"
        },
        {
          "output_type": "stream",
          "text": [
            "Starting the PER computation through beam search\n"
          ],
          "name": "stdout"
        },
        {
          "output_type": "stream",
          "text": [
            "100% (49 of 49) |########################| Elapsed Time: 0:00:46 Time:  0:00:46\n"
          ],
          "name": "stderr"
        },
        {
          "output_type": "stream",
          "text": [
            "Average PER 0.8218346320142379\n",
            "Average loss : 3.677501931482432\n",
            "-------------------\n",
            "\n",
            "Running epoch 46 / 80\n",
            "-------------------\n",
            "Training dataset :\n",
            "Average loss : 3.522743852387251.\n",
            "-------------------\n",
            "Validation dataset\n"
          ],
          "name": "stdout"
        },
        {
          "output_type": "stream",
          "text": [
            "\r                                                                               \r\rN/A% (0 of 49) |                         | Elapsed Time: 0:00:00 ETA:  --:--:--"
          ],
          "name": "stderr"
        },
        {
          "output_type": "stream",
          "text": [
            "Starting the PER computation through beam search\n"
          ],
          "name": "stdout"
        },
        {
          "output_type": "stream",
          "text": [
            "100% (49 of 49) |########################| Elapsed Time: 0:00:46 Time:  0:00:46\n"
          ],
          "name": "stderr"
        },
        {
          "output_type": "stream",
          "text": [
            "Average PER 0.8228273837442107\n",
            "Average loss : 3.6799447682439066\n",
            "-------------------\n",
            "\n",
            "Running epoch 47 / 80\n",
            "-------------------\n",
            "Training dataset :\n",
            "Average loss : 3.533651650406932.\n",
            "-------------------\n",
            "Validation dataset\n"
          ],
          "name": "stdout"
        },
        {
          "output_type": "stream",
          "text": [
            "\r                                                                               \r\rN/A% (0 of 49) |                         | Elapsed Time: 0:00:00 ETA:  --:--:--"
          ],
          "name": "stderr"
        },
        {
          "output_type": "stream",
          "text": [
            "Starting the PER computation through beam search\n"
          ],
          "name": "stdout"
        },
        {
          "output_type": "stream",
          "text": [
            "100% (49 of 49) |########################| Elapsed Time: 0:00:46 Time:  0:00:46\n"
          ],
          "name": "stderr"
        },
        {
          "output_type": "stream",
          "text": [
            "Average PER 0.8191996409650845\n",
            "Average loss : 3.67479031426566\n",
            "-------------------\n",
            "\n",
            "Running epoch 48 / 80\n",
            "-------------------\n",
            "Training dataset :\n",
            "Average loss : 3.5202110790417698.\n",
            "-------------------\n",
            "Validation dataset\n"
          ],
          "name": "stdout"
        },
        {
          "output_type": "stream",
          "text": [
            "\r                                                                               \r\rN/A% (0 of 49) |                         | Elapsed Time: 0:00:00 ETA:  --:--:--"
          ],
          "name": "stderr"
        },
        {
          "output_type": "stream",
          "text": [
            "Starting the PER computation through beam search\n"
          ],
          "name": "stdout"
        },
        {
          "output_type": "stream",
          "text": [
            "100% (49 of 49) |########################| Elapsed Time: 0:00:47 Time:  0:00:47\n"
          ],
          "name": "stderr"
        },
        {
          "output_type": "stream",
          "text": [
            "Average PER 0.8200275757147051\n",
            "Average loss : 3.6725326849489797\n",
            "-------------------\n",
            "\n",
            "Running epoch 49 / 80\n",
            "-------------------\n",
            "Training dataset :\n",
            "Average loss : 3.5290003793536857.\n",
            "-------------------\n",
            "Validation dataset\n"
          ],
          "name": "stdout"
        },
        {
          "output_type": "stream",
          "text": [
            "\r                                                                               \r\rN/A% (0 of 49) |                         | Elapsed Time: 0:00:00 ETA:  --:--:--"
          ],
          "name": "stderr"
        },
        {
          "output_type": "stream",
          "text": [
            "Epoch    49: reducing learning rate of group 0 to 8.0000e-06.\n",
            "Starting the PER computation through beam search\n"
          ],
          "name": "stdout"
        },
        {
          "output_type": "stream",
          "text": [
            "100% (49 of 49) |########################| Elapsed Time: 0:00:46 Time:  0:00:46\n"
          ],
          "name": "stderr"
        },
        {
          "output_type": "stream",
          "text": [
            "Average PER 0.8240965278346147\n",
            "Average loss : 3.682245434546957\n",
            "-------------------\n",
            "\n",
            "Running epoch 50 / 80\n",
            "-------------------\n",
            "Training dataset :\n",
            "Average loss : 3.5180889504556436.\n",
            "-------------------\n",
            "Validation dataset\n"
          ],
          "name": "stdout"
        },
        {
          "output_type": "stream",
          "text": [
            "\r                                                                               \r\rN/A% (0 of 49) |                         | Elapsed Time: 0:00:00 ETA:  --:--:--"
          ],
          "name": "stderr"
        },
        {
          "output_type": "stream",
          "text": [
            "Starting the PER computation through beam search\n"
          ],
          "name": "stdout"
        },
        {
          "output_type": "stream",
          "text": [
            "100% (49 of 49) |########################| Elapsed Time: 0:00:47 Time:  0:00:47\n"
          ],
          "name": "stderr"
        },
        {
          "output_type": "stream",
          "text": [
            "Average PER 0.8150730991932671\n",
            "Average loss : 3.6698631461785762\n",
            "-------------------\n",
            "\n",
            "Running epoch 51 / 80\n",
            "-------------------\n",
            "Training dataset :\n",
            "Average loss : 3.5226071481486314.\n",
            "-------------------\n",
            "Validation dataset\n"
          ],
          "name": "stdout"
        },
        {
          "output_type": "stream",
          "text": [
            "\r                                                                               \r\rN/A% (0 of 49) |                         | Elapsed Time: 0:00:00 ETA:  --:--:--"
          ],
          "name": "stderr"
        },
        {
          "output_type": "stream",
          "text": [
            "Starting the PER computation through beam search\n"
          ],
          "name": "stdout"
        },
        {
          "output_type": "stream",
          "text": [
            "100% (49 of 49) |########################| Elapsed Time: 0:00:46 Time:  0:00:46\n"
          ],
          "name": "stderr"
        },
        {
          "output_type": "stream",
          "text": [
            "Average PER 0.8172515622350776\n",
            "Average loss : 3.6699948408165755\n",
            "-------------------\n",
            "\n",
            "Running epoch 52 / 80\n",
            "-------------------\n",
            "Training dataset :\n",
            "Average loss : 3.5248227167978845.\n",
            "-------------------\n",
            "Validation dataset\n"
          ],
          "name": "stdout"
        },
        {
          "output_type": "stream",
          "text": [
            "\r                                                                               \r\rN/A% (0 of 49) |                         | Elapsed Time: 0:00:00 ETA:  --:--:--"
          ],
          "name": "stderr"
        },
        {
          "output_type": "stream",
          "text": [
            "Starting the PER computation through beam search\n"
          ],
          "name": "stdout"
        },
        {
          "output_type": "stream",
          "text": [
            "100% (49 of 49) |########################| Elapsed Time: 0:00:47 Time:  0:00:47\n"
          ],
          "name": "stderr"
        },
        {
          "output_type": "stream",
          "text": [
            "Average PER 0.8199995969528122\n",
            "Average loss : 3.6728284261664568\n",
            "-------------------\n",
            "\n",
            "Running epoch 53 / 80\n",
            "-------------------\n",
            "Training dataset :\n",
            "Average loss : 3.5147703919398574.\n",
            "-------------------\n",
            "Validation dataset\n"
          ],
          "name": "stdout"
        },
        {
          "output_type": "stream",
          "text": [
            "\r                                                                               \r\rN/A% (0 of 49) |                         | Elapsed Time: 0:00:00 ETA:  --:--:--"
          ],
          "name": "stderr"
        },
        {
          "output_type": "stream",
          "text": [
            "Starting the PER computation through beam search\n"
          ],
          "name": "stdout"
        },
        {
          "output_type": "stream",
          "text": [
            "100% (49 of 49) |########################| Elapsed Time: 0:00:46 Time:  0:00:46\n"
          ],
          "name": "stderr"
        },
        {
          "output_type": "stream",
          "text": [
            "Average PER 0.8167290024285551\n",
            "Average loss : 3.673365135582126\n",
            "-------------------\n",
            "\n",
            "Running epoch 54 / 80\n",
            "-------------------\n",
            "Training dataset :\n",
            "Average loss : 3.5166070879870697.\n",
            "-------------------\n",
            "Validation dataset\n"
          ],
          "name": "stdout"
        },
        {
          "output_type": "stream",
          "text": [
            "\r                                                                               \r\rN/A% (0 of 49) |                         | Elapsed Time: 0:00:00 ETA:  --:--:--"
          ],
          "name": "stderr"
        },
        {
          "output_type": "stream",
          "text": [
            "Starting the PER computation through beam search\n"
          ],
          "name": "stdout"
        },
        {
          "output_type": "stream",
          "text": [
            "100% (49 of 49) |########################| Elapsed Time: 0:00:47 Time:  0:00:47\n"
          ],
          "name": "stderr"
        },
        {
          "output_type": "stream",
          "text": [
            "Average PER 0.8172477001413715\n",
            "Average loss : 3.6715814824006996\n",
            "-------------------\n",
            "\n",
            "Running epoch 55 / 80\n",
            "-------------------\n",
            "Training dataset :\n",
            "Average loss : 3.516848569607917.\n",
            "-------------------\n",
            "Validation dataset\n"
          ],
          "name": "stdout"
        },
        {
          "output_type": "stream",
          "text": [
            "\r                                                                               \r\rN/A% (0 of 49) |                         | Elapsed Time: 0:00:00 ETA:  --:--:--"
          ],
          "name": "stderr"
        },
        {
          "output_type": "stream",
          "text": [
            "Epoch    55: reducing learning rate of group 0 to 1.6000e-06.\n",
            "Starting the PER computation through beam search\n"
          ],
          "name": "stdout"
        },
        {
          "output_type": "stream",
          "text": [
            "100% (49 of 49) |########################| Elapsed Time: 0:00:47 Time:  0:00:47\n"
          ],
          "name": "stderr"
        },
        {
          "output_type": "stream",
          "text": [
            "Average PER 0.8202819299172844\n",
            "Average loss : 3.6709189998860263\n",
            "-------------------\n",
            "\n",
            "Running epoch 56 / 80\n",
            "-------------------\n",
            "Training dataset :\n",
            "Average loss : 3.5167478447348715.\n",
            "-------------------\n",
            "Validation dataset\n"
          ],
          "name": "stdout"
        },
        {
          "output_type": "stream",
          "text": [
            "\r                                                                               \r\rN/A% (0 of 49) |                         | Elapsed Time: 0:00:00 ETA:  --:--:--"
          ],
          "name": "stderr"
        },
        {
          "output_type": "stream",
          "text": [
            "Starting the PER computation through beam search\n"
          ],
          "name": "stdout"
        },
        {
          "output_type": "stream",
          "text": [
            "100% (49 of 49) |########################| Elapsed Time: 0:00:47 Time:  0:00:47\n"
          ],
          "name": "stderr"
        },
        {
          "output_type": "stream",
          "text": [
            "Average PER 0.8153566063351864\n",
            "Average loss : 3.6700233002098237\n",
            "-------------------\n",
            "\n",
            "Running epoch 57 / 80\n",
            "-------------------\n",
            "Training dataset :\n",
            "Average loss : 3.5152713318210824.\n",
            "-------------------\n",
            "Validation dataset\n"
          ],
          "name": "stdout"
        },
        {
          "output_type": "stream",
          "text": [
            "\r                                                                               \r\rN/A% (0 of 49) |                         | Elapsed Time: 0:00:00 ETA:  --:--:--"
          ],
          "name": "stderr"
        },
        {
          "output_type": "stream",
          "text": [
            "Starting the PER computation through beam search\n"
          ],
          "name": "stdout"
        },
        {
          "output_type": "stream",
          "text": [
            "100% (49 of 49) |########################| Elapsed Time: 0:00:47 Time:  0:00:47\n"
          ],
          "name": "stderr"
        },
        {
          "output_type": "stream",
          "text": [
            "Average PER 0.8157369201410611\n",
            "Average loss : 3.669901434256106\n",
            "-------------------\n",
            "\n",
            "Running epoch 58 / 80\n",
            "-------------------\n",
            "Training dataset :\n",
            "Average loss : 3.5125519574143502.\n",
            "-------------------\n",
            "Validation dataset\n"
          ],
          "name": "stdout"
        },
        {
          "output_type": "stream",
          "text": [
            "\r                                                                               \r\rN/A% (0 of 49) |                         | Elapsed Time: 0:00:00 ETA:  --:--:--"
          ],
          "name": "stderr"
        },
        {
          "output_type": "stream",
          "text": [
            "Starting the PER computation through beam search\n"
          ],
          "name": "stdout"
        },
        {
          "output_type": "stream",
          "text": [
            "100% (49 of 49) |########################| Elapsed Time: 0:00:47 Time:  0:00:47\n"
          ],
          "name": "stderr"
        },
        {
          "output_type": "stream",
          "text": [
            "Average PER 0.8169097610947839\n",
            "Average loss : 3.6698907102857317\n",
            "-------------------\n",
            "\n",
            "Running epoch 59 / 80\n",
            "-------------------\n",
            "Training dataset :\n",
            "Average loss : 3.514064581946259.\n",
            "-------------------\n",
            "Validation dataset\n"
          ],
          "name": "stdout"
        },
        {
          "output_type": "stream",
          "text": [
            "\r                                                                               \r\rN/A% (0 of 49) |                         | Elapsed Time: 0:00:00 ETA:  --:--:--"
          ],
          "name": "stderr"
        },
        {
          "output_type": "stream",
          "text": [
            "Starting the PER computation through beam search\n"
          ],
          "name": "stdout"
        },
        {
          "output_type": "stream",
          "text": [
            "100% (49 of 49) |########################| Elapsed Time: 0:00:48 Time:  0:00:48\n"
          ],
          "name": "stderr"
        },
        {
          "output_type": "stream",
          "text": [
            "Average PER 0.8161386690646489\n",
            "Average loss : 3.6694022246769498\n",
            "-------------------\n",
            "\n",
            "Running epoch 60 / 80\n",
            "-------------------\n",
            "Training dataset :\n",
            "Average loss : 3.5178153696860974.\n",
            "-------------------\n",
            "Validation dataset\n"
          ],
          "name": "stdout"
        },
        {
          "output_type": "stream",
          "text": [
            "\r                                                                               \r\rN/A% (0 of 49) |                         | Elapsed Time: 0:00:00 ETA:  --:--:--"
          ],
          "name": "stderr"
        },
        {
          "output_type": "stream",
          "text": [
            "Starting the PER computation through beam search\n"
          ],
          "name": "stdout"
        },
        {
          "output_type": "stream",
          "text": [
            "100% (49 of 49) |########################| Elapsed Time: 0:00:47 Time:  0:00:47\n"
          ],
          "name": "stderr"
        },
        {
          "output_type": "stream",
          "text": [
            "Average PER 0.8153956643013018\n",
            "Average loss : 3.670129357552042\n",
            "-------------------\n",
            "\n",
            "Running epoch 61 / 80\n",
            "-------------------\n",
            "Training dataset :\n",
            "Average loss : 3.515280526406286.\n",
            "-------------------\n",
            "Validation dataset\n"
          ],
          "name": "stdout"
        },
        {
          "output_type": "stream",
          "text": [
            "\r                                                                               \r\rN/A% (0 of 49) |                         | Elapsed Time: 0:00:00 ETA:  --:--:--"
          ],
          "name": "stderr"
        },
        {
          "output_type": "stream",
          "text": [
            "Epoch    61: reducing learning rate of group 0 to 3.2000e-07.\n",
            "Starting the PER computation through beam search\n"
          ],
          "name": "stdout"
        },
        {
          "output_type": "stream",
          "text": [
            "100% (49 of 49) |########################| Elapsed Time: 0:00:47 Time:  0:00:47\n"
          ],
          "name": "stderr"
        },
        {
          "output_type": "stream",
          "text": [
            "Average PER 0.8162379270656449\n",
            "Average loss : 3.669950227348172\n",
            "-------------------\n",
            "\n",
            "Running epoch 62 / 80\n",
            "-------------------\n",
            "Training dataset :\n",
            "Average loss : 3.5071883146999445.\n",
            "-------------------\n",
            "Validation dataset\n"
          ],
          "name": "stdout"
        },
        {
          "output_type": "stream",
          "text": [
            "\r                                                                               \r\rN/A% (0 of 49) |                         | Elapsed Time: 0:00:00 ETA:  --:--:--"
          ],
          "name": "stderr"
        },
        {
          "output_type": "stream",
          "text": [
            "Starting the PER computation through beam search\n"
          ],
          "name": "stdout"
        },
        {
          "output_type": "stream",
          "text": [
            "100% (49 of 49) |########################| Elapsed Time: 0:00:47 Time:  0:00:47\n"
          ],
          "name": "stderr"
        },
        {
          "output_type": "stream",
          "text": [
            "Average PER 0.8152201952073134\n",
            "Average loss : 3.6699189117976596\n",
            "-------------------\n",
            "\n",
            "Running epoch 63 / 80\n",
            "-------------------\n",
            "Training dataset :\n",
            "Average loss : 3.5163517586754174.\n",
            "-------------------\n",
            "Validation dataset\n"
          ],
          "name": "stdout"
        },
        {
          "output_type": "stream",
          "text": [
            "\r                                                                               \r\rN/A% (0 of 49) |                         | Elapsed Time: 0:00:00 ETA:  --:--:--"
          ],
          "name": "stderr"
        },
        {
          "output_type": "stream",
          "text": [
            "Starting the PER computation through beam search\n"
          ],
          "name": "stdout"
        },
        {
          "output_type": "stream",
          "text": [
            "100% (49 of 49) |########################| Elapsed Time: 0:00:47 Time:  0:00:47\n"
          ],
          "name": "stderr"
        },
        {
          "output_type": "stream",
          "text": [
            "Average PER 0.8153826285097708\n",
            "Average loss : 3.6698810178406385\n",
            "-------------------\n",
            "\n",
            "Running epoch 64 / 80\n",
            "-------------------\n",
            "Training dataset :\n",
            "Average loss : 3.5177293958251408.\n",
            "-------------------\n",
            "Validation dataset\n"
          ],
          "name": "stdout"
        },
        {
          "output_type": "stream",
          "text": [
            "\r                                                                               \r\rN/A% (0 of 49) |                         | Elapsed Time: 0:00:00 ETA:  --:--:--"
          ],
          "name": "stderr"
        },
        {
          "output_type": "stream",
          "text": [
            "Starting the PER computation through beam search\n"
          ],
          "name": "stdout"
        },
        {
          "output_type": "stream",
          "text": [
            "100% (49 of 49) |########################| Elapsed Time: 0:00:47 Time:  0:00:47\n"
          ],
          "name": "stderr"
        },
        {
          "output_type": "stream",
          "text": [
            "Average PER 0.8159084091210019\n",
            "Average loss : 3.66978044412574\n",
            "-------------------\n",
            "\n",
            "Running epoch 65 / 80\n",
            "-------------------\n",
            "Training dataset :\n",
            "Average loss : 3.5188421839066133.\n",
            "-------------------\n",
            "Validation dataset\n"
          ],
          "name": "stdout"
        },
        {
          "output_type": "stream",
          "text": [
            "\r                                                                               \r\rN/A% (0 of 49) |                         | Elapsed Time: 0:00:00 ETA:  --:--:--"
          ],
          "name": "stderr"
        },
        {
          "output_type": "stream",
          "text": [
            "Starting the PER computation through beam search\n"
          ],
          "name": "stdout"
        },
        {
          "output_type": "stream",
          "text": [
            "100% (49 of 49) |########################| Elapsed Time: 0:00:47 Time:  0:00:47\n"
          ],
          "name": "stderr"
        },
        {
          "output_type": "stream",
          "text": [
            "Average PER 0.816439016737605\n",
            "Average loss : 3.669826702195771\n",
            "-------------------\n",
            "\n",
            "Running epoch 66 / 80\n",
            "-------------------\n",
            "Training dataset :\n",
            "Average loss : 3.513146505404368.\n",
            "-------------------\n",
            "Validation dataset\n"
          ],
          "name": "stdout"
        },
        {
          "output_type": "stream",
          "text": [
            "\r                                                                               \r\rN/A% (0 of 49) |                         | Elapsed Time: 0:00:00 ETA:  --:--:--"
          ],
          "name": "stderr"
        },
        {
          "output_type": "stream",
          "text": [
            "Starting the PER computation through beam search\n"
          ],
          "name": "stdout"
        },
        {
          "output_type": "stream",
          "text": [
            "100% (49 of 49) |########################| Elapsed Time: 0:00:47 Time:  0:00:47\n"
          ],
          "name": "stderr"
        },
        {
          "output_type": "stream",
          "text": [
            "Average PER 0.8150009423902675\n",
            "Average loss : 3.6697846480778287\n",
            "-------------------\n",
            "\n",
            "Running epoch 67 / 80\n",
            "-------------------\n",
            "Training dataset :\n",
            "Average loss : 3.5138028474861125.\n",
            "-------------------\n",
            "Validation dataset\n"
          ],
          "name": "stdout"
        },
        {
          "output_type": "stream",
          "text": [
            "\r                                                                               \r\rN/A% (0 of 49) |                         | Elapsed Time: 0:00:00 ETA:  --:--:--"
          ],
          "name": "stderr"
        },
        {
          "output_type": "stream",
          "text": [
            "Epoch    67: reducing learning rate of group 0 to 6.4000e-08.\n",
            "Starting the PER computation through beam search\n"
          ],
          "name": "stdout"
        },
        {
          "output_type": "stream",
          "text": [
            "100% (49 of 49) |########################| Elapsed Time: 0:00:47 Time:  0:00:47\n"
          ],
          "name": "stderr"
        },
        {
          "output_type": "stream",
          "text": [
            "Average PER 0.815812096619695\n",
            "Average loss : 3.6697291987282887\n",
            "-------------------\n",
            "\n",
            "Learning rate reached critical point, Aborting\n",
            "loading best model with CER  0.7499062340377952\n"
          ],
          "name": "stdout"
        }
      ]
    },
    {
      "cell_type": "code",
      "metadata": {
        "id": "sbVqIFSMkTXW",
        "colab_type": "code",
        "colab": {
          "base_uri": "https://localhost:8080/",
          "height": 85
        },
        "outputId": "732c2890-993a-4561-c82e-f75bd966d784"
      },
      "source": [
        "get_cer(data_loader_test_letters,character_classifier)"
      ],
      "execution_count": null,
      "outputs": [
        {
          "output_type": "stream",
          "text": [
            "\r                                                                               \r\rN/A% (0 of 246) |                        | Elapsed Time: 0:00:00 ETA:  --:--:--"
          ],
          "name": "stderr"
        },
        {
          "output_type": "stream",
          "text": [
            "Starting the PER computation through beam search\n"
          ],
          "name": "stdout"
        },
        {
          "output_type": "stream",
          "text": [
            "100% (246 of 246) |######################| Elapsed Time: 0:04:20 Time:  0:04:20\n"
          ],
          "name": "stderr"
        },
        {
          "output_type": "stream",
          "text": [
            "Average PER 0.7487240674442\n"
          ],
          "name": "stdout"
        },
        {
          "output_type": "execute_result",
          "data": {
            "text/plain": [
              "0.7487240674442"
            ]
          },
          "metadata": {
            "tags": []
          },
          "execution_count": 43
        }
      ]
    },
    {
      "cell_type": "code",
      "metadata": {
        "id": "OG7FT9twanqQ",
        "colab_type": "code",
        "colab": {
          "base_uri": "https://localhost:8080/",
          "height": 1000
        },
        "outputId": "d552ad3f-0eb9-4265-ddf2-48ba7b6fd5f4"
      },
      "source": [
        "import matplotlib.pyplot as plt\n",
        "%matplotlib inline\n",
        "plt.figure(num=None, figsize=(12, 8), dpi=80, facecolor='w', edgecolor='k')\n",
        "\n",
        "x = list(range(len(losses_train)))\n",
        "plt.plot(x,losses_train, label=\"Train loss\")\n",
        "plt.plot(x,losses_val, label=\"Validation loss\")\n",
        "plt.legend(loc=\"upper right\")\n",
        "############################################\n",
        "plt.figure(num=None, figsize=(12, 8), dpi=80, facecolor='w', edgecolor='k')\n",
        "\n",
        "x = list(range(len(cer_val)))\n",
        "plt.plot(x,cer_val, label=\"CER\")\n",
        "plt.legend(loc=\"upper right\")"
      ],
      "execution_count": null,
      "outputs": [
        {
          "output_type": "execute_result",
          "data": {
            "text/plain": [
              "<matplotlib.legend.Legend at 0x7f767678af28>"
            ]
          },
          "metadata": {
            "tags": []
          },
          "execution_count": 44
        },
        {
          "output_type": "display_data",
          "data": {
            "image/png": "[encoded data removed]",
            "text/plain": [
              "<Figure size 960x640 with 1 Axes>"
            ]
          },
          "metadata": {
            "tags": []
          }
        },
        {
          "output_type": "display_data",
          "data": {
            "image/png": "[encoded data removed]",
            "text/plain": [
              "<Figure size 960x640 with 1 Axes>"
            ]
          },
          "metadata": {
            "tags": []
          }
        }
      ]
    },
    {
      "cell_type": "markdown",
      "metadata": {
        "id": "f-9S39FcB8Va",
        "colab_type": "text"
      },
      "source": [
        "# New Section"
      ]
    },
    {
      "cell_type": "markdown",
      "metadata": {
        "id": "sYvbqN87VNFY",
        "colab_type": "text"
      },
      "source": [
        ""
      ]
    }
  ]
}